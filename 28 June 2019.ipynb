{
 "cells": [
  {
   "cell_type": "markdown",
   "metadata": {},
   "source": [
    "### Day Objectives\n",
    "\n",
    "- Maps\n",
    "- Lambda\n",
    "- Filter\n",
    "- Use Cases - File/ Data Encryption"
   ]
  },
  {
   "cell_type": "markdown",
   "metadata": {},
   "source": [
    "### Map\n",
    "\n",
    "Mapping - Entity with Function\n",
    "\n",
    "f : x^2 + 3*x + 9\n",
    "\n",
    "x : [1,10]\n",
    "f(x) -> "
   ]
  },
  {
   "cell_type": "code",
   "execution_count": 10,
   "metadata": {},
   "outputs": [
    {
     "data": {
      "text/plain": [
       "16"
      ]
     },
     "execution_count": 10,
     "metadata": {},
     "output_type": "execute_result"
    }
   ],
   "source": [
    "def powerN(a, n):\n",
    "    #return a**n\n",
    "    r = 1\n",
    "    for i in range(0,n):\n",
    "        r *= a\n",
    "    return r\n",
    "    \n",
    "powerN(2,3)\n",
    "\n",
    "def recursivePowerN(a, n):\n",
    "    if n == 0:\n",
    "        return 1\n",
    "    else:\n",
    "        return a * recursivePowerN(a, n-1)\n",
    "recursivePowerN(2,4)"
   ]
  },
  {
   "cell_type": "code",
   "execution_count": 11,
   "metadata": {},
   "outputs": [
    {
     "name": "stdout",
     "output_type": "stream",
     "text": [
      "8\n"
     ]
    }
   ],
   "source": [
    "print(powerN(2,3))"
   ]
  },
  {
   "cell_type": "code",
   "execution_count": 30,
   "metadata": {},
   "outputs": [
    {
     "data": {
      "text/plain": [
       "{1860867}"
      ]
     },
     "execution_count": 30,
     "metadata": {},
     "output_type": "execute_result"
    }
   ],
   "source": [
    "def cube(n):\n",
    "    return n ** 3\n",
    "\n",
    "li = [1,2,3,4,5,6]\n",
    "set(map(cube, [123]))"
   ]
  },
  {
   "cell_type": "code",
   "execution_count": 34,
   "metadata": {},
   "outputs": [
    {
     "name": "stdout",
     "output_type": "stream",
     "text": [
      "[1, 2, 3, 4, 5, 6]\n"
     ]
    },
    {
     "data": {
      "text/plain": [
       "{1, 8, 27, 64, 125, 216}"
      ]
     },
     "execution_count": 34,
     "metadata": {},
     "output_type": "execute_result"
    }
   ],
   "source": [
    "def cube(n):\n",
    "    return n ** 3\n",
    "\n",
    "li = ['1','2','3','4','5','6']\n",
    "li2=list(map(int, li))\n",
    "print(li2)\n",
    "set(map(cube, li2))"
   ]
  },
  {
   "cell_type": "code",
   "execution_count": 35,
   "metadata": {},
   "outputs": [
    {
     "data": {
      "text/plain": [
       "{1.0, 2.0, 3.0, 4.0, 5.0, 6.0}"
      ]
     },
     "execution_count": 35,
     "metadata": {},
     "output_type": "execute_result"
    }
   ],
   "source": [
    "def cube(n):\n",
    "    return n ** 3\n",
    "\n",
    "li = li = ['1','2','3','4','5','6']\n",
    "set(map(float, li))"
   ]
  },
  {
   "cell_type": "code",
   "execution_count": 91,
   "metadata": {},
   "outputs": [
    {
     "data": {
      "text/plain": [
       "[1, 8, 27, 64, 125, 216, 729]"
      ]
     },
     "execution_count": 91,
     "metadata": {},
     "output_type": "execute_result"
    }
   ],
   "source": [
    "li = ['1','2','3','4','5','6','9']\n",
    "li2 = list(map(int, li))\n",
    "tuple(map(float,li2))\n",
    "numbers = [int(i) for i in li]\n",
    "numbers1= [cube(i) for i in numbers]\n",
    "numbers1"
   ]
  },
  {
   "cell_type": "markdown",
   "metadata": {},
   "source": [
    "### Filter\n",
    "\n",
    "Used to check boolean True Values"
   ]
  },
  {
   "cell_type": "code",
   "execution_count": 52,
   "metadata": {},
   "outputs": [
    {
     "data": {
      "text/plain": [
       "['a', 'b', 'c']"
      ]
     },
     "execution_count": 52,
     "metadata": {},
     "output_type": "execute_result"
    }
   ],
   "source": [
    "li = [1,2,'a','b','c',3]\n",
    "def isDigit(c):\n",
    "    c = str(c)\n",
    "    if c.isalpha():\n",
    "        return True\n",
    "    return False\n",
    "\n",
    "#isDigit('a')\n",
    "list(filter(isDigit, li))"
   ]
  },
  {
   "cell_type": "code",
   "execution_count": 83,
   "metadata": {},
   "outputs": [
    {
     "name": "stdout",
     "output_type": "stream",
     "text": [
      "[2, 3, 5, 7, 11, 13, 17, 19, 23, 29, 31, 37, 41, 43, 47, 53, 59, 61, 67, 71, 73, 79, 83, 89, 97] [2, 3, 5, 7, 11, 13, 17, 19, 23, 29, 31, 37, 41, 43, 47, 53, 59, 61, 67, 71, 73, 79, 83, 89, 97] "
     ]
    }
   ],
   "source": [
    "# Identify all Primes in a range using filters\n",
    "def isPrime(n):\n",
    "    if n > 1:\n",
    "        for i in range(2,n):\n",
    "            if (n % i) == 0:\n",
    "                return False\n",
    "        return True\n",
    "#isPrime(3)\n",
    "lb, ub = 1, 100\n",
    "PrimeList = list(filter(isPrime, range(lb, ub)))\n",
    "\n",
    "primeList2 = [i for i in range(lb,ub) if isPrime(i)]\n",
    "\n",
    "list(map(isPrime,range(1,100)))\n",
    "print(PrimeList, end = ' ')\n",
    "print(primeList2, end = ' ')"
   ]
  },
  {
   "cell_type": "markdown",
   "metadata": {},
   "source": [
    "### Lambda\n",
    "\n",
    "Anonymous Function \n",
    "\n",
    "Can be embedded into List Comprhensions, Maps, Filters\n"
   ]
  },
  {
   "cell_type": "code",
   "execution_count": 92,
   "metadata": {},
   "outputs": [
    {
     "name": "stdout",
     "output_type": "stream",
     "text": [
      "['False', 'None', 'True', 'and', 'as', 'assert', 'async', 'await', 'break', 'class', 'continue', 'def', 'del', 'elif', 'else', 'except', 'finally', 'for', 'from', 'global', 'if', 'import', 'in', 'is', 'lambda', 'nonlocal', 'not', 'or', 'pass', 'raise', 'return', 'try', 'while', 'with', 'yield']\n"
     ]
    }
   ],
   "source": [
    "import keyword\n",
    "print(keyword.kwlist)"
   ]
  },
  {
   "cell_type": "code",
   "execution_count": 105,
   "metadata": {},
   "outputs": [
    {
     "data": {
      "text/plain": [
       "[2, 4, 6]"
      ]
     },
     "execution_count": 105,
     "metadata": {},
     "output_type": "execute_result"
    }
   ],
   "source": [
    "a  = lambda x: x ** 3\n",
    "\n",
    "list(map(lambda x:x**3, [1,2,3,4,5,6]))\n",
    "list(filter(lambda x:x%2==0,[1,2,3,4,5,6]))"
   ]
  },
  {
   "cell_type": "code",
   "execution_count": 3,
   "metadata": {},
   "outputs": [
    {
     "name": "stdout",
     "output_type": "stream",
     "text": [
      "[6, 16, 8, 13, 14, 19, 1, 20, 20, 13]\n",
      "[2, 2, 0, 23, 2, 5, 14, 8, 19, 15]\n",
      "[7, 9, 7, 12, 9, 10, 8, 9, 14, 11]\n",
      "[7, 9, 7, 9, 10, 8, 9, 11]\n"
     ]
    }
   ],
   "source": [
    "import random\n",
    "internal1 = [random.randint(0,25) for i in range (10)]\n",
    "internal2 = [random.randint(0,25) for i in range (10)]\n",
    "internal3 = [random.randint(0,25) for i in range (10)]\n",
    "print(internal1)\n",
    "print(internal2)\n",
    "\n",
    "averageInternal = list(map(lambda x,y,z: (x+y+z)//3, internal1, internal2,internal3))\n",
    "print(averageInternal)\n",
    "failedmarks = list(filter(lambda x: x<12, averageInternal))\n",
    "print(failedmarks)"
   ]
  },
  {
   "cell_type": "code",
   "execution_count": null,
   "metadata": {},
   "outputs": [],
   "source": []
  },
  {
   "cell_type": "markdown",
   "metadata": {},
   "source": [
    "### Applying Functional Programming to the marks Analysis Application"
   ]
  },
  {
   "cell_type": "code",
   "execution_count": 58,
   "metadata": {},
   "outputs": [],
   "source": [
    "# Generate Marks Data\n",
    "from  random import randint\n",
    "\n",
    "def generateMarks(n, lb, ub):\n",
    "    filepath = \"DataFiles/marks.txt\"\n",
    "    with open(filepath, \"w\") as f:\n",
    "        for i in range(n):\n",
    "            marks = randint(lb, ub)\n",
    "            file = f.write(str(marks)+'\\n')\n",
    "    return\n",
    "generateMarks(100, 0, 100)           \n",
    "        "
   ]
  },
  {
   "cell_type": "code",
   "execution_count": 59,
   "metadata": {},
   "outputs": [
    {
     "data": {
      "text/plain": [
       "[16,\n",
       " 36,\n",
       " 99,\n",
       " 10,\n",
       " 23,\n",
       " 62,\n",
       " 30,\n",
       " 79,\n",
       " 79,\n",
       " 9,\n",
       " 64,\n",
       " 90,\n",
       " 1,\n",
       " 83,\n",
       " 74,\n",
       " 23,\n",
       " 36,\n",
       " 82,\n",
       " 86,\n",
       " 7,\n",
       " 18,\n",
       " 18,\n",
       " 86,\n",
       " 48,\n",
       " 72,\n",
       " 54,\n",
       " 51,\n",
       " 40,\n",
       " 39,\n",
       " 27,\n",
       " 7,\n",
       " 65,\n",
       " 22,\n",
       " 10,\n",
       " 67,\n",
       " 3,\n",
       " 89,\n",
       " 13,\n",
       " 87,\n",
       " 70,\n",
       " 33,\n",
       " 54,\n",
       " 48,\n",
       " 82,\n",
       " 30,\n",
       " 43,\n",
       " 7,\n",
       " 29,\n",
       " 25,\n",
       " 20,\n",
       " 71,\n",
       " 81,\n",
       " 0,\n",
       " 36,\n",
       " 5,\n",
       " 73,\n",
       " 0,\n",
       " 96,\n",
       " 27,\n",
       " 17,\n",
       " 43,\n",
       " 25,\n",
       " 26,\n",
       " 43,\n",
       " 78,\n",
       " 5,\n",
       " 43,\n",
       " 47,\n",
       " 72,\n",
       " 75,\n",
       " 88,\n",
       " 96,\n",
       " 29,\n",
       " 97,\n",
       " 11,\n",
       " 91,\n",
       " 7,\n",
       " 83,\n",
       " 96,\n",
       " 52,\n",
       " 4,\n",
       " 71,\n",
       " 33,\n",
       " 76,\n",
       " 70,\n",
       " 67,\n",
       " 7,\n",
       " 70,\n",
       " 37,\n",
       " 46,\n",
       " 23,\n",
       " 68,\n",
       " 67,\n",
       " 25,\n",
       " 73,\n",
       " 82,\n",
       " 17,\n",
       " 56,\n",
       " 49,\n",
       " 63]"
      ]
     },
     "execution_count": 59,
     "metadata": {},
     "output_type": "execute_result"
    }
   ],
   "source": [
    "def readMarksList(filepath):\n",
    "    with open(filepath, 'r') as f:\n",
    "        filedata = f.read().split()\n",
    "    return list(map(int, filedata))\n",
    "\n",
    "filepath = 'DataFiles/marks.txt' \n",
    "readMarksList(filepath)"
   ]
  },
  {
   "cell_type": "code",
   "execution_count": 60,
   "metadata": {},
   "outputs": [
    {
     "data": {
      "text/plain": [
       "47"
      ]
     },
     "execution_count": 60,
     "metadata": {},
     "output_type": "execute_result"
    }
   ],
   "source": [
    "# Marks Analysis\n",
    "# Class Average, % Passed , % Failed and Distinction \n",
    "# Frequency of Highest & Lowest mark\n",
    "#import re\n",
    "def ClassAverage(filepath):\n",
    "    with open(filepath, 'r') as f:\n",
    "        filedata = f.read().split()\n",
    "        #markslist = filedata.split('\\n')\n",
    "    markslist = list(map(int, filedata))\n",
    "    return sum(markslist)//len(markslist)\n",
    "\n",
    "filepath = 'DataFiles/marks.txt'       \n",
    "ClassAverage(filepath)"
   ]
  },
  {
   "cell_type": "code",
   "execution_count": 61,
   "metadata": {},
   "outputs": [
    {
     "data": {
      "text/plain": [
       "44.0"
      ]
     },
     "execution_count": 61,
     "metadata": {},
     "output_type": "execute_result"
    }
   ],
   "source": [
    "def percentageFailed(filepath):\n",
    "    markslist = readMarksList(filepath)\n",
    "    failedcount = len(list(filter(lambda mark: mark<40, markslist)))\n",
    "    return (failedcount/len(markslist))/(1/100)\n",
    "percentageFailed(filepath)"
   ]
  },
  {
   "cell_type": "code",
   "execution_count": 62,
   "metadata": {},
   "outputs": [
    {
     "data": {
      "text/plain": [
       "56.00000000000001"
      ]
     },
     "execution_count": 62,
     "metadata": {},
     "output_type": "execute_result"
    }
   ],
   "source": [
    "def percentagePassed(filepath):\n",
    "    markslist = readMarksList(filepath)\n",
    "    passedcount = len(list(filter(lambda mark: mark >=40, markslist)))\n",
    "    return (passedcount/len(markslist))/(1/100)\n",
    "percentagePassed(filepath)"
   ]
  },
  {
   "cell_type": "code",
   "execution_count": 63,
   "metadata": {},
   "outputs": [
    {
     "data": {
      "text/plain": [
       "33.0"
      ]
     },
     "execution_count": 63,
     "metadata": {},
     "output_type": "execute_result"
    }
   ],
   "source": [
    "def percentageDistinction(filepath):\n",
    "    markslist = readMarksList(filepath)\n",
    "    Distinctioncount = len(list(filter(lambda mark: mark >= 70, markslist)))\n",
    "    return (Distinctioncount/len(markslist))*100\n",
    "percentageDistinction(filepath)"
   ]
  },
  {
   "cell_type": "code",
   "execution_count": 64,
   "metadata": {},
   "outputs": [
    {
     "data": {
      "text/plain": [
       "[1, 99]"
      ]
     },
     "execution_count": 64,
     "metadata": {},
     "output_type": "execute_result"
    }
   ],
   "source": [
    "def highestMarkFreq(filepath):\n",
    "    markslist = readMarksList(filepath)\n",
    "    return [markslist.count(max(markslist)), max(markslist)]\n",
    "highestMarkFreq(filepath)"
   ]
  },
  {
   "cell_type": "code",
   "execution_count": 65,
   "metadata": {},
   "outputs": [
    {
     "data": {
      "text/plain": [
       "[2, 0]"
      ]
     },
     "execution_count": 65,
     "metadata": {},
     "output_type": "execute_result"
    }
   ],
   "source": [
    "def lowestMarkFreq(filepath):\n",
    "    markslist = readMarksList(filepath)\n",
    "    return [markslist.count(min(markslist)), min(markslist)]\n",
    "lowestMarkFreq(filepath)"
   ]
  },
  {
   "cell_type": "code",
   "execution_count": null,
   "metadata": {},
   "outputs": [],
   "source": []
  },
  {
   "cell_type": "markdown",
   "metadata": {},
   "source": [
    "### Data Encryption\n",
    "\n",
    "Key - Mapping of charecter with replacing charecter\n",
    "\n",
    "\n",
    "0 -> 4\n",
    "1 -> 5\n",
    "2 -> 6\n",
    "3 -> 7\n",
    "4 -> 8\n",
    "5 -> 9\n",
    "6 -> 0\n",
    "7 -> 1\n",
    "8 -> 2\n",
    "9 -> 3"
   ]
  },
  {
   "cell_type": "code",
   "execution_count": 12,
   "metadata": {},
   "outputs": [],
   "source": [
    "# Function to generate key for encryption\n",
    "keypath = 'DataFiles/key.txt'\n",
    "\n",
    "def generateKey(keypath):\n",
    "    with open(keypath, 'w') as f:\n",
    "        for i in range(10):\n",
    "            if i < 2:\n",
    "                f.write(str(i) + ' ' + str(i + 8) +'\\n')\n",
    "            else:\n",
    "                f.write(str(i) + ' ' + str(i-2) + '\\n')\n",
    "    return \n",
    "generateKey(keypath)"
   ]
  },
  {
   "cell_type": "code",
   "execution_count": 13,
   "metadata": {},
   "outputs": [
    {
     "data": {
      "text/plain": [
       "{'0': '8',\n",
       " '1': '9',\n",
       " '2': '0',\n",
       " '3': '1',\n",
       " '4': '2',\n",
       " '5': '3',\n",
       " '6': '4',\n",
       " '7': '5',\n",
       " '8': '6',\n",
       " '9': '7'}"
      ]
     },
     "execution_count": 13,
     "metadata": {},
     "output_type": "execute_result"
    }
   ],
   "source": [
    "# Function to encrypt a data file\n",
    "keyfile = 'DataFiles/key.txt'\n",
    "def dictionaryKeyFile(keyfile) :\n",
    "    key = {}\n",
    "    with open(keyfile, 'r') as f:\n",
    "        for line in f:\n",
    "            line = line.split()\n",
    "            key[line[0]] = line[1]\n",
    "    return key\n",
    "dictionaryKeyFile(keyfile)    \n"
   ]
  },
  {
   "cell_type": "code",
   "execution_count": 14,
   "metadata": {},
   "outputs": [],
   "source": [
    "def encryptMarksData(datafile, keyfile):\n",
    "    key = dictionaryKeyFile(keyfile)\n",
    "    with open(datafile, 'r') as f:\n",
    "        filedata = f.read().split('\\n')\n",
    "        \n",
    "    with open('DataFiles/encryptedMarks.txt', 'w') as f:\n",
    "        for mark in filedata:\n",
    "            line = ''\n",
    "            for n in mark:\n",
    "                line += key[n]\n",
    "            f.write(line + '\\n')\n",
    "    return      \n",
    "                \n",
    "datafile = 'DataFiles/marks.txt'\n",
    "encryptMarksData(datafile, keyfile)"
   ]
  },
  {
   "cell_type": "code",
   "execution_count": 18,
   "metadata": {},
   "outputs": [],
   "source": [
    "# Function to decrypt an encrypted file\n",
    "def decryptMarksData(encryptedfile, keyfile):\n",
    "    key = dictionaryKeyFile(keyfile)\n",
    "    newkey = {}\n",
    "    for key, value in key.items():\n",
    "        newkey[value] = key\n",
    "    with open(encryptedfile, 'r') as f:\n",
    "        encrypteddata = f.read().split('\\n')\n",
    "        \n",
    "    with open('DataFiles/decryptedMarks.txt', 'w') as f:\n",
    "        for encryptedmark in encrypteddata:\n",
    "            line = ''\n",
    "            for j in encryptedmark:\n",
    "                line += newkey[j]\n",
    "            f.write(line + '\\n')\n",
    "    return      \n",
    "                \n",
    "encryptedfile = 'DataFiles/encryptedMarks.txt'\n",
    "decryptMarksData(encryptedfile, keyfile)"
   ]
  },
  {
   "cell_type": "code",
   "execution_count": 17,
   "metadata": {},
   "outputs": [],
   "source": [
    "\n",
    "def decryptMarksData1(datafile,keyfile):\n",
    "    key = dictionaryKeyFile(keyfile)\n",
    "    newkey={}\n",
    "    for key,value in key.items():\n",
    "        newkey[value]=key\n",
    "    with open(datafile,'r') as f:\n",
    "        filedata=f.read().split('\\n')\n",
    "    with open(\"Datafiles/decryptMarks.txt\",'w') as f:\n",
    "        for mark in filedata:\n",
    "            line=''\n",
    "            for n in mark:\n",
    "                line+=newkey[n]\n",
    "            f.write(line+'\\n')\n",
    "    return\n",
    "datafile=\"Datafiles/encryptedMarks.txt\"\n",
    "decryptMarksData1(datafile,keyfile)"
   ]
  },
  {
   "cell_type": "code",
   "execution_count": 26,
   "metadata": {},
   "outputs": [
    {
     "data": {
      "text/plain": [
       "{'0', '1', '2', '3', '4', '5', '6', '7', '8', '9'}"
      ]
     },
     "execution_count": 26,
     "metadata": {},
     "output_type": "execute_result"
    }
   ],
   "source": [
    "keyfile = 'DataFiles/key.txt'\n",
    "key = dictionaryKeyFile(keyfile)\n",
    "\n",
    "#evenkeys = {item for item in key.items() if int(item[0])%2 == 0}\n",
    "evenkeys = {item for item in key}\n",
    "evenkeys"
   ]
  },
  {
   "cell_type": "code",
   "execution_count": 7,
   "metadata": {},
   "outputs": [
    {
     "name": "stdout",
     "output_type": "stream",
     "text": [
      "1 4\n",
      "{1: 4, 2: 1, 3: 1, 4: 1, 5: 1, 6: 1, 7: 1, 8: 1}\n"
     ]
    }
   ],
   "source": [
    "li = [1,2,3,4,5,6,7,8,1,1,1]\n",
    "di = {}\n",
    "for i in li:\n",
    "    if i not in di:\n",
    "        di[i] = 1\n",
    "    else:\n",
    "        di[i] += 1\n",
    "a= max(di.values())\n",
    "for j in di.items():\n",
    "    if a == j[1]:\n",
    "        print(j[0], a)\n",
    "        \n",
    "print(di)"
   ]
  },
  {
   "cell_type": "code",
   "execution_count": null,
   "metadata": {},
   "outputs": [],
   "source": []
  }
 ],
 "metadata": {
  "kernelspec": {
   "display_name": "Python 3",
   "language": "python",
   "name": "python3"
  },
  "language_info": {
   "codemirror_mode": {
    "name": "ipython",
    "version": 3
   },
   "file_extension": ".py",
   "mimetype": "text/x-python",
   "name": "python",
   "nbconvert_exporter": "python",
   "pygments_lexer": "ipython3",
   "version": "3.7.3"
  }
 },
 "nbformat": 4,
 "nbformat_minor": 2
}
