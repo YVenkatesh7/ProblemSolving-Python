{
 "cells": [
  {
   "cell_type": "code",
   "execution_count": 19,
   "metadata": {},
   "outputs": [
    {
     "name": "stdout",
     "output_type": "stream",
     "text": [
      "[1, 1, 2, 9, 10]\n",
      "1\n"
     ]
    }
   ],
   "source": [
    "# closet to Zero print values\n",
    "\"\"\"\n",
    "1.li=[3,2,-1,-2,-3] [original list]\n",
    "- sort the data\n",
    "li = [-3,-3,-1,2,3] (sorted list)\n",
    "pl=[1,2,2,3,3](positive sorted)\n",
    "if pl[0] in l:\n",
    "    return pl[0]\n",
    "else:\n",
    "\"\"\"\n",
    "li = [-1,-2,1,-10,9]\n",
    "li.sort()\n",
    "pl = []\n",
    "\n",
    "for i in li:\n",
    "    pl.append(abs(i))\n",
    "pl.sort()\n",
    "print(pl)\n",
    "if pl[0] in li:\n",
    "    print(pl[0])\n",
    "else:\n",
    "    print(-pl[0])\n"
   ]
  },
  {
   "cell_type": "code",
   "execution_count": 3,
   "metadata": {},
   "outputs": [
    {
     "name": "stdout",
     "output_type": "stream",
     "text": [
      "ama\n",
      "YES\n"
     ]
    }
   ],
   "source": [
    "def palindrome(string):\n",
    "    if (string == string[::-1]):\n",
    "        print(\"YES\")\n",
    "    else:\n",
    "        print(\"NO\")\n",
    "name = input()\n",
    "palindrome(name)"
   ]
  },
  {
   "cell_type": "markdown",
   "metadata": {},
   "source": [
    "##### given 3 numbers a, b,c.write a program to find the largest numbers\n",
    "#### which is less than or equal to c and leaves reminder b when divided by a\n",
    "\n",
    "c%a==b\n",
    "\n",
    "\n",
    "\n",
    "\n",
    "\n",
    "\n",
    "\n",
    "\n",
    "\n"
   ]
  },
  {
   "cell_type": "code",
   "execution_count": 24,
   "metadata": {},
   "outputs": [
    {
     "data": {
      "text/plain": [
       "98"
      ]
     },
     "execution_count": 24,
     "metadata": {},
     "output_type": "execute_result"
    }
   ],
   "source": [
    "def cal(a, b, c):\n",
    "    for i in range(c,a-1,-1):\n",
    "        if i% a==b:\n",
    "            return i\n",
    "    return -1\n",
    "cal(3,2,100)"
   ]
  },
  {
   "cell_type": "code",
   "execution_count": 12,
   "metadata": {},
   "outputs": [
    {
     "name": "stdout",
     "output_type": "stream",
     "text": [
      "xgzhdsjkhjklGHJKL\n"
     ]
    },
    {
     "data": {
      "text/plain": [
       "' XGZHDSJKHJKLghjkl'"
      ]
     },
     "execution_count": 12,
     "metadata": {},
     "output_type": "execute_result"
    }
   ],
   "source": [
    "#upper to lower and lower to upper Toggle String\n",
    "def upperToLowerLowerToUpper(name):\n",
    "    words=\" \"\n",
    "    for word in name:\n",
    "        if word.isupper() == True:\n",
    "            words+=word.lower()\n",
    "        else:\n",
    "            words+=word.upper()\n",
    "    return words\n",
    "name = input()\n",
    "upperToLowerLowerToUpper(name)"
   ]
  },
  {
   "cell_type": "code",
   "execution_count": 13,
   "metadata": {},
   "outputs": [
    {
     "name": "stdout",
     "output_type": "stream",
     "text": [
      "ama\n",
      "YES\n"
     ]
    }
   ],
   "source": [
    "# Palindrome\n",
    "def Palindrome(name):\n",
    "    if (name==name[::-1]):\n",
    "        print(\"YES\")\n",
    "    else:\n",
    "        print(\"NO\")\n",
    "name = input()\n",
    "Palindrome(name)"
   ]
  },
  {
   "cell_type": "code",
   "execution_count": 31,
   "metadata": {},
   "outputs": [
    {
     "name": "stdout",
     "output_type": "stream",
     "text": [
      "2 3 5 7 11 13 17 19 23 29 31 37 41 43 47 53 59 61 67 71 73 79 83 89 97 "
     ]
    }
   ],
   "source": [
    "# prime Numbers\n",
    "def p(l,u):\n",
    "    for num in range(l,u + 1):\n",
    "        if num > 1:\n",
    "            for i in range(2, num):\n",
    "                if (num % i) == 0:\n",
    "                    break\n",
    "            else:\n",
    "                print(num, end = ' ')\n",
    "p(1,100)"
   ]
  },
  {
   "cell_type": "code",
   "execution_count": null,
   "metadata": {},
   "outputs": [
    {
     "name": "stdout",
     "output_type": "stream",
     "text": [
      "3\n",
      "abc cb\n",
      "NO\n"
     ]
    }
   ],
   "source": [
    "# Two Strings\n",
    "def twoStrings(n):\n",
    "    for i in range(1,n+1):\n",
    "        S=input()\n",
    "        S=S.split()\n",
    "        s1=S[0]\n",
    "        s2=S[1]\n",
    "        if (sorted(s1)==sorted(s2)):\n",
    "            print(\"YES\")\n",
    "        else:\n",
    "            print(\"NO\")\n",
    "n=int(input())\n",
    "twoStrings(n)"
   ]
  },
  {
   "cell_type": "code",
   "execution_count": 1,
   "metadata": {},
   "outputs": [
    {
     "name": "stdout",
     "output_type": "stream",
     "text": [
      "aba\n"
     ]
    },
    {
     "data": {
      "text/plain": [
       "4"
      ]
     },
     "execution_count": 1,
     "metadata": {},
     "output_type": "execute_result"
    }
   ],
   "source": [
    "# Char Sum\n",
    "def weightOfAlpha(s):\n",
    "    sum=0\n",
    "    for i in range(0,len(s)):\n",
    "        w=(ord(s[i])-96)\n",
    "        sum=sum+w\n",
    "    return sum\n",
    "s=input()\n",
    "weightOfAlpha(s)"
   ]
  },
  {
   "cell_type": "code",
   "execution_count": 40,
   "metadata": {},
   "outputs": [
    {
     "data": {
      "text/plain": [
       "['c', 'd', 's']"
      ]
     },
     "execution_count": 40,
     "metadata": {},
     "output_type": "execute_result"
    }
   ],
   "source": [
    "# two Strings \n",
    "# Write your code here\n",
    "S='sdc dsc'\n",
    "S=S.split()\n",
    "s1=S[0]\n",
    "s2=S[1]\n",
    "'''sm1=0\n",
    "for ch in s1:\n",
    "    sm1+=ord(ch)\n",
    "sm2=0\n",
    "for ch in s2:\n",
    "    sm2+=ord(ch)\n",
    "print(sm2)'''\n",
    "sorted(s2)\n",
    "sorted(s1)\n",
    "if sorted(s1) == sorted(s2):\n",
    "    print(\"YES\")\n",
    "else:\n",
    "    print(\"NO\")"
   ]
  },
  {
   "cell_type": "code",
   "execution_count": 1,
   "metadata": {},
   "outputs": [
    {
     "name": "stdout",
     "output_type": "stream",
     "text": [
      "1\n",
      "1 44 2 14\n",
      "0 30\n",
      "2 42 8 23\n",
      "5 41\n"
     ]
    }
   ],
   "source": [
    "# Duration of work\n",
    "\n",
    "def durationOfWork(n):\n",
    "    for i in range(0,n+1):\n",
    "        t = input()\n",
    "        t= t.split()\n",
    "        h1=int(t[0])\n",
    "        m1=int(t[1])\n",
    "        h2=int(t[2])\n",
    "        m2=int(t[3])\n",
    "        if (h2>h1):\n",
    "            res=((h2*60)+m2) - ((h1*60)+m1)\n",
    "            if (res<60):\n",
    "                hrs=0\n",
    "                mins=res\n",
    "                print(hrs, mins)\n",
    "            else:\n",
    "                mins=res%60\n",
    "                hrs=res//60\n",
    "                print(hrs,mins)\n",
    "n=int(input())\n",
    "durationOfWork(n)"
   ]
  },
  {
   "cell_type": "code",
   "execution_count": null,
   "metadata": {},
   "outputs": [],
   "source": [
    "# Play With Numbers\n"
   ]
  },
  {
   "cell_type": "code",
   "execution_count": 7,
   "metadata": {},
   "outputs": [
    {
     "name": "stdout",
     "output_type": "stream",
     "text": [
      "2\n",
      "1 44 2 14\n",
      "2 42 8 23\n",
      "5 41\n"
     ]
    }
   ],
   "source": [
    "# Duration\n",
    "\n",
    "def minuteDifference(s):\n",
    "    s = s.split()\n",
    "    sh = int(s[0])\n",
    "    sm = int(s[1])\n",
    "    eh = int(s[2])\n",
    "    em = int(s[3])\n",
    "    startminutes = (sh * 60) + sm\n",
    "    endminutes = (eh * 60) + em\n",
    "    return endminutes - startminutes\n",
    "def outputTimeFormat(minutes):\n",
    "    hh = minutes//60\n",
    "    mm = minutes%60\n",
    "    print(hh, mm)\n",
    "    return \n",
    "n=int(input())\n",
    "for i in range(1,n+1):\n",
    "    s = input()\n",
    "minutes=minuteDifference(s)\n",
    "outputTimeFormat(minutes)"
   ]
  },
  {
   "cell_type": "code",
   "execution_count": null,
   "metadata": {},
   "outputs": [],
   "source": [
    "# play with numbers\n",
    "\n",
    "\n",
    "# read no of arry elements and no of quries\n",
    "n = input().split()\n",
    "n[0],n[1] = int(n[0]), int(n[1])\n",
    "\n",
    "# read the arry limits\n",
    "a = input().split()\n",
    "sum = [] # initilize cumulative sum array\n",
    "\n",
    "# cumulative\n",
    "for i in range(0, n[0]):\n",
    "    if i == 0:\n",
    "        sum.append(int(a[i]))\n",
    "    else:\n",
    "        sum.append(int(sum[i-1])+int(a[i]))# sum of first elements\n",
    "\n",
    "del a\n",
    "for k in range(0, n[1]):\n",
    "    inq = input().split()\n",
    "    i = int(inq[0])\n",
    "    j = int(inq[1])\n",
    "    if i > 1:\n",
    "        print(sum[j-1] - sum[i-2]) // (j-i+1)\n",
    "    else:\n",
    "        print(sum[j-1] // (j-i+1))\n"
   ]
  },
  {
   "cell_type": "code",
   "execution_count": 10,
   "metadata": {},
   "outputs": [
    {
     "name": "stdout",
     "output_type": "stream",
     "text": [
      "1\n",
      "8\n"
     ]
    }
   ],
   "source": [
    "string='aZ$2sdfghj'\n",
    "count1=0\n",
    "count2=0\n",
    "for i in string:\n",
    "    if(i.isdigit()):\n",
    "        count1=count1+1\n",
    "    elif(i.isalpha()):\n",
    "        count2=count2+1\n",
    "print(count1)\n",
    "print(count2)"
   ]
  },
  {
   "cell_type": "code",
   "execution_count": 1,
   "metadata": {},
   "outputs": [
    {
     "name": "stdout",
     "output_type": "stream",
     "text": [
      "hello\n"
     ]
    }
   ],
   "source": [
    "print(\"hello\")"
   ]
  },
  {
   "cell_type": "code",
   "execution_count": null,
   "metadata": {},
   "outputs": [],
   "source": [
    "def patluMotu(n):\n",
    "    for i in range(1,n+1):\n",
    "        m=i\n",
    "        p=m*2\n",
    "        if (m+p == n):\n",
    "            break\n",
    "        else:\n",
    "            m+p="
   ]
  },
  {
   "cell_type": "code",
   "execution_count": 14,
   "metadata": {},
   "outputs": [
    {
     "name": "stdout",
     "output_type": "stream",
     "text": [
      "6\n",
      "1\n",
      "8\n",
      "98\n",
      "42\n"
     ]
    }
   ],
   "source": [
    "def lifeUniverse(n):\n",
    "    for num in range(1,n+1):\n",
    "        i = int(input())\n",
    "        if (i == 42):\n",
    "            break\n",
    "n = int(input())\n",
    "lifeUniverse(n)"
   ]
  },
  {
   "cell_type": "code",
   "execution_count": null,
   "metadata": {},
   "outputs": [
    {
     "name": "stdout",
     "output_type": "stream",
     "text": [
      "5\n",
      "5\n",
      "1\n",
      "1\n",
      "2\n",
      "2\n",
      "3\n",
      "3\n",
      "4\n",
      "4\n",
      "5\n",
      "5\n"
     ]
    }
   ],
   "source": [
    "while(True):\n",
    "    no = int(input())\n",
    "    if no == 42:\n",
    "        break\n",
    "    else :\n",
    "        print(no)"
   ]
  },
  {
   "cell_type": "code",
   "execution_count": 5,
   "metadata": {},
   "outputs": [
    {
     "name": "stdout",
     "output_type": "stream",
     "text": [
      "12X345-67\n"
     ]
    },
    {
     "ename": "IndexError",
     "evalue": "list index out of range",
     "output_type": "error",
     "traceback": [
      "\u001b[1;31m---------------------------------------------------------------------------\u001b[0m",
      "\u001b[1;31mIndexError\u001b[0m                                Traceback (most recent call last)",
      "\u001b[1;32m<ipython-input-5-f1e179206528>\u001b[0m in \u001b[0;36m<module>\u001b[1;34m\u001b[0m\n\u001b[0;32m      8\u001b[0m   \u001b[1;32mif\u001b[0m\u001b[1;33m(\u001b[0m\u001b[0mord\u001b[0m\u001b[1;33m(\u001b[0m\u001b[0mi\u001b[0m\u001b[1;33m)\u001b[0m\u001b[1;33m<=\u001b[0m\u001b[1;36m48\u001b[0m \u001b[1;32mand\u001b[0m \u001b[0mord\u001b[0m\u001b[1;33m(\u001b[0m\u001b[0mi\u001b[0m\u001b[1;33m)\u001b[0m\u001b[1;33m>=\u001b[0m\u001b[1;36m57\u001b[0m\u001b[1;33m)\u001b[0m\u001b[1;33m:\u001b[0m\u001b[1;33m\u001b[0m\u001b[1;33m\u001b[0m\u001b[0m\n\u001b[0;32m      9\u001b[0m     \u001b[0mb\u001b[0m\u001b[1;33m.\u001b[0m\u001b[0mappend\u001b[0m\u001b[1;33m(\u001b[0m\u001b[0mi\u001b[0m\u001b[1;33m)\u001b[0m\u001b[1;33m\u001b[0m\u001b[1;33m\u001b[0m\u001b[0m\n\u001b[1;32m---> 10\u001b[1;33m \u001b[1;32mif\u001b[0m\u001b[1;33m(\u001b[0m\u001b[1;33m(\u001b[0m\u001b[0mb\u001b[0m\u001b[1;33m[\u001b[0m\u001b[1;36m0\u001b[0m\u001b[1;33m]\u001b[0m\u001b[1;33m+\u001b[0m\u001b[0mb\u001b[0m\u001b[1;33m[\u001b[0m\u001b[1;36m1\u001b[0m\u001b[1;33m]\u001b[0m\u001b[1;33m)\u001b[0m\u001b[1;33m%\u001b[0m\u001b[1;36m2\u001b[0m\u001b[1;33m==\u001b[0m\u001b[1;36m0\u001b[0m\u001b[1;33m)\u001b[0m\u001b[1;33m:\u001b[0m\u001b[1;33m\u001b[0m\u001b[1;33m\u001b[0m\u001b[0m\n\u001b[0m\u001b[0;32m     11\u001b[0m   \u001b[0mf\u001b[0m\u001b[1;33m=\u001b[0m\u001b[0mf\u001b[0m\u001b[1;33m+\u001b[0m\u001b[1;36m1\u001b[0m\u001b[1;33m\u001b[0m\u001b[1;33m\u001b[0m\u001b[0m\n\u001b[0;32m     12\u001b[0m \u001b[1;32mif\u001b[0m\u001b[1;33m(\u001b[0m\u001b[1;33m(\u001b[0m\u001b[0mb\u001b[0m\u001b[1;33m[\u001b[0m\u001b[1;36m2\u001b[0m\u001b[1;33m]\u001b[0m\u001b[1;33m+\u001b[0m\u001b[0mb\u001b[0m\u001b[1;33m[\u001b[0m\u001b[1;36m3\u001b[0m\u001b[1;33m]\u001b[0m\u001b[1;33m)\u001b[0m\u001b[1;33m%\u001b[0m\u001b[1;36m2\u001b[0m\u001b[1;33m==\u001b[0m\u001b[1;36m0\u001b[0m\u001b[1;33m)\u001b[0m\u001b[1;33m:\u001b[0m\u001b[1;33m\u001b[0m\u001b[1;33m\u001b[0m\u001b[0m\n",
      "\u001b[1;31mIndexError\u001b[0m: list index out of range"
     ]
    }
   ],
   "source": [
    "a=input()\n",
    "b=[]\n",
    "f=0\n",
    "for i in a:\n",
    "  if(ord(i)>=65 and ord(i)<=90):\n",
    "    if(i=='A' or i=='E' or i=='I' or i=='O' or i=='U'):\n",
    "      f=f+1\n",
    "  if(ord(i)<=48 and ord(i)>=57):\n",
    "    b.append(i)\n",
    "if((b[0]+b[1])%2==0):\n",
    "  f=f+1\n",
    "if((b[2]+b[3])%2==0):\n",
    "  f=f+1\n",
    "if((b[3]+b[4])%2==0):\n",
    "  f=f+1\n",
    "if((b[5]+b[6])%2==0):\n",
    "  f=f+1\n",
    "if(f==5):\n",
    "  print(\"Valid\")\n",
    "else:\n",
    "  print(\"invalid\")"
   ]
  },
  {
   "cell_type": "code",
   "execution_count": 11,
   "metadata": {},
   "outputs": [
    {
     "data": {
      "text/plain": [
       "True"
      ]
     },
     "execution_count": 11,
     "metadata": {},
     "output_type": "execute_result"
    }
   ],
   "source": [
    "# Special Number functions to determine if a numbers is special number or not\n",
    "\n",
    "# Function to check if number is prime\n",
    "\n",
    "# Function to determine number of prime factores for a given number\n",
    "def isSpecialNumber(n, p):\n",
    "    if numberOfPrimeFactors(n) >= p:\n",
    "        return True\n",
    "    return False\n",
    "    \n",
    "\n",
    "\n",
    "def isPrime(n):\n",
    "    flag = 1\n",
    "    if n == 2:\n",
    "        return True\n",
    "    for i in range(2, n//2 + 1):\n",
    "        if n% i == 0:\n",
    "            flag = 0\n",
    "            return False\n",
    "    if flag == 1:\n",
    "        return True\n",
    "\n",
    "    \n",
    "def numberOfPrimeFactors(n):\n",
    "    if isPrime(n):\n",
    "        return 1\n",
    "    count = 0\n",
    "    for i in range(2, n // 2 + 1):\n",
    "        if isPrime(i) and n % i == 0:\n",
    "            count+=1\n",
    "    return count\n",
    "\n",
    "def solution2():\n",
    "    p = int(input())\n",
    "    t = int(input())\n",
    "    for i in range(0,t):\n",
    "        n =int(input())\n",
    "        if isSpecialNumber(n, p):\n",
    "            print(\"YES\")\n",
    "        else:\n",
    "            print(\"NO\")\n",
    "solution2()\n",
    "    "
   ]
  },
  {
   "cell_type": "code",
   "execution_count": 10,
   "metadata": {},
   "outputs": [
    {
     "data": {
      "text/plain": [
       "False"
      ]
     },
     "execution_count": 10,
     "metadata": {},
     "output_type": "execute_result"
    }
   ],
   "source": [
    "\n",
    "def isPrime(n):\n",
    "    flag = 1\n",
    "    if n == 2:\n",
    "        return True\n",
    "    for i in range(2, n//2 + 1):\n",
    "        if n% i == 0:\n",
    "            flag = 0\n",
    "            return False\n",
    "    if flag == 1:\n",
    "        return True\n",
    "isPrime(30)"
   ]
  },
  {
   "cell_type": "code",
   "execution_count": 15,
   "metadata": {},
   "outputs": [
    {
     "name": "stdout",
     "output_type": "stream",
     "text": [
      "3\n"
     ]
    }
   ],
   "source": [
    "# Highest Reminder\n",
    "\n",
    "#x<N and n%x == highest\n",
    "\n",
    "def highestReminder(n):\n",
    "    hr = 0\n",
    "    v = n\n",
    "    for i in range(n-1, n//2, -1):\n",
    "        r = n % i\n",
    "        if r >hr :\n",
    "            hr = r\n",
    "            v = i\n",
    "    print(v)\n",
    "    return\n",
    "highestReminder(5)"
   ]
  },
  {
   "cell_type": "code",
   "execution_count": 8,
   "metadata": {},
   "outputs": [
    {
     "name": "stdout",
     "output_type": "stream",
     "text": [
      "All-convoYs-9-be:Alert1.\n",
      "4\n"
     ]
    },
    {
     "data": {
      "text/plain": [
       "'Epp-gsrzsCw-3-fi:Epivx5.'"
      ]
     },
     "execution_count": 8,
     "metadata": {},
     "output_type": "execute_result"
    }
   ],
   "source": [
    "def cipher(s, k):\n",
    "    res = \"\"\n",
    "    for i in s:\n",
    "        if i.isupper():\n",
    "            res += chr(65+(ord(i)+k-65) % 26)\n",
    "        elif i.islower():\n",
    "            res += chr(97+(ord(i)+k-97) % 26)\n",
    "        elif i.isnumeric():\n",
    "            res += str((int(i) + k) % 10)\n",
    "        else:\n",
    "            res += i\n",
    "    return res\n",
    "s=input()\n",
    "k=int(input())\n",
    "cipher(s, k)"
   ]
  },
  {
   "cell_type": "code",
   "execution_count": 4,
   "metadata": {},
   "outputs": [
    {
     "name": "stdout",
     "output_type": "stream",
     "text": [
      "All-convoYs-9-be:Alert1\n",
      "4\n",
      "x"
     ]
    }
   ],
   "source": [
    "n=input()\n",
    "l=len(n)\n",
    "k=int(input())\n",
    "up=''\n",
    "m=''\n",
    "for i in range(0,l):\n",
    "    if(n[i].islower()==True):\n",
    "        up=ord(n[i])+k\n",
    "        if(up>122):\n",
    "            m=up-58\n",
    "    elif(n[i].isupper()==True):\n",
    "        up=ord(n[i])+k\n",
    "        if(up>90):\n",
    "            m=up+6\n",
    "print(chr(up),end=\"\")"
   ]
  },
  {
   "cell_type": "code",
   "execution_count": 23,
   "metadata": {},
   "outputs": [
    {
     "name": "stdout",
     "output_type": "stream",
     "text": [
      "180\n",
      "3\n",
      "640 380\n",
      "120 380\n",
      "180 180\n",
      "CROP IT\n"
     ]
    },
    {
     "ename": "IndexError",
     "evalue": "list index out of range",
     "output_type": "error",
     "traceback": [
      "\u001b[1;31m---------------------------------------------------------------------------\u001b[0m",
      "\u001b[1;31mIndexError\u001b[0m                                Traceback (most recent call last)",
      "\u001b[1;32m<ipython-input-23-9d0da4423511>\u001b[0m in \u001b[0;36m<module>\u001b[1;34m\u001b[0m\n\u001b[0;32m     13\u001b[0m \u001b[0mn\u001b[0m\u001b[1;33m=\u001b[0m\u001b[0mint\u001b[0m\u001b[1;33m(\u001b[0m\u001b[0minput\u001b[0m\u001b[1;33m(\u001b[0m\u001b[1;33m)\u001b[0m\u001b[1;33m)\u001b[0m\u001b[1;33m\u001b[0m\u001b[1;33m\u001b[0m\u001b[0m\n\u001b[0;32m     14\u001b[0m \u001b[0mn1\u001b[0m\u001b[1;33m=\u001b[0m\u001b[0mint\u001b[0m\u001b[1;33m(\u001b[0m\u001b[0minput\u001b[0m\u001b[1;33m(\u001b[0m\u001b[1;33m)\u001b[0m\u001b[1;33m)\u001b[0m\u001b[1;33m\u001b[0m\u001b[1;33m\u001b[0m\u001b[0m\n\u001b[1;32m---> 15\u001b[1;33m \u001b[0mroyAndProfile\u001b[0m\u001b[1;33m(\u001b[0m\u001b[0mn\u001b[0m\u001b[1;33m,\u001b[0m \u001b[0mn1\u001b[0m\u001b[1;33m)\u001b[0m\u001b[1;33m\u001b[0m\u001b[1;33m\u001b[0m\u001b[0m\n\u001b[0m",
      "\u001b[1;32m<ipython-input-23-9d0da4423511>\u001b[0m in \u001b[0;36mroyAndProfile\u001b[1;34m(n, n1)\u001b[0m\n\u001b[0;32m      5\u001b[0m         \u001b[0marray\u001b[0m\u001b[1;33m.\u001b[0m\u001b[0mappend\u001b[0m\u001b[1;33m(\u001b[0m\u001b[0mlist\u001b[0m\u001b[1;33m(\u001b[0m\u001b[0mmap\u001b[0m\u001b[1;33m(\u001b[0m\u001b[0mint\u001b[0m\u001b[1;33m,\u001b[0m\u001b[0mj\u001b[0m\u001b[1;33m.\u001b[0m\u001b[0msplit\u001b[0m\u001b[1;33m(\u001b[0m\u001b[1;33m)\u001b[0m\u001b[1;33m)\u001b[0m\u001b[1;33m)\u001b[0m\u001b[1;33m)\u001b[0m\u001b[1;33m\u001b[0m\u001b[1;33m\u001b[0m\u001b[0m\n\u001b[0;32m      6\u001b[0m     \u001b[1;32mfor\u001b[0m \u001b[0mi\u001b[0m \u001b[1;32min\u001b[0m \u001b[1;33m(\u001b[0m\u001b[1;36m0\u001b[0m\u001b[1;33m,\u001b[0m\u001b[0mlen\u001b[0m\u001b[1;33m(\u001b[0m\u001b[0marray\u001b[0m\u001b[1;33m)\u001b[0m\u001b[1;33m)\u001b[0m\u001b[1;33m:\u001b[0m\u001b[1;33m\u001b[0m\u001b[1;33m\u001b[0m\u001b[0m\n\u001b[1;32m----> 7\u001b[1;33m         \u001b[1;32mif\u001b[0m \u001b[1;33m(\u001b[0m\u001b[0marray\u001b[0m\u001b[1;33m[\u001b[0m\u001b[0mi\u001b[0m\u001b[1;33m]\u001b[0m\u001b[1;33m[\u001b[0m\u001b[1;36m0\u001b[0m\u001b[1;33m]\u001b[0m \u001b[1;33m==\u001b[0m \u001b[0mn\u001b[0m\u001b[1;33m)\u001b[0m \u001b[1;32mand\u001b[0m \u001b[1;33m(\u001b[0m\u001b[0marray\u001b[0m\u001b[1;33m[\u001b[0m\u001b[0mi\u001b[0m\u001b[1;33m]\u001b[0m\u001b[1;33m[\u001b[0m\u001b[1;36m1\u001b[0m\u001b[1;33m]\u001b[0m \u001b[1;33m==\u001b[0m \u001b[0mn\u001b[0m\u001b[1;33m)\u001b[0m\u001b[1;33m:\u001b[0m\u001b[1;33m\u001b[0m\u001b[1;33m\u001b[0m\u001b[0m\n\u001b[0m\u001b[0;32m      8\u001b[0m             \u001b[0mprint\u001b[0m\u001b[1;33m(\u001b[0m\u001b[1;34m\"ACCEPTED\"\u001b[0m\u001b[1;33m)\u001b[0m\u001b[1;33m\u001b[0m\u001b[1;33m\u001b[0m\u001b[0m\n\u001b[0;32m      9\u001b[0m         \u001b[1;32melif\u001b[0m \u001b[1;33m(\u001b[0m\u001b[0marray\u001b[0m\u001b[1;33m[\u001b[0m\u001b[0mi\u001b[0m\u001b[1;33m]\u001b[0m\u001b[1;33m[\u001b[0m\u001b[1;36m0\u001b[0m\u001b[1;33m]\u001b[0m \u001b[1;33m<\u001b[0m\u001b[0mn\u001b[0m \u001b[1;32mor\u001b[0m \u001b[0marray\u001b[0m\u001b[1;33m[\u001b[0m\u001b[0mi\u001b[0m\u001b[1;33m]\u001b[0m\u001b[1;33m[\u001b[0m\u001b[1;36m1\u001b[0m\u001b[1;33m]\u001b[0m \u001b[1;33m>\u001b[0m \u001b[0mn\u001b[0m\u001b[1;33m)\u001b[0m\u001b[1;33m:\u001b[0m\u001b[1;33m\u001b[0m\u001b[1;33m\u001b[0m\u001b[0m\n",
      "\u001b[1;31mIndexError\u001b[0m: list index out of range"
     ]
    }
   ],
   "source": [
    "def royAndProfile(n, n1):\n",
    "    array=[]\n",
    "    for i in range(1,n1+1):\n",
    "        j=input()\n",
    "        array.append(list(map(int,j.split())))\n",
    "    for i in (1,n1+1):\n",
    "        if (array[i][0] == n) and (array[i][1] == n):\n",
    "            print(\"ACCEPTED\")\n",
    "        elif (array[i][0] <n or array[i][1] > n):\n",
    "            print(\"CROP IT\")\n",
    "        elif (array[i][0] < n or array[i][1] < n):\n",
    "            print(\"UPLOAD ANOTHER\")\n",
    "n=int(input())\n",
    "n1=int(input())\n",
    "royAndProfile(n, n1)"
   ]
  },
  {
   "cell_type": "code",
   "execution_count": null,
   "metadata": {},
   "outputs": [],
   "source": [
    "L = int(input())\n",
    "N = int(input())\n",
    "\n",
    "Array = []\n",
    "for i in range(N):\n",
    "    Array.append(list(map(int, input().split())))\n",
    "\n",
    "for i in range(0, len(Array)):\n",
    "    if Array[i][0] == Array[i][1] >= L:\n",
    "        print(\"ACCEPTED\")\n",
    "    elif Array[i][0] < L or Array[i][1] < L:\n",
    "        print(\"UPLOAD ANOTHER\")\n",
    "\n",
    "    elif Array[i][0] > L or Array[i][1] > L:\n",
    "        print(\"CROP IT\")"
   ]
  },
  {
   "cell_type": "code",
   "execution_count": null,
   "metadata": {},
   "outputs": [
    {
     "name": "stdout",
     "output_type": "stream",
     "text": [
      "2\n",
      "9 6\n",
      "10\n",
      "1 1\n",
      "1 1\n",
      "1 1\n",
      "1 1\n",
      "1 1\n",
      "1 1\n",
      "1 1\n",
      "1 1\n",
      "1 1\n",
      "1 1\n",
      "0\n"
     ]
    }
   ],
   "source": [
    "# cost of baloons\n",
    "def costOfBaloons(n):\n",
    "    for i in range(1,n+1):\n",
    "        cost=input()\n",
    "        cost=cost.split()\n",
    "        cost1=cost[0]\n",
    "        cost2=cost[1]\n",
    "        number=int(input())\n",
    "        sum = 0\n",
    "        for j in range(1,number+1):\n",
    "            value=input()\n",
    "            value=value.split()\n",
    "            value1=value[0]\n",
    "            value2=value[1]\n",
    "            if (value1=='1' and value=='1'):\n",
    "                cost3=int(cost1)+int(cost2)\n",
    "                sum = cost3+sum\n",
    "            elif(value1=='0' and value1=='1'):\n",
    "                cost3=0+int(cost2)\n",
    "                sum=sum+cost3\n",
    "            elif(value1=='1' and value2=='0'):\n",
    "                cost3=int(cost1)+0\n",
    "                sum = cost3+sum\n",
    "            elif(value1=='0' and value2=='0'):\n",
    "                cost3=0+0\n",
    "                sum = sum+cost3\n",
    "        print(sum)\n",
    "n=int(input())\n",
    "costOfBaloons(n)"
   ]
  },
  {
   "cell_type": "code",
   "execution_count": null,
   "metadata": {},
   "outputs": [
    {
     "name": "stdout",
     "output_type": "stream",
     "text": [
      "2\n",
      "9 6\n",
      "10\n",
      "1 1\n",
      "1 1\n",
      "1 1\n",
      "0 1\n",
      "0 1\n",
      "0 1\n",
      "0 1\n",
      "0 0\n",
      "0 0\n",
      "0 0\n",
      "69\n"
     ]
    }
   ],
   "source": [
    "def costOfBaloons(n):\n",
    "    \n",
    "    for i in range(1,n+1):\n",
    "        cost=input()\n",
    "        cost=cost.split()\n",
    "        cost1=cost[0]\n",
    "        cost2=cost[1]\n",
    "        number=int(input())\n",
    "        sum = 0\n",
    "        for j in range(1,number+1):\n",
    "            s=input()\n",
    "            S=s.split()\n",
    "            if (S[0]=='1' and S[1]=='1'):\n",
    "                sum = int(cost1)+int(cost2)+sum\n",
    "            elif (S[0]=='0' and S[1]=='1'):\n",
    "                sum = 0+int(cost2)+sum\n",
    "            elif (S[0]=='1' and S[1]=='0'):\n",
    "                sum = int(cost1)+0+sum\n",
    "            elif (S[0]=='0' and S[1]=='0'):\n",
    "                sum = 0+0+sum\n",
    "            continue\n",
    "        print(sum)\n",
    "n=int(input())\n",
    "costOfBaloons(n)"
   ]
  },
  {
   "cell_type": "code",
   "execution_count": 3,
   "metadata": {},
   "outputs": [
    {
     "name": "stdout",
     "output_type": "stream",
     "text": [
      "2\n",
      "10\n",
      "1 1\n",
      "1 0\n",
      "0 1\n",
      "0 1\n",
      "1 1\n",
      "1 1\n",
      "1 1\n",
      "1 0\n",
      "0 1\n",
      "0 1\n",
      "1 9\n",
      "1 1\n",
      "0 1\n",
      "0 1\n",
      "0 1\n",
      "0 1\n",
      " 01\n"
     ]
    },
    {
     "ename": "ValueError",
     "evalue": "not enough values to unpack (expected 2, got 1)",
     "output_type": "error",
     "traceback": [
      "\u001b[1;31m---------------------------------------------------------------------------\u001b[0m",
      "\u001b[1;31mValueError\u001b[0m                                Traceback (most recent call last)",
      "\u001b[1;32m<ipython-input-3-3bd808e2986e>\u001b[0m in \u001b[0;36m<module>\u001b[1;34m\u001b[0m\n\u001b[0;32m      3\u001b[0m \u001b[0mcounter\u001b[0m \u001b[1;33m=\u001b[0m \u001b[1;36m0\u001b[0m\u001b[1;33m\u001b[0m\u001b[1;33m\u001b[0m\u001b[0m\n\u001b[0;32m      4\u001b[0m \u001b[1;32mwhile\u001b[0m \u001b[0mcounter\u001b[0m \u001b[1;33m<\u001b[0m \u001b[0mtest_case\u001b[0m\u001b[1;33m:\u001b[0m\u001b[1;33m\u001b[0m\u001b[1;33m\u001b[0m\u001b[0m\n\u001b[1;32m----> 5\u001b[1;33m     \u001b[0mbal1\u001b[0m\u001b[1;33m,\u001b[0m \u001b[0mbal2\u001b[0m \u001b[1;33m=\u001b[0m \u001b[0minput\u001b[0m\u001b[1;33m(\u001b[0m\u001b[1;33m)\u001b[0m\u001b[1;33m.\u001b[0m\u001b[0msplit\u001b[0m\u001b[1;33m(\u001b[0m\u001b[1;33m)\u001b[0m\u001b[1;33m\u001b[0m\u001b[1;33m\u001b[0m\u001b[0m\n\u001b[0m\u001b[0;32m      6\u001b[0m     \u001b[1;32mif\u001b[0m \u001b[0mbal1\u001b[0m \u001b[1;33m<=\u001b[0m \u001b[0mbal2\u001b[0m\u001b[1;33m:\u001b[0m\u001b[1;33m\u001b[0m\u001b[1;33m\u001b[0m\u001b[0m\n\u001b[0;32m      7\u001b[0m         \u001b[0mmin\u001b[0m \u001b[1;33m=\u001b[0m \u001b[0mint\u001b[0m\u001b[1;33m(\u001b[0m\u001b[0mbal1\u001b[0m\u001b[1;33m)\u001b[0m \u001b[1;31m# 9\u001b[0m\u001b[1;33m\u001b[0m\u001b[1;33m\u001b[0m\u001b[0m\n",
      "\u001b[1;31mValueError\u001b[0m: not enough values to unpack (expected 2, got 1)"
     ]
    }
   ],
   "source": [
    "test_case = int(input())\n",
    "num = int(input())\n",
    "counter = 0\n",
    "while counter < test_case:\n",
    "    bal1, bal2 = input().split()\n",
    "    if bal1 <= bal2:\n",
    "        min = int(bal1) # 9\n",
    "        max = int(bal2) # 6\n",
    "    else:\n",
    "        min = int(bal2)\n",
    "        max = int(bal1)\n",
    "list1 = []\n",
    "list2 = []\n",
    "for i in range(0, num):\n",
    "    m, n = input().split()\n",
    "    list1.append(int(m))\n",
    "    list2.append(int(n))\n",
    "\n",
    "    c1 = list1.count(1) # 3\n",
    "    c2 = list2.count(1) # 7\n",
    "\n",
    "    if c1 > c2:\n",
    "        cost1 = c1 * min\n",
    "        cost2 = c2 * max\n",
    "    else:\n",
    "        cost1 = c2 * min\n",
    "        cost2 = c1 * max\n",
    "\n",
    "    print(cost1 + cost2)\n",
    "\n",
    "counter+=1"
   ]
  },
  {
   "cell_type": "code",
   "execution_count": 5,
   "metadata": {},
   "outputs": [
    {
     "name": "stdout",
     "output_type": "stream",
     "text": [
      "Valid number\n",
      "[9123456789]\n"
     ]
    }
   ],
   "source": [
    "# Function to validate a phone number\n",
    "\n",
    "import re\n",
    "list=[]\n",
    "def phoneNumberValidator(number):\n",
    "    pattern = '^[9876][0-9]{9}$|^[0][6-9][0-9]{9}$|^[+][9][1][6-9][0-9]{9}$'\n",
    "    if re.match(pattern, str(number)):\n",
    "        print(\"Valid number\")\n",
    "        list.append(number)\n",
    "    else:\n",
    "        print(\"Invalid Number\")\n",
    "    return\n",
    "phoneNumberValidator(9123456789)  \n",
    "print(list)"
   ]
  },
  {
   "cell_type": "code",
   "execution_count": 18,
   "metadata": {},
   "outputs": [
    {
     "name": "stdout",
     "output_type": "stream",
     "text": [
      "2\n",
      "9 6\n",
      "10\n",
      "1 1\n",
      "1 1\n",
      "1 1\n",
      "0 1\n",
      "0 1\n",
      "0 1\n",
      "0 1\n",
      "0 0\n",
      "0 0\n",
      "0 0\n",
      "69\n",
      "1 9\n",
      "10\n",
      "1 0\n",
      "0 1\n",
      "0 1\n",
      "0 1\n",
      "0 1\n",
      "0 1\n",
      "0 0\n",
      "0 0\n",
      "0 0\n",
      "0 0\n",
      "14\n"
     ]
    }
   ],
   "source": [
    "def costOfBaloons(n):\n",
    "    \n",
    "    for i in range(1,n+1):\n",
    "        cost=input()\n",
    "        cost=cost.split()\n",
    "        cost1=cost[0]\n",
    "        cost2=cost[1]\n",
    "        cost3=int(cost1)\n",
    "        cost4=int(cost2)\n",
    "        number=int(input())\n",
    "        sum = 0\n",
    "        for j in range(1,number+1):\n",
    "            s=input()\n",
    "            S=s.split()\n",
    "            s1=S[0]\n",
    "            s2=S[1]\n",
    "            s3=int(s1)\n",
    "            s4=int(s2)\n",
    "            if (cost3>cost4):\n",
    "                if (s3==1 and s4==1):\n",
    "                    sum = cost3+cost4+sum\n",
    "                elif (s3==0 and s4==1):\n",
    "                    sum = 0+cost4+sum\n",
    "                elif (s3==1 and s4==0):\n",
    "                    sum = cost3+0+sum\n",
    "                elif (s3==0 and s4==0):\n",
    "                    sum = 0+0+sum\n",
    "            elif(cost3<cost4 and cost4==cost3):\n",
    "                if (s3==1 and s4==1):\n",
    "                    sum = cost3+cost4+sum\n",
    "                elif (s3==0 and s4==1):\n",
    "                    sum = 0+cost3+sum\n",
    "                elif (s3==1 and s4==0):\n",
    "                    sum = cost4+0+sum\n",
    "                elif (s3==0 and s4==0):\n",
    "                    sum = 0+0+sum\n",
    "        print(sum)\n",
    "n=int(input())\n",
    "costOfBaloons(n)"
   ]
  },
  {
   "cell_type": "markdown",
   "metadata": {},
   "source": [
    "# s=input()\n",
    "S=s.split()\n",
    "s1=S[0]\n",
    "s2=int(s1)\n",
    "print(type(s2))\n",
    "print(S)"
   ]
  },
  {
   "cell_type": "code",
   "execution_count": 20,
   "metadata": {},
   "outputs": [
    {
     "name": "stdout",
     "output_type": "stream",
     "text": [
      "5\n",
      "1 3 1 2 5\n"
     ]
    },
    {
     "ename": "TypeError",
     "evalue": "'int' object is not callable",
     "output_type": "error",
     "traceback": [
      "\u001b[1;31m---------------------------------------------------------------------------\u001b[0m",
      "\u001b[1;31mTypeError\u001b[0m                                 Traceback (most recent call last)",
      "\u001b[1;32m<ipython-input-20-cbd0b06e0a35>\u001b[0m in \u001b[0;36m<module>\u001b[1;34m\u001b[0m\n\u001b[0;32m     14\u001b[0m     \u001b[1;32melse\u001b[0m\u001b[1;33m:\u001b[0m\u001b[1;33m\u001b[0m\u001b[1;33m\u001b[0m\u001b[0m\n\u001b[0;32m     15\u001b[0m         \u001b[0msm\u001b[0m\u001b[1;33m.\u001b[0m\u001b[0mappend\u001b[0m\u001b[1;33m(\u001b[0m\u001b[0msu\u001b[0m\u001b[1;33m)\u001b[0m\u001b[1;33m\u001b[0m\u001b[1;33m\u001b[0m\u001b[0m\n\u001b[1;32m---> 16\u001b[1;33m \u001b[0mprint\u001b[0m\u001b[1;33m(\u001b[0m\u001b[0mmax\u001b[0m\u001b[1;33m(\u001b[0m\u001b[0msm\u001b[0m\u001b[1;33m)\u001b[0m\u001b[1;33m)\u001b[0m\u001b[1;33m\u001b[0m\u001b[1;33m\u001b[0m\u001b[0m\n\u001b[0m",
      "\u001b[1;31mTypeError\u001b[0m: 'int' object is not callable"
     ]
    }
   ],
   "source": [
    "n = int(input())\n",
    "l = list(map(int,input().split()))\n",
    "sm = []\n",
    "for i in range(n):\n",
    "    su = 0\n",
    "    for j in range(i,n,3):\n",
    "        if(len(l[j:]) >= 3):\n",
    "            su = su + l[j] + l[j+1] + l[j+2]\n",
    "        else:\n",
    "            break\n",
    "        \n",
    "    if((n - i) < 3):\n",
    "        sm.append(l[i])\n",
    "    else:\n",
    "        sm.append(su)\n",
    "print(max(sm))"
   ]
  },
  {
   "cell_type": "code",
   "execution_count": null,
   "metadata": {},
   "outputs": [
    {
     "name": "stdout",
     "output_type": "stream",
     "text": [
      "2\n",
      "1 5 2 3 4\n",
      "5\n"
     ]
    }
   ],
   "source": [
    "def maxNumber(n):\n",
    "    for i in range(1,n+1):\n",
    "        l = list(map(int,input().split()))\n",
    "        l.sort(reverse=False)\n",
    "        print(l[-1])\n",
    "        \n",
    "n=int(input())\n",
    "maxNumber(n)    "
   ]
  },
  {
   "cell_type": "code",
   "execution_count": 28,
   "metadata": {},
   "outputs": [
    {
     "ename": "TypeError",
     "evalue": "'int' object is not callable",
     "output_type": "error",
     "traceback": [
      "\u001b[1;31m---------------------------------------------------------------------------\u001b[0m",
      "\u001b[1;31mTypeError\u001b[0m                                 Traceback (most recent call last)",
      "\u001b[1;32m<ipython-input-28-d0f6568f6aa5>\u001b[0m in \u001b[0;36m<module>\u001b[1;34m\u001b[0m\n\u001b[0;32m      1\u001b[0m \u001b[0ml\u001b[0m\u001b[1;33m=\u001b[0m\u001b[1;33m[\u001b[0m\u001b[1;36m1\u001b[0m\u001b[1;33m,\u001b[0m \u001b[1;36m2\u001b[0m \u001b[1;33m,\u001b[0m \u001b[1;36m4\u001b[0m\u001b[1;33m]\u001b[0m\u001b[1;33m\u001b[0m\u001b[1;33m\u001b[0m\u001b[0m\n\u001b[1;32m----> 2\u001b[1;33m \u001b[0ma\u001b[0m\u001b[1;33m=\u001b[0m\u001b[0mmax\u001b[0m\u001b[1;33m(\u001b[0m\u001b[0ml\u001b[0m\u001b[1;33m)\u001b[0m\u001b[1;33m\u001b[0m\u001b[1;33m\u001b[0m\u001b[0m\n\u001b[0m",
      "\u001b[1;31mTypeError\u001b[0m: 'int' object is not callable"
     ]
    }
   ],
   "source": [
    "l=[1, 2 , 4]\n"
   ]
  },
  {
   "cell_type": "code",
   "execution_count": 4,
   "metadata": {},
   "outputs": [
    {
     "name": "stdout",
     "output_type": "stream",
     "text": [
      "(0, '1')\n",
      "(1, '2')\n",
      "(2, '3')\n",
      "(3, '4')\n",
      "(4, '5')\n",
      "(5, '6')\n",
      "(6, '7')\n",
      "(7, '8')\n",
      "(8, '9')\n",
      "(9, '0')\n"
     ]
    }
   ],
   "source": [
    "for i in enumerate('1234567890'):\n",
    "    print(i)"
   ]
  },
  {
   "cell_type": "code",
   "execution_count": 9,
   "metadata": {},
   "outputs": [
    {
     "name": "stdout",
     "output_type": "stream",
     "text": [
      "4\n",
      "*   *\n",
      "\n",
      "*   *\n",
      "\n",
      "*****\n",
      "\n",
      "*   *\n",
      "\n",
      "*   *\n",
      "\n",
      "*****\n",
      "\n",
      "*   *\n",
      "\n",
      "*   *\n",
      "\n",
      "*****\n",
      "\n",
      "*   *\n",
      "\n",
      "*   *\n",
      "\n",
      "*****\n",
      "\n",
      "*   *\n",
      "\n",
      "*   *\n",
      "\n"
     ]
    }
   ],
   "source": [
    "n = int(input())\n",
    "for i in range(0,n):\n",
    "    print('*   *\\n')\n",
    "    print('*   *\\n')\n",
    "    print('*****\\n')\n",
    "print('*   *\\n')\n",
    "print('*   *\\n')"
   ]
  },
  {
   "cell_type": "code",
   "execution_count": 9,
   "metadata": {},
   "outputs": [
    {
     "name": "stdout",
     "output_type": "stream",
     "text": [
      "12X345-67\n",
      "invalid\n"
     ]
    }
   ],
   "source": [
    "a = input()\n",
    "if((ord(a[0])+ord(a[1]))%2==0 and (ord(a[3])+ord(a[4]))%2==0 and (ord(a[5])+ord(a[4]))%2==0 and (ord(a[7])+ord(a[8]))%2==0 and a[2] not in (\"A\",\"E\",\"I\",\"O\",\"U\",\"Y\")):\n",
    "    print(\"valid\")\n",
    "else:\n",
    "    print(\"invalid\")"
   ]
  },
  {
   "cell_type": "code",
   "execution_count": 6,
   "metadata": {},
   "outputs": [
    {
     "name": "stdout",
     "output_type": "stream",
     "text": [
      "0\n",
      "48\n"
     ]
    }
   ],
   "source": [
    "a = input()\n",
    "print(ord(a[0]))\n",
    "#print(ord(a[1]))"
   ]
  },
  {
   "cell_type": "code",
   "execution_count": 2,
   "metadata": {},
   "outputs": [
    {
     "name": "stdout",
     "output_type": "stream",
     "text": [
      "13X246-86\n",
      "valid\n"
     ]
    }
   ],
   "source": [
    "a = input()\n",
    "vovels = [\"A\",\"E\",\"I\",\"O\",\"U\",\"Y\"]\n",
    "check = False\n",
    "if a[2] not in vovels:\n",
    "    x = int(a[0]) + int(a[1])\n",
    "    if x % 2 == 0:\n",
    "        x = int(a[3]) + int(a[4])\n",
    "    if x % 2 == 0:\n",
    "        x = int(a[4]) + int(a[5])\n",
    "    if x % 2 == 0:\n",
    "        x = int(a[7]) + int(a[8])\n",
    "    if x % 2 == 0:\n",
    "        check = True\n",
    "    else:\n",
    "        check = False\n",
    "    if check:\n",
    "        print(\"valid\")\n",
    "    else:\n",
    "        print(\"invalid\")"
   ]
  },
  {
   "cell_type": "code",
   "execution_count": 4,
   "metadata": {},
   "outputs": [
    {
     "name": "stdout",
     "output_type": "stream",
     "text": [
      "6\n",
      "-3 2 3 -4 3 1\n",
      "3\n"
     ]
    }
   ],
   "source": [
    "n = int(input())\n",
    "l = list(map(int,input().split()))\n",
    "sm = []\n",
    "for i in range(n):\n",
    "    su = 0\n",
    "    for j in range(i,n,3):\n",
    "        if(len(l[j:]) >= 3):\n",
    "            su = su + l[j] + l[j+1] + l[j+2]\n",
    "        else:\n",
    "            break\n",
    "    if((n - i) < 3):\n",
    "        sm.append(l[i])\n",
    "    else:\n",
    "        sm.append(su)\n",
    "print(max(sm))"
   ]
  },
  {
   "cell_type": "code",
   "execution_count": 2,
   "metadata": {},
   "outputs": [
    {
     "name": "stdout",
     "output_type": "stream",
     "text": [
      "LLRDDR\n",
      "0 -2\n"
     ]
    }
   ],
   "source": [
    "x_axis = 0\n",
    "y_axis = 0\n",
    "\n",
    "dire = list( input() )\n",
    "\n",
    "for i in direction:\n",
    "    if( i == 'L' ):\n",
    "        x_axis -= 1\n",
    "\n",
    "    elif( i == 'R' ):\n",
    "        x_axis += 1\n",
    "\n",
    "    elif( i == 'U' ):\n",
    "        y_axis += 1\n",
    "\n",
    "    elif( i == 'D' ):\n",
    "        y_axis -= 1\n",
    "\n",
    "print( str(x_axis) +\" \"+str(y_axis) )"
   ]
  },
  {
   "cell_type": "code",
   "execution_count": null,
   "metadata": {},
   "outputs": [
    {
     "name": "stdout",
     "output_type": "stream",
     "text": [
      "5\n",
      "100\n",
      "130\n",
      "YES\n",
      "120\n",
      "YES\n",
      "90\n",
      "NO\n"
     ]
    }
   ],
   "source": [
    "def gokiHisBrekup(n):\n",
    "    n1 = int(input())\n",
    "    for i in range(0,n):\n",
    "        n2 = int(input())\n",
    "        if (n1==n2 or n1<n2):\n",
    "            print(\"YES\")\n",
    "        else:\n",
    "            print(\"NO\")\n",
    "    \n",
    "n = int(input())\n",
    "gokiHisBrekup(n)"
   ]
  },
  {
   "cell_type": "code",
   "execution_count": 5,
   "metadata": {},
   "outputs": [
    {
     "name": "stdout",
     "output_type": "stream",
     "text": [
      "123\n",
      "6\n"
     ]
    }
   ],
   "source": [
    "# Sum Of N digit number\n",
    "n = (input())\n",
    "sum = 0\n",
    "for i, char in enumerate(n):\n",
    "    sum = sum + int(char)\n",
    "print(sum)\n",
    "    "
   ]
  },
  {
   "cell_type": "code",
   "execution_count": 17,
   "metadata": {},
   "outputs": [
    {
     "name": "stdout",
     "output_type": "stream",
     "text": [
      "213456789765432456789432347898765432678976543245897654678654321456890876543248987654321456788888654444444431324566666666666666666666666666666666666666432111111111111111111111111111111111111467897779909999999999999999999999999999999999999999999999999999999999999999999999999999999999999993421111111111111111111111111111111111111111111111111111111111111111114567\n",
      "2 106 11 13 28 15 54 17 17 97 "
     ]
    }
   ],
   "source": [
    "# Frequency of Digit\n",
    "n = input()\n",
    "for i in range(0,10):\n",
    "    i = str(i)\n",
    "    print(n.count(i), end = ' ')"
   ]
  },
  {
   "cell_type": "code",
   "execution_count": 16,
   "metadata": {},
   "outputs": [],
   "source": [
    "def uniqueData(allnumbers):\n",
    "    unique = []\n",
    "    for n in allnumbers:\n",
    "        if n not in unique:\n",
    "            unique.append(n)\n",
    "    return unique\n",
    "\n",
    "def DigitFrequency1(s):\n",
    "    allnumbers = []\n",
    "    for i in s:\n",
    "        if i.isdigit():\n",
    "            allnumbers.append(i)\n",
    "    unique = uniqueData(allnumbers)\n",
    "    for i in range(0,9):\n",
    "        if i not in unique:\n",
    "            print(0, end = ' ')\n",
    "        else:\n",
    "            print(allnumbers.count(i))\n",
    "        "
   ]
  },
  {
   "cell_type": "code",
   "execution_count": 10,
   "metadata": {},
   "outputs": [
    {
     "name": "stdout",
     "output_type": "stream",
     "text": [
      "1\n",
      "abc\n",
      "def\n",
      "6\n"
     ]
    }
   ],
   "source": [
    "# Frequency Problem\n",
    "t = int(input())\n",
    "for i in range(0,t):\n",
    "    s1 = sorted(input())\n",
    "    s2 = sorted(input())\n",
    "    count = 0\n",
    "    for i in s1:\n",
    "        if i not in s2:\n",
    "            count+=1\n",
    "    for i in s2:\n",
    "        if i not in s1:\n",
    "            count+=1\n",
    "    print(count)"
   ]
  },
  {
   "cell_type": "code",
   "execution_count": 19,
   "metadata": {},
   "outputs": [
    {
     "data": {
      "text/plain": [
       "6"
      ]
     },
     "execution_count": 19,
     "metadata": {},
     "output_type": "execute_result"
    }
   ],
   "source": [
    "# Function to check if two strings are anagrams or not\n",
    "# abc cba  -> True\n",
    "# aabbcc ccbbaaa  -> False\n",
    "\n",
    "def checkAnagrams(s1, s2):\n",
    "    if len(s1) != len(s2):\n",
    "        return False\n",
    "    if sorted(s1) == sorted(s2):\n",
    "        return True\n",
    "    return False\n",
    "def charDeletionAnagrams(s1, s2):\n",
    "    uncommon = []\n",
    "    for i in s1:\n",
    "        if i not in s2:\n",
    "            uncommon.append(i)\n",
    "    for i in s2:\n",
    "        if i not in s1:\n",
    "            uncommon.append(i)\n",
    "    count = len(uncommon)\n",
    "    freqs1 = {}\n",
    "    freqs2 = {}\n",
    "    uniqs1 = []\n",
    "    uniqs2 = []\n",
    "    for i in s1:\n",
    "        if i not in uncommon and i not in uniqs1:\n",
    "            freqs1[i] = s1.count(i)\n",
    "            uniqs1.append(i)\n",
    "    for i in s2:\n",
    "        if i not in uncommon and i not in uniqs2:\n",
    "            freqs2[i] = s2.count(i)\n",
    "            uniqs2.append(i)\n",
    "    for key in freqs1.keys():\n",
    "        count += abs(freqs1[key] - freqs2[key])\n",
    "    return count\n",
    "charDeletionAnagrams('abcdssaa', 'bcdaaekj')            "
   ]
  },
  {
   "cell_type": "code",
   "execution_count": 28,
   "metadata": {},
   "outputs": [
    {
     "data": {
      "text/plain": [
       "'c'"
      ]
     },
     "execution_count": 28,
     "metadata": {},
     "output_type": "execute_result"
    }
   ],
   "source": [
    "def kLargestFrequency(s, k):\n",
    "    \n",
    "    unique = []\n",
    "    freq = {}\n",
    "    for i in s:\n",
    "        if i not in unique:\n",
    "            freq[i] = s.count(i)\n",
    "    values = sorted(freq.values(), reverse = True )\n",
    "    uniqueValues = list(set(values))\n",
    "    uniqueValues = sorted(uniqueValues, reverse = False )\n",
    "    \n",
    "    if  k<=len(freq.keys()):\n",
    "        kvalue = uniqueValues[k-1]\n",
    "    else:\n",
    "        return -1\n",
    "    li = []\n",
    "    \n",
    "    for item in freq.items():\n",
    "        if item[1] == kvalue:\n",
    "            li.append(item[0])\n",
    "    return min(li)\n",
    "\n",
    "kLargestFrequency('aabcddcc', 3 )"
   ]
  },
  {
   "cell_type": "code",
   "execution_count": null,
   "metadata": {},
   "outputs": [],
   "source": [
    "# Largest number in a list\n",
    "# Second largest number in a list\n",
    "# Kth largest number is alist\n",
    "\n",
    "# Element with highest frequency\n",
    "# Kth highest\n",
    "# Second highest frequency\n",
    "# Kth Highest frequency"
   ]
  },
  {
   "cell_type": "code",
   "execution_count": 16,
   "metadata": {},
   "outputs": [
    {
     "name": "stdout",
     "output_type": "stream",
     "text": [
      "5\n",
      "1 2 3 4 5\n",
      "201\n"
     ]
    }
   ],
   "source": [
    "def findProduct(n):\n",
    "    element = input()\n",
    "    element = element.split()\n",
    "    answer1 = 1\n",
    "    for i in range(1,n+1):\n",
    "        answer = 0\n",
    "        for j in element:\n",
    "            answer1 += (answer*int(j))%(10**9 + 7)\n",
    "            answer = answer + 1\n",
    "    print(answer1)\n",
    "        \n",
    "n = int(input())\n",
    "findProduct(n)"
   ]
  },
  {
   "cell_type": "code",
   "execution_count": 9,
   "metadata": {},
   "outputs": [
    {
     "name": "stdout",
     "output_type": "stream",
     "text": [
      "3\n",
      "https://hckerearth.com\n",
      "https://google.in\n",
      "https://apssdc.com\n",
      "com\n"
     ]
    }
   ],
   "source": [
    "# Freq\n",
    "def freqUrls(n):\n",
    "    di = {}\n",
    "    for i in range(1,n+1):\n",
    "        str1 = input()\n",
    "        a = str1.split('.')\n",
    "        for j in a:\n",
    "            if j not in di:\n",
    "                di[j]=1\n",
    "            else:\n",
    "                di[j]+=1\n",
    "    b = max(di.values())\n",
    "    for i in di.items():\n",
    "        if b == i[1]:\n",
    "            print(i[0])\n",
    "    \n",
    "n = int(input())\n",
    "freqUrls(n)"
   ]
  },
  {
   "cell_type": "code",
   "execution_count": 1,
   "metadata": {},
   "outputs": [
    {
     "name": "stdout",
     "output_type": "stream",
     "text": [
      "qewe\n"
     ]
    },
    {
     "ename": "ValueError",
     "evalue": "invalid literal for int() with base 10: 'qewe'",
     "output_type": "error",
     "traceback": [
      "\u001b[1;31m---------------------------------------------------------------------------\u001b[0m",
      "\u001b[1;31mValueError\u001b[0m                                Traceback (most recent call last)",
      "\u001b[1;32m<ipython-input-1-7652f34b4d3e>\u001b[0m in \u001b[0;36m<module>\u001b[1;34m\u001b[0m\n\u001b[0;32m      4\u001b[0m     \u001b[1;32mif\u001b[0m \u001b[0mn\u001b[0m \u001b[1;33m==\u001b[0m \u001b[1;34m\"EXIT\"\u001b[0m\u001b[1;33m:\u001b[0m\u001b[1;33m\u001b[0m\u001b[1;33m\u001b[0m\u001b[0m\n\u001b[0;32m      5\u001b[0m         \u001b[1;32mbreak\u001b[0m\u001b[1;33m\u001b[0m\u001b[1;33m\u001b[0m\u001b[0m\n\u001b[1;32m----> 6\u001b[1;33m     \u001b[0mnum\u001b[0m \u001b[1;33m=\u001b[0m \u001b[0mint\u001b[0m\u001b[1;33m(\u001b[0m\u001b[0mn\u001b[0m\u001b[1;33m)\u001b[0m\u001b[1;33m\u001b[0m\u001b[1;33m\u001b[0m\u001b[0m\n\u001b[0m\u001b[0;32m      7\u001b[0m \u001b[1;33m\u001b[0m\u001b[0m\n\u001b[0;32m      8\u001b[0m     \u001b[1;32mif\u001b[0m \u001b[0mnum\u001b[0m\u001b[1;33m%\u001b[0m\u001b[1;36m2\u001b[0m\u001b[1;33m==\u001b[0m\u001b[1;36m0\u001b[0m\u001b[1;33m:\u001b[0m\u001b[1;33m\u001b[0m\u001b[1;33m\u001b[0m\u001b[0m\n",
      "\u001b[1;31mValueError\u001b[0m: invalid literal for int() with base 10: 'qewe'"
     ]
    }
   ],
   "source": [
    "max_elem = 0\n",
    "while True:\n",
    "    n = input()\n",
    "    if n == \"EXIT\":\n",
    "        break\n",
    "    num = int(n)\n",
    "    \n",
    "    if num%2==0:\n",
    "        print(num, end = ' ')\n",
    "        if max_elem > num:\n",
    "            max_elem = num\n",
    "print(max_elem)"
   ]
  },
  {
   "cell_type": "code",
   "execution_count": 2,
   "metadata": {},
   "outputs": [
    {
     "name": "stdout",
     "output_type": "stream",
     "text": [
      "2\n",
      "09876543212345678909876543212345678\n",
      "True\n",
      "12345678976543123456789\n",
      "False\n"
     ]
    }
   ],
   "source": [
    "def panDig(n):\n",
    "    for i in range(n):\n",
    "        inp = input()\n",
    "        li = ['0','1','2','3','4','5','6','7','8','9']\n",
    "        inp1 = sorted(set(inp))\n",
    "        if li == inp1:\n",
    "            print(\"True\")\n",
    "        else:\n",
    "            print(\"False\")    \n",
    "n = int(input())\n",
    "panDig(n)"
   ]
  },
  {
   "cell_type": "code",
   "execution_count": 3,
   "metadata": {},
   "outputs": [
    {
     "name": "stdout",
     "output_type": "stream",
     "text": [
      "2\n",
      "123456789098765432123456789\n",
      "True\n",
      "1234567898765432123456789\n",
      "False\n"
     ]
    }
   ],
   "source": [
    "def panDig(n):\n",
    "    for i in range(n):\n",
    "        inp = input()\n",
    "        li = []\n",
    "        for j in inp:\n",
    "            k = int(j)\n",
    "            if k not in li:\n",
    "                li.append(k)\n",
    "        if len(li) == 10:\n",
    "            print(\"True\")\n",
    "        else:\n",
    "            print(\"False\")\n",
    "n = int(input())\n",
    "panDig(n)"
   ]
  },
  {
   "cell_type": "code",
   "execution_count": null,
   "metadata": {},
   "outputs": [],
   "source": [
    "def alph(n):\n",
    "    for i in range(n):\n",
    "        inp = input()\n",
    "        s= ''\n",
    "        for j in inp:\n",
    "            if j.isalpha():\n",
    "                s += chr(ord(j)+1)\n",
    "        print(s)  \n",
    "n = int(input())\n",
    "alph(n)\n",
    "        "
   ]
  },
  {
   "cell_type": "code",
   "execution_count": null,
   "metadata": {},
   "outputs": [],
   "source": []
  },
  {
   "cell_type": "code",
   "execution_count": null,
   "metadata": {},
   "outputs": [],
   "source": []
  }
 ],
 "metadata": {
  "kernelspec": {
   "display_name": "Python 3",
   "language": "python",
   "name": "python3"
  },
  "language_info": {
   "codemirror_mode": {
    "name": "ipython",
    "version": 3
   },
   "file_extension": ".py",
   "mimetype": "text/x-python",
   "name": "python",
   "nbconvert_exporter": "python",
   "pygments_lexer": "ipython3",
   "version": "3.7.3"
  }
 },
 "nbformat": 4,
 "nbformat_minor": 2
}
