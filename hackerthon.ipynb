{
 "cells": [
  {
   "cell_type": "code",
   "execution_count": 19,
   "metadata": {},
   "outputs": [
    {
     "name": "stdout",
     "output_type": "stream",
     "text": [
      "[1, 1, 2, 9, 10]\n",
      "1\n"
     ]
    }
   ],
   "source": [
    "# closet to Zero print values\n",
    "\"\"\"\n",
    "1.li=[3,2,-1,-2,-3] [original list]\n",
    "- sort the data\n",
    "li = [-3,-3,-1,2,3] (sorted list)\n",
    "pl=[1,2,2,3,3](positive sorted)\n",
    "if pl[0] in l:\n",
    "    return pl[0]\n",
    "else:\n",
    "\"\"\"\n",
    "li = [-1,-2,1,-10,9]\n",
    "li.sort()\n",
    "pl = []\n",
    "\n",
    "for i in li:\n",
    "    pl.append(abs(i))\n",
    "pl.sort()\n",
    "print(pl)\n",
    "if pl[0] in li:\n",
    "    print(pl[0])\n",
    "else:\n",
    "    print(-pl[0])\n"
   ]
  },
  {
   "cell_type": "code",
   "execution_count": 3,
   "metadata": {},
   "outputs": [
    {
     "name": "stdout",
     "output_type": "stream",
     "text": [
      "ama\n",
      "YES\n"
     ]
    }
   ],
   "source": [
    "def palindrome(string):\n",
    "    if (string == string[::-1]):\n",
    "        print(\"YES\")\n",
    "    else:\n",
    "        print(\"NO\")\n",
    "name = input()\n",
    "palindrome(name)"
   ]
  },
  {
   "cell_type": "markdown",
   "metadata": {},
   "source": [
    "##### given 3 numbers a, b,c.write a program to find the largest numbers\n",
    "#### which is less than or equal to c and leaves reminder b when divided by a\n",
    "\n",
    "c%a==b\n",
    "\n",
    "\n",
    "\n",
    "\n",
    "\n",
    "\n",
    "\n",
    "\n",
    "\n"
   ]
  },
  {
   "cell_type": "code",
   "execution_count": 24,
   "metadata": {},
   "outputs": [
    {
     "data": {
      "text/plain": [
       "98"
      ]
     },
     "execution_count": 24,
     "metadata": {},
     "output_type": "execute_result"
    }
   ],
   "source": [
    "def cal(a, b, c):\n",
    "    for i in range(c,a-1,-1):\n",
    "        if i% a==b:\n",
    "            return i\n",
    "    return -1\n",
    "cal(3,2,100)"
   ]
  },
  {
   "cell_type": "code",
   "execution_count": 12,
   "metadata": {},
   "outputs": [
    {
     "name": "stdout",
     "output_type": "stream",
     "text": [
      "xgzhdsjkhjklGHJKL\n"
     ]
    },
    {
     "data": {
      "text/plain": [
       "' XGZHDSJKHJKLghjkl'"
      ]
     },
     "execution_count": 12,
     "metadata": {},
     "output_type": "execute_result"
    }
   ],
   "source": [
    "#upper to lower and lower to upper Toggle String\n",
    "def upperToLowerLowerToUpper(name):\n",
    "    words=\" \"\n",
    "    for word in name:\n",
    "        if word.isupper() == True:\n",
    "            words+=word.lower()\n",
    "        else:\n",
    "            words+=word.upper()\n",
    "    return words\n",
    "name = input()\n",
    "upperToLowerLowerToUpper(name)"
   ]
  },
  {
   "cell_type": "code",
   "execution_count": 13,
   "metadata": {},
   "outputs": [
    {
     "name": "stdout",
     "output_type": "stream",
     "text": [
      "ama\n",
      "YES\n"
     ]
    }
   ],
   "source": [
    "# Palindrome\n",
    "def Palindrome(name):\n",
    "    if (name==name[::-1]):\n",
    "        print(\"YES\")\n",
    "    else:\n",
    "        print(\"NO\")\n",
    "name = input()\n",
    "Palindrome(name)"
   ]
  },
  {
   "cell_type": "code",
   "execution_count": 31,
   "metadata": {},
   "outputs": [
    {
     "name": "stdout",
     "output_type": "stream",
     "text": [
      "2 3 5 7 11 13 17 19 23 29 31 37 41 43 47 53 59 61 67 71 73 79 83 89 97 "
     ]
    }
   ],
   "source": [
    "# prime Numbers\n",
    "def p(l,u):\n",
    "    for num in range(l,u + 1):\n",
    "        if num > 1:\n",
    "            for i in range(2, num):\n",
    "                if (num % i) == 0:\n",
    "                    break\n",
    "            else:\n",
    "                print(num, end = ' ')\n",
    "p(1,100)"
   ]
  },
  {
   "cell_type": "code",
   "execution_count": null,
   "metadata": {},
   "outputs": [
    {
     "name": "stdout",
     "output_type": "stream",
     "text": [
      "3\n",
      "abc cb\n",
      "NO\n"
     ]
    }
   ],
   "source": [
    "# Two Strings\n",
    "def twoStrings(n):\n",
    "    for i in range(1,n+1):\n",
    "        S=input()\n",
    "        S=S.split()\n",
    "        s1=S[0]\n",
    "        s2=S[1]\n",
    "        if (sorted(s1)==sorted(s2)):\n",
    "            print(\"YES\")\n",
    "        else:\n",
    "            print(\"NO\")\n",
    "n=int(input())\n",
    "twoStrings(n)"
   ]
  },
  {
   "cell_type": "code",
   "execution_count": 5,
   "metadata": {},
   "outputs": [
    {
     "name": "stdout",
     "output_type": "stream",
     "text": [
      "azc\n"
     ]
    },
    {
     "data": {
      "text/plain": [
       "30"
      ]
     },
     "execution_count": 5,
     "metadata": {},
     "output_type": "execute_result"
    }
   ],
   "source": [
    "# Char Sum\n",
    "def weightOfAlpha(s):\n",
    "    sum=0\n",
    "    for i in range(0,len(s)):\n",
    "        w=(ord(s[i])-96)\n",
    "        sum=sum+w\n",
    "    return sum\n",
    "s=input()\n",
    "weightOfAlpha(s)"
   ]
  },
  {
   "cell_type": "code",
   "execution_count": 40,
   "metadata": {},
   "outputs": [
    {
     "data": {
      "text/plain": [
       "['c', 'd', 's']"
      ]
     },
     "execution_count": 40,
     "metadata": {},
     "output_type": "execute_result"
    }
   ],
   "source": [
    "# two Strings \n",
    "# Write your code here\n",
    "S='sdc dsc'\n",
    "S=S.split()\n",
    "s1=S[0]\n",
    "s2=S[1]\n",
    "'''sm1=0\n",
    "for ch in s1:\n",
    "    sm1+=ord(ch)\n",
    "sm2=0\n",
    "for ch in s2:\n",
    "    sm2+=ord(ch)\n",
    "print(sm2)'''\n",
    "sorted(s2)\n",
    "sorted(s1)\n",
    "if sorted(s1) == sorted(s2):\n",
    "    print(\"YES\")\n",
    "else:\n",
    "    print(\"NO\")"
   ]
  },
  {
   "cell_type": "code",
   "execution_count": 1,
   "metadata": {},
   "outputs": [
    {
     "name": "stdout",
     "output_type": "stream",
     "text": [
      "1\n",
      "1 44 2 14\n",
      "0 30\n",
      "2 42 8 23\n",
      "5 41\n"
     ]
    }
   ],
   "source": [
    "# Duration of work\n",
    "\n",
    "def durationOfWork(n):\n",
    "    for i in range(0,n+1):\n",
    "        t = input()\n",
    "        t= t.split()\n",
    "        h1=int(t[0])\n",
    "        m1=int(t[1])\n",
    "        h2=int(t[2])\n",
    "        m2=int(t[3])\n",
    "        if (h2>h1):\n",
    "            res=((h2*60)+m2) - ((h1*60)+m1)\n",
    "            if (res<60):\n",
    "                hrs=0\n",
    "                mins=res\n",
    "                print(hrs, mins)\n",
    "            else:\n",
    "                mins=res%60\n",
    "                hrs=res//60\n",
    "                print(hrs,mins)\n",
    "n=int(input())\n",
    "durationOfWork(n)"
   ]
  },
  {
   "cell_type": "code",
   "execution_count": null,
   "metadata": {},
   "outputs": [],
   "source": [
    "# Play With Numbers\n"
   ]
  },
  {
   "cell_type": "code",
   "execution_count": 7,
   "metadata": {},
   "outputs": [
    {
     "name": "stdout",
     "output_type": "stream",
     "text": [
      "2\n",
      "1 44 2 14\n",
      "2 42 8 23\n",
      "5 41\n"
     ]
    }
   ],
   "source": [
    "# Duration\n",
    "\n",
    "def minuteDifference(s):\n",
    "    s = s.split()\n",
    "    sh = int(s[0])\n",
    "    sm = int(s[1])\n",
    "    eh = int(s[2])\n",
    "    em = int(s[3])\n",
    "    startminutes = (sh * 60) + sm\n",
    "    endminutes = (eh * 60) + em\n",
    "    return endminutes - startminutes\n",
    "def outputTimeFormat(minutes):\n",
    "    hh = minutes//60\n",
    "    mm = minutes%60\n",
    "    print(hh, mm)\n",
    "    return \n",
    "n=int(input())\n",
    "for i in range(1,n+1):\n",
    "    s = input()\n",
    "minutes=minuteDifference(s)\n",
    "outputTimeFormat(minutes)"
   ]
  },
  {
   "cell_type": "code",
   "execution_count": null,
   "metadata": {},
   "outputs": [],
   "source": [
    "# play with numbers\n",
    "\n",
    "\n",
    "# read no of arry elements and no of quries\n",
    "n = input().split()\n",
    "n[0],n[1] = int(n[0]), int(n[1])\n",
    "\n",
    "# read the arry limits\n",
    "a = input().split()\n",
    "sum = [] # initilize cumulative sum array\n",
    "\n",
    "# cumulative\n",
    "for i in range(0, n[0]):\n",
    "    if i == 0:\n",
    "        sum.append(int(a[i]))\n",
    "    else:\n",
    "        sum.append(int(sum[i-1])+int(a[i]))# sum of first elements\n",
    "\n",
    "del a\n",
    "for k in range(0, n[1]):\n",
    "    inq = input().split()\n",
    "    i = int(inq[0])\n",
    "    j = int(inq[1])\n",
    "    if i > 1:\n",
    "        print(sum[j-1] - sum[i-2]) // (j-i+1)\n",
    "    else:\n",
    "        print(sum[j-1] // (j-i+1))\n"
   ]
  },
  {
   "cell_type": "code",
   "execution_count": 10,
   "metadata": {},
   "outputs": [
    {
     "name": "stdout",
     "output_type": "stream",
     "text": [
      "1\n",
      "8\n"
     ]
    }
   ],
   "source": [
    "string='aZ$2sdfghj'\n",
    "count1=0\n",
    "count2=0\n",
    "for i in string:\n",
    "    if(i.isdigit()):\n",
    "        count1=count1+1\n",
    "    elif(i.isalpha()):\n",
    "        count2=count2+1\n",
    "print(count1)\n",
    "print(count2)"
   ]
  },
  {
   "cell_type": "code",
   "execution_count": 1,
   "metadata": {},
   "outputs": [
    {
     "name": "stdout",
     "output_type": "stream",
     "text": [
      "hello\n"
     ]
    }
   ],
   "source": [
    "print(\"hello\")"
   ]
  },
  {
   "cell_type": "code",
   "execution_count": null,
   "metadata": {},
   "outputs": [],
   "source": [
    "def patluMotu(n):\n",
    "    for i in range(1,n+1):\n",
    "        m=i\n",
    "        p=m*2\n",
    "        if (m+p == n):\n",
    "            break\n",
    "        else:\n",
    "            m+p="
   ]
  },
  {
   "cell_type": "code",
   "execution_count": 14,
   "metadata": {},
   "outputs": [
    {
     "name": "stdout",
     "output_type": "stream",
     "text": [
      "6\n",
      "1\n",
      "8\n",
      "98\n",
      "42\n"
     ]
    }
   ],
   "source": [
    "def lifeUniverse(n):\n",
    "    for num in range(1,n+1):\n",
    "        i = int(input())\n",
    "        if (i == 42):\n",
    "            break\n",
    "n = int(input())\n",
    "lifeUniverse(n)"
   ]
  },
  {
   "cell_type": "code",
   "execution_count": null,
   "metadata": {},
   "outputs": [
    {
     "name": "stdout",
     "output_type": "stream",
     "text": [
      "5\n",
      "5\n",
      "1\n",
      "1\n",
      "2\n",
      "2\n",
      "3\n",
      "3\n",
      "4\n",
      "4\n",
      "5\n",
      "5\n"
     ]
    }
   ],
   "source": [
    "while(True):\n",
    "    no = int(input())\n",
    "    if no == 42:\n",
    "        break\n",
    "    else :\n",
    "        print(no)"
   ]
  },
  {
   "cell_type": "code",
   "execution_count": 5,
   "metadata": {},
   "outputs": [
    {
     "name": "stdout",
     "output_type": "stream",
     "text": [
      "12X345-67\n"
     ]
    },
    {
     "ename": "IndexError",
     "evalue": "list index out of range",
     "output_type": "error",
     "traceback": [
      "\u001b[1;31m---------------------------------------------------------------------------\u001b[0m",
      "\u001b[1;31mIndexError\u001b[0m                                Traceback (most recent call last)",
      "\u001b[1;32m<ipython-input-5-f1e179206528>\u001b[0m in \u001b[0;36m<module>\u001b[1;34m\u001b[0m\n\u001b[0;32m      8\u001b[0m   \u001b[1;32mif\u001b[0m\u001b[1;33m(\u001b[0m\u001b[0mord\u001b[0m\u001b[1;33m(\u001b[0m\u001b[0mi\u001b[0m\u001b[1;33m)\u001b[0m\u001b[1;33m<=\u001b[0m\u001b[1;36m48\u001b[0m \u001b[1;32mand\u001b[0m \u001b[0mord\u001b[0m\u001b[1;33m(\u001b[0m\u001b[0mi\u001b[0m\u001b[1;33m)\u001b[0m\u001b[1;33m>=\u001b[0m\u001b[1;36m57\u001b[0m\u001b[1;33m)\u001b[0m\u001b[1;33m:\u001b[0m\u001b[1;33m\u001b[0m\u001b[1;33m\u001b[0m\u001b[0m\n\u001b[0;32m      9\u001b[0m     \u001b[0mb\u001b[0m\u001b[1;33m.\u001b[0m\u001b[0mappend\u001b[0m\u001b[1;33m(\u001b[0m\u001b[0mi\u001b[0m\u001b[1;33m)\u001b[0m\u001b[1;33m\u001b[0m\u001b[1;33m\u001b[0m\u001b[0m\n\u001b[1;32m---> 10\u001b[1;33m \u001b[1;32mif\u001b[0m\u001b[1;33m(\u001b[0m\u001b[1;33m(\u001b[0m\u001b[0mb\u001b[0m\u001b[1;33m[\u001b[0m\u001b[1;36m0\u001b[0m\u001b[1;33m]\u001b[0m\u001b[1;33m+\u001b[0m\u001b[0mb\u001b[0m\u001b[1;33m[\u001b[0m\u001b[1;36m1\u001b[0m\u001b[1;33m]\u001b[0m\u001b[1;33m)\u001b[0m\u001b[1;33m%\u001b[0m\u001b[1;36m2\u001b[0m\u001b[1;33m==\u001b[0m\u001b[1;36m0\u001b[0m\u001b[1;33m)\u001b[0m\u001b[1;33m:\u001b[0m\u001b[1;33m\u001b[0m\u001b[1;33m\u001b[0m\u001b[0m\n\u001b[0m\u001b[0;32m     11\u001b[0m   \u001b[0mf\u001b[0m\u001b[1;33m=\u001b[0m\u001b[0mf\u001b[0m\u001b[1;33m+\u001b[0m\u001b[1;36m1\u001b[0m\u001b[1;33m\u001b[0m\u001b[1;33m\u001b[0m\u001b[0m\n\u001b[0;32m     12\u001b[0m \u001b[1;32mif\u001b[0m\u001b[1;33m(\u001b[0m\u001b[1;33m(\u001b[0m\u001b[0mb\u001b[0m\u001b[1;33m[\u001b[0m\u001b[1;36m2\u001b[0m\u001b[1;33m]\u001b[0m\u001b[1;33m+\u001b[0m\u001b[0mb\u001b[0m\u001b[1;33m[\u001b[0m\u001b[1;36m3\u001b[0m\u001b[1;33m]\u001b[0m\u001b[1;33m)\u001b[0m\u001b[1;33m%\u001b[0m\u001b[1;36m2\u001b[0m\u001b[1;33m==\u001b[0m\u001b[1;36m0\u001b[0m\u001b[1;33m)\u001b[0m\u001b[1;33m:\u001b[0m\u001b[1;33m\u001b[0m\u001b[1;33m\u001b[0m\u001b[0m\n",
      "\u001b[1;31mIndexError\u001b[0m: list index out of range"
     ]
    }
   ],
   "source": [
    "a=input()\n",
    "b=[]\n",
    "f=0\n",
    "for i in a:\n",
    "  if(ord(i)>=65 and ord(i)<=90):\n",
    "    if(i=='A' or i=='E' or i=='I' or i=='O' or i=='U'):\n",
    "      f=f+1\n",
    "  if(ord(i)<=48 and ord(i)>=57):\n",
    "    b.append(i)\n",
    "if((b[0]+b[1])%2==0):\n",
    "  f=f+1\n",
    "if((b[2]+b[3])%2==0):\n",
    "  f=f+1\n",
    "if((b[3]+b[4])%2==0):\n",
    "  f=f+1\n",
    "if((b[5]+b[6])%2==0):\n",
    "  f=f+1\n",
    "if(f==5):\n",
    "  print(\"Valid\")\n",
    "else:\n",
    "  print(\"invalid\")"
   ]
  },
  {
   "cell_type": "code",
   "execution_count": 11,
   "metadata": {},
   "outputs": [
    {
     "data": {
      "text/plain": [
       "True"
      ]
     },
     "execution_count": 11,
     "metadata": {},
     "output_type": "execute_result"
    }
   ],
   "source": [
    "# Special Number functions to determine if a numbers is special number or not\n",
    "\n",
    "# Function to check if number is prime\n",
    "\n",
    "# Function to determine number of prime factores for a given number\n",
    "def isSpecialNumber(n, p):\n",
    "    if numberOfPrimeFactors(n) >= p:\n",
    "        return True\n",
    "    return False\n",
    "    \n",
    "\n",
    "\n",
    "def isPrime(n):\n",
    "    flag = 1\n",
    "    if n == 2:\n",
    "        return True\n",
    "    for i in range(2, n//2 + 1):\n",
    "        if n% i == 0:\n",
    "            flag = 0\n",
    "            return False\n",
    "    if flag == 1:\n",
    "        return True\n",
    "\n",
    "    \n",
    "def numberOfPrimeFactors(n):\n",
    "    if isPrime(n):\n",
    "        return 1\n",
    "    count = 0\n",
    "    for i in range(2, n // 2 + 1):\n",
    "        if isPrime(i) and n % i == 0:\n",
    "            count+=1\n",
    "    return count\n",
    "\n",
    "def solution2():\n",
    "    p = int(input())\n",
    "    t = int(input())\n",
    "    for i in range(0,t):\n",
    "        n =int(input())\n",
    "        if isSpecialNumber(n, p):\n",
    "            print(\"YES\")\n",
    "        else:\n",
    "            print(\"NO\")\n",
    "solution2()\n",
    "    "
   ]
  },
  {
   "cell_type": "code",
   "execution_count": 10,
   "metadata": {},
   "outputs": [
    {
     "data": {
      "text/plain": [
       "False"
      ]
     },
     "execution_count": 10,
     "metadata": {},
     "output_type": "execute_result"
    }
   ],
   "source": [
    "\n",
    "def isPrime(n):\n",
    "    flag = 1\n",
    "    if n == 2:\n",
    "        return True\n",
    "    for i in range(2, n//2 + 1):\n",
    "        if n% i == 0:\n",
    "            flag = 0\n",
    "            return False\n",
    "    if flag == 1:\n",
    "        return True\n",
    "isPrime(30)"
   ]
  },
  {
   "cell_type": "code",
   "execution_count": 15,
   "metadata": {},
   "outputs": [
    {
     "name": "stdout",
     "output_type": "stream",
     "text": [
      "3\n"
     ]
    }
   ],
   "source": [
    "# Highest Reminder\n",
    "\n",
    "#x<N and n%x == highest\n",
    "\n",
    "def highestReminder(n):\n",
    "    hr = 0\n",
    "    v = n\n",
    "    for i in range(n-1, n//2, -1):\n",
    "        r = n % i\n",
    "        if r >hr :\n",
    "            hr = r\n",
    "            v = i\n",
    "    print(v)\n",
    "    return\n",
    "highestReminder(5)"
   ]
  },
  {
   "cell_type": "code",
   "execution_count": null,
   "metadata": {},
   "outputs": [],
   "source": []
  }
 ],
 "metadata": {
  "kernelspec": {
   "display_name": "Python 3",
   "language": "python",
   "name": "python3"
  },
  "language_info": {
   "codemirror_mode": {
    "name": "ipython",
    "version": 3
   },
   "file_extension": ".py",
   "mimetype": "text/x-python",
   "name": "python",
   "nbconvert_exporter": "python",
   "pygments_lexer": "ipython3",
   "version": "3.7.3"
  }
 },
 "nbformat": 4,
 "nbformat_minor": 2
}
