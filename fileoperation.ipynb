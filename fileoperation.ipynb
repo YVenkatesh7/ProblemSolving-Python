{
 "cells": [
  {
   "cell_type": "code",
   "execution_count": null,
   "metadata": {},
   "outputs": [],
   "source": [
    "# Find and Replace Application\n",
    "    # Count the total number of occurances of a word\n",
    "    # If word is existing \n",
    "    # Replace all occurances of a word with another word"
   ]
  },
  {
   "cell_type": "code",
   "execution_count": 1,
   "metadata": {},
   "outputs": [
    {
     "name": "stdout",
     "output_type": "stream",
     "text": [
      "Successfully Inserted Data\n"
     ]
    }
   ],
   "source": [
    "# file operation\n",
    "\n",
    "def writeFile(filepath):\n",
    "    with open(filepath, 'w') as f:\n",
    "        data= f.write(\"\"\"yekkanti venkatesh \\nfrom kadapa district \\nandhra pradesh kadapa \\nqis institute of technology \\ndistrict apssdc\"\"\")\n",
    "        print(\"Successfully Inserted Data\")\n",
    "filepath = 'DataFiles/example.txt'\n",
    "writeFile(filepath)"
   ]
  },
  {
   "cell_type": "code",
   "execution_count": 2,
   "metadata": {},
   "outputs": [
    {
     "name": "stdout",
     "output_type": "stream",
     "text": [
      "yekkanti venkatesh \n",
      "from kadapa district \n",
      "andhra pradesh kadapa \n",
      "qis institute of technology \n",
      "district apssdc\n"
     ]
    }
   ],
   "source": [
    "# read data from file\n",
    "\n",
    "def readData(filepath):\n",
    "    with open(filepath, 'r') as f:\n",
    "        data = f.read()\n",
    "        print(data)\n",
    "filepath = 'DataFiles/example.txt'\n",
    "readData(filepath)"
   ]
  },
  {
   "cell_type": "code",
   "execution_count": 3,
   "metadata": {},
   "outputs": [
    {
     "name": "stdout",
     "output_type": "stream",
     "text": [
      "enter a word :kadapa\n",
      "kadapa 2\n"
     ]
    }
   ],
   "source": [
    " # Count the total number of occurances of a word\n",
    "    \n",
    "def countOfWord(filepath):\n",
    "    with open(filepath, 'r') as f:\n",
    "        data = f.read()\n",
    "        data1 = data.split()\n",
    "        count = 0\n",
    "        a = input(\"enter a word :\")\n",
    "        for i in data1:\n",
    "            if a in i:\n",
    "                count = count + 1\n",
    "        print(a, count)\n",
    "filepath = 'DataFiles/example.txt'\n",
    "countOfWord(filepath)"
   ]
  },
  {
   "cell_type": "code",
   "execution_count": null,
   "metadata": {},
   "outputs": [],
   "source": []
  },
  {
   "cell_type": "code",
   "execution_count": 17,
   "metadata": {},
   "outputs": [
    {
     "name": "stdout",
     "output_type": "stream",
     "text": [
      "old name :guntur\n",
      "new name :kadapa\n",
      "successfully updated \n",
      "\n",
      "yekkanti venkatesh \n",
      "from kadapa district \n",
      "andhra pradesh kadapa \n",
      "qis institute of technology \n",
      "district apssdc\n"
     ]
    }
   ],
   "source": [
    "# Function to replace the word with old one\n",
    "\n",
    "def replaceWord(filepath):\n",
    "    mod = ''\n",
    "    with open(filepath, 'r') as f:\n",
    "        data = f.read()\n",
    "        old_name = input(\"old name :\")\n",
    "        new_name = input(\"new name :\")\n",
    "        mod += data.replace(old_name, new_name) \n",
    "    with open(filepath, 'w') as f:\n",
    "        data = f.write(mod)\n",
    "        print(\"successfully updated \\n\")\n",
    "    with open(filepath, 'r') as f:\n",
    "        data = f.read()\n",
    "        print(data)        \n",
    "filepath = 'DataFiles/example.txt'\n",
    "replaceWord(filepath)\n"
   ]
  },
  {
   "cell_type": "code",
   "execution_count": null,
   "metadata": {},
   "outputs": [],
   "source": []
  }
 ],
 "metadata": {
  "kernelspec": {
   "display_name": "Python 3",
   "language": "python",
   "name": "python3"
  },
  "language_info": {
   "codemirror_mode": {
    "name": "ipython",
    "version": 3
   },
   "file_extension": ".py",
   "mimetype": "text/x-python",
   "name": "python",
   "nbconvert_exporter": "python",
   "pygments_lexer": "ipython3",
   "version": "3.7.3"
  }
 },
 "nbformat": 4,
 "nbformat_minor": 2
}
