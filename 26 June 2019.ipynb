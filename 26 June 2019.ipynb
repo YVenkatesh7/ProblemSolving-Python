{
 "cells": [
  {
   "cell_type": "code",
   "execution_count": null,
   "metadata": {},
   "outputs": [],
   "source": [
    "# Largest number in a list\n",
    "# Second largest number in a list\n",
    "# Kth largest number is alist\n",
    "\n",
    "# Element with highest frequency\n",
    "# Kth highest\n",
    "# Second highest frequency\n",
    "# Kth Highest frequency\n"
   ]
  },
  {
   "cell_type": "code",
   "execution_count": 10,
   "metadata": {},
   "outputs": [
    {
     "ename": "ValueError",
     "evalue": "invalid literal for int() with base 10: 'asbcda abbcsf asvajhs ashghaskj\\n'",
     "output_type": "error",
     "traceback": [
      "\u001b[1;31m---------------------------------------------------------------------------\u001b[0m",
      "\u001b[1;31mValueError\u001b[0m                                Traceback (most recent call last)",
      "\u001b[1;32m<ipython-input-10-55b881a809a0>\u001b[0m in \u001b[0;36m<module>\u001b[1;34m\u001b[0m\n\u001b[0;32m     21\u001b[0m     \u001b[1;32mreturn\u001b[0m \u001b[0mmin\u001b[0m\u001b[1;33m(\u001b[0m\u001b[0mli\u001b[0m\u001b[1;33m)\u001b[0m\u001b[1;33m\u001b[0m\u001b[1;33m\u001b[0m\u001b[0m\n\u001b[0;32m     22\u001b[0m \u001b[1;32mwith\u001b[0m \u001b[0mopen\u001b[0m\u001b[1;33m(\u001b[0m\u001b[1;34m'DataFiles/input.txt'\u001b[0m\u001b[1;33m,\u001b[0m \u001b[1;34m'r'\u001b[0m\u001b[1;33m)\u001b[0m \u001b[1;32mas\u001b[0m \u001b[0mf\u001b[0m\u001b[1;33m:\u001b[0m\u001b[1;33m\u001b[0m\u001b[1;33m\u001b[0m\u001b[0m\n\u001b[1;32m---> 23\u001b[1;33m     \u001b[0mt\u001b[0m \u001b[1;33m=\u001b[0m \u001b[0mint\u001b[0m\u001b[1;33m(\u001b[0m\u001b[0mf\u001b[0m\u001b[1;33m.\u001b[0m\u001b[0mreadline\u001b[0m\u001b[1;33m(\u001b[0m\u001b[1;33m)\u001b[0m\u001b[1;33m)\u001b[0m\u001b[1;33m\u001b[0m\u001b[1;33m\u001b[0m\u001b[0m\n\u001b[0m\u001b[0;32m     24\u001b[0m     \u001b[1;32mfor\u001b[0m \u001b[0mi\u001b[0m \u001b[1;32min\u001b[0m \u001b[0mrange\u001b[0m\u001b[1;33m(\u001b[0m\u001b[0mt\u001b[0m\u001b[1;33m)\u001b[0m\u001b[1;33m:\u001b[0m\u001b[1;33m\u001b[0m\u001b[1;33m\u001b[0m\u001b[0m\n\u001b[0;32m     25\u001b[0m         \u001b[0ms\u001b[0m \u001b[1;33m=\u001b[0m \u001b[0mf\u001b[0m\u001b[1;33m.\u001b[0m\u001b[0mreadline\u001b[0m\u001b[1;33m(\u001b[0m\u001b[1;33m)\u001b[0m\u001b[1;33m\u001b[0m\u001b[1;33m\u001b[0m\u001b[0m\n",
      "\u001b[1;31mValueError\u001b[0m: invalid literal for int() with base 10: 'asbcda abbcsf asvajhs ashghaskj\\n'"
     ]
    }
   ],
   "source": [
    "def kLargestFrequency(s, k):\n",
    "    \n",
    "    unique = []\n",
    "    freq = {}\n",
    "    for i in s:\n",
    "        if i not in unique:\n",
    "            freq[i] = s.count(i)\n",
    "    values = sorted(freq.values(), reverse = True )\n",
    "    uniqueValues = list(set(values))\n",
    "    uniqueValues = sorted(uniqueValues, reverse = False )\n",
    "    \n",
    "    if  k<=len(freq.keys()):\n",
    "        kvalue = uniqueValues[k-1]\n",
    "    else:\n",
    "        return -1\n",
    "    li = []\n",
    "    \n",
    "    for item in freq.items():\n",
    "        if item[1] == kvalue:\n",
    "            li.append(item[0])\n",
    "    return min(li)\n",
    "with open('DataFiles/input.txt', 'r') as f:\n",
    "    t = int(f.readline())\n",
    "    for i in range(t):\n",
    "        s = f.readline()\n",
    "        k = int(f.readline())\n",
    "        print(kLargestFrequency(s, k))\n",
    "        \n",
    "        \n",
    "        "
   ]
  },
  {
   "cell_type": "code",
   "execution_count": 2,
   "metadata": {
    "scrolled": true
   },
   "outputs": [
    {
     "name": "stdout",
     "output_type": "stream",
     "text": [
      "[2, 1]\n"
     ]
    },
    {
     "data": {
      "text/plain": [
       "1"
      ]
     },
     "execution_count": 2,
     "metadata": {},
     "output_type": "execute_result"
    }
   ],
   "source": [
    "# Function to find the largest number in a list\n",
    "def secondLargest(li):\n",
    "    # Convert the list into a unique list\n",
    "    unique = []\n",
    "    for n in li:\n",
    "        if n not in unique:\n",
    "            unique.append(n)\n",
    "    unique = sorted(unique, reverse = True)\n",
    "    print(unique)\n",
    "    return unique[1]\n",
    "li = [1, 2]\n",
    "secondLargest(li)\n",
    "\n",
    "#def fifthLeast(li):\n",
    "\n",
    "\n",
    "# def kLargest(li)\n",
    "\n",
    "\n",
    "# def kSmallest(li)"
   ]
  },
  {
   "cell_type": "code",
   "execution_count": 14,
   "metadata": {},
   "outputs": [
    {
     "name": "stdout",
     "output_type": "stream",
     "text": [
      "[8, 7, 6, 5, 4, 3, 2, 1]\n"
     ]
    },
    {
     "data": {
      "text/plain": [
       "4"
      ]
     },
     "execution_count": 14,
     "metadata": {},
     "output_type": "execute_result"
    }
   ],
   "source": [
    "def kLargest(li, k):\n",
    "    # Convert the list into a unique list\n",
    "    unique = []\n",
    "    for n in li:\n",
    "        if n not in unique:\n",
    "            unique.append(n)\n",
    "    unique = sorted(unique, reverse = True)\n",
    "    print(unique)\n",
    "    if len(unique)>=k:\n",
    "        return unique[4]\n",
    "    return -1\n",
    "li = [1,2,3,4,5,6,7,8,1,2,3,4]\n",
    "kLargest(li, 3)"
   ]
  },
  {
   "cell_type": "code",
   "execution_count": 12,
   "metadata": {},
   "outputs": [
    {
     "data": {
      "text/plain": [
       "1"
      ]
     },
     "execution_count": 12,
     "metadata": {},
     "output_type": "execute_result"
    }
   ],
   "source": [
    "def kSmallest(li, k):\n",
    "    # extract unique elements in the list\n",
    "    unique = []\n",
    "    for i in li:\n",
    "        if i not in unique:\n",
    "            unique.append(i)\n",
    "            \n",
    "    # sort the unique list in descending order\n",
    "    unique = sorted(unique)\n",
    "    # check in length of unique list is greater than k\n",
    "    if len(unique) >= k:\n",
    "        return unique[k-1]\n",
    "    return -1\n",
    "li = [3,3,9,1,2,3,4,5]    \n",
    "kSmallest([1], 1)"
   ]
  },
  {
   "cell_type": "code",
   "execution_count": 38,
   "metadata": {},
   "outputs": [
    {
     "name": "stdout",
     "output_type": "stream",
     "text": [
      "dict_values([2, 2, 1, 2])\n",
      "2\n"
     ]
    },
    {
     "data": {
      "text/plain": [
       "2"
      ]
     },
     "execution_count": 38,
     "metadata": {},
     "output_type": "execute_result"
    }
   ],
   "source": [
    "# Function to identify the element with highest frequency in a list\n",
    "# if many elements have the highest frequency, return smallets\n",
    "# highestFrequencyelement([1,2,3,9,8,7,3,4,2,1]) -> 1\n",
    "\"\"\"\n",
    "def highestFrequencyElement(li):\n",
    "    unique = []\n",
    "    list1 = []\n",
    "    c = 0\n",
    "    for i in li:\n",
    "        if i not in unique:\n",
    "            unique.append(i)\n",
    "        elif i in li:\n",
    "            list1.append(i)\n",
    "            c += li.count(i)\n",
    "    # sort the unique list in descending order\n",
    "    #unique = sorted(unique)\n",
    "    print(unique)\n",
    "    print(list1,c)\n",
    "    \n",
    "    \n",
    "highestFrequencyElement([1,2,3,9,8,7,3,4,2,1])\n",
    "\"\"\"\n",
    "\n",
    "def highestFrequencyElement(li):\n",
    "    unique = {}\n",
    "    for i in li:\n",
    "        if i in unique:\n",
    "            unique[i] += 1\n",
    "        else:\n",
    "            unique[i] = 1\n",
    "    # Getting all frequencies into a list\n",
    "    freq= unique.values()\n",
    "    print(freq)\n",
    "    maxfreq = max(freq)\n",
    "    print(maxfreq)\n",
    "    maxfreqE = []\n",
    "    # Identify the smallest number with\n",
    "    for item in unique.items():\n",
    "        if item[1] == maxfreq:\n",
    "            maxfreqE.append(item[0])\n",
    "            # Select the minimum from the keys with maximum\n",
    "    maxfreqE = sorted(maxfreqE)\n",
    "    return maxfreqE[2-1]  \n",
    "highestFrequencyElement(li=[1,2,3,2,1,4,4])"
   ]
  },
  {
   "cell_type": "code",
   "execution_count": 32,
   "metadata": {},
   "outputs": [
    {
     "name": "stdout",
     "output_type": "stream",
     "text": [
      "2\n",
      "1\n"
     ]
    },
    {
     "data": {
      "text/plain": [
       "9"
      ]
     },
     "execution_count": 32,
     "metadata": {},
     "output_type": "execute_result"
    }
   ],
   "source": [
    "def secondHighestFreq(li):\n",
    "    unique={}\n",
    "    for n in li:\n",
    "        if n in unique:\n",
    "            unique[n] +=1\n",
    "        else:\n",
    "            unique[n] =1\n",
    "    freq=unique.values()\n",
    "    maxfreq=max(freq)\n",
    "    print(maxfreq)\n",
    "    max2=0\n",
    "    for i in unique.values():\n",
    "        if(i>max2 and i<maxfreq):\n",
    "              max2=i\n",
    "    print(max2)   \n",
    "    maxfreqkeys = []\n",
    "    for item in unique.items():\n",
    "        if item[1]==max2:\n",
    "            maxfreqkeys.append(item[0])\n",
    "    return min(maxfreqkeys)\n",
    "\n",
    "      #Select the minimum from the keys with maximum frequancy\n",
    "       #maxfreq=sorted(maxfreq,reverse=True)\n",
    "      # return maxfreq[k-1]\n",
    "secondHighestFreq([1,2,3,2,1,9,8,3,8])"
   ]
  },
  {
   "cell_type": "code",
   "execution_count": 7,
   "metadata": {},
   "outputs": [
    {
     "name": "stdout",
     "output_type": "stream",
     "text": [
      "{9: 2, 8: 1, 7: 5, 6: 5, 5: 1, 2: 1, 3: 1, 4: 1}\n",
      "6\n",
      "[1, 2, 5]\n"
     ]
    }
   ],
   "source": [
    "def kHighFreq(s, k):\n",
    "    unique = {}\n",
    "    for c in s:\n",
    "        if c not in unique:\n",
    "            unique[c] = 1\n",
    "        else:\n",
    "            unique[c] +=1\n",
    "    print(unique)\n",
    "    uniquefreq = []\n",
    "    for i in unique.values():\n",
    "        if i not in uniquefreq:\n",
    "            uniquefreq.append(i)\n",
    "    \n",
    "    uniquefreq = sorted(uniquefreq)\n",
    "    kfreq = uniquefreq[k-1]\n",
    "    kfreqchar = []\n",
    "    for item in unique.items():\n",
    "        if item[1] == kfreq:\n",
    "            kfreqchar.append(item[0])# item[1] values item[0] keys\n",
    "    \n",
    "    print(min(kfreqchar))\n",
    "    print(uniquefreq)        \n",
    "kHighFreq([9,8,7,6,5,2,3,4,9,6,7,7,7,6,7,6,6], 3)"
   ]
  },
  {
   "cell_type": "code",
   "execution_count": 23,
   "metadata": {},
   "outputs": [
    {
     "name": "stdout",
     "output_type": "stream",
     "text": [
      "-1\n",
      "-1\n",
      "-1\n",
      "-1\n",
      "-1\n",
      "-1\n",
      "-1\n",
      "-1\n",
      "-1\n",
      "-1\n"
     ]
    }
   ],
   "source": [
    "def kHighFreq(s, k):\n",
    "    unique = {}\n",
    "    for c in s:\n",
    "        if c not in unique:\n",
    "            unique[c] = 1\n",
    "        else:\n",
    "            unique[c] +=1\n",
    "    uniquefreq = []\n",
    "    for i in unique.values():\n",
    "        if i not in uniquefreq:\n",
    "            uniquefreq.append(i)\n",
    "    \n",
    "    uniquefreq = sorted(uniquefreq)\n",
    "    kfreqchar = []\n",
    "    if len(uniquefreq) == 1:\n",
    "        return uniquefreq[k-1]\n",
    "    else:\n",
    "        return -1\n",
    "    for item in unique.items():\n",
    "        if item[1] == kfreq:\n",
    "            kfreqchar.append(item[0])# item[1] values item[0] keys\n",
    "    \n",
    "    return min(kfreqchar)      \n",
    "with open('DataFiles/k-largest-frequency-input.txt', 'r') as f:\n",
    "    t = int(f.readline())\n",
    "    for l in range(t):\n",
    "        s = f.readline()\n",
    "        k = int(f.readline())\n",
    "        print(kHighFreq(s, k))\n",
    "    "
   ]
  },
  {
   "cell_type": "code",
   "execution_count": 26,
   "metadata": {},
   "outputs": [
    {
     "name": "stdout",
     "output_type": "stream",
     "text": [
      "s\n",
      "g\n",
      "h\n",
      "e\n",
      "w\n",
      "r\n",
      "n\n",
      "k\n",
      "-1\n",
      "-1\n"
     ]
    }
   ],
   "source": [
    "\n",
    "def KthHighestFrequency(s,k):\n",
    "    # Unique characters with frequencies\n",
    "    \n",
    "    unique = {}\n",
    "    for c in s:\n",
    "        if c not in unique:\n",
    "            unique[c] = 1\n",
    "        else:\n",
    "            unique[c] += 1\n",
    "            \n",
    "    # unique = {9:2,8:1,7:5,6:4,5:1,4:}        \n",
    "    #return unique\n",
    "    \n",
    "    # Extract all unique frequencies in a list\n",
    "    # uniquefreq=[2,1,5,4]\n",
    "    \n",
    "    uniquefreq = []\n",
    "    for value in unique.values():\n",
    "        if value not in uniquefreq:\n",
    "            uniquefreq.append(value)\n",
    "    \n",
    "    uniquefreq = sorted(uniquefreq,reverse = True)\n",
    "    #print(uniquefreq)\n",
    "    #print(k, end = \" \")\n",
    "    if(len(uniquefreq)>k):\n",
    "        kfreq = uniquefreq[k-1]\n",
    "    else:\n",
    "        return -1\n",
    "        \n",
    "    kfreqchar = []\n",
    "    for item in unique.items():\n",
    "        if item[1] == kfreq:\n",
    "            kfreqchar.append(item[0])\n",
    "            \n",
    "    if len(kfreqchar)==1:\n",
    "        return kfreqchar[0]\n",
    "    elif len(kfreqchar)>= 1:\n",
    "        return min(kfreqchar)\n",
    "            \n",
    "    #return kfreqchar\n",
    "        \n",
    "with open('Datafiles/k-largest-frequency-input.txt','r') as f:\n",
    "    t = int(f.readline())\n",
    "    for i in range(t):\n",
    "        s = f.readline()\n",
    "        k = int(f.readline())\n",
    "        #print(s, k)\n",
    "        #print(k, end = \" \")\n",
    "        print(KthHighestFrequency(s,k))\n",
    "#KthHighestFrequency()"
   ]
  },
  {
   "cell_type": "code",
   "execution_count": 41,
   "metadata": {},
   "outputs": [
    {
     "name": "stdout",
     "output_type": "stream",
     "text": [
      "1 2 3\n",
      "1 2 4\n",
      "1 2 5\n",
      "1 3 4\n",
      "1 3 5\n",
      "1 4 5\n",
      "2 3 4\n",
      "2 3 5\n",
      "2 4 5\n",
      "3 4 5\n"
     ]
    }
   ],
   "source": [
    "# Medium Question\n",
    "\n",
    "# Function to print all combinations of pairs of integers in a unique list\n",
    "# [1, 2, 3]  -> (1,2),(1,3),(2,3)  -> 3C2\n",
    "\n",
    "# [1,2,3,4]  ->\n",
    "\n",
    "def combinations(li):\n",
    "    for i in range(len(li)-1):\n",
    "        for j in range(i+1, len(li)-1):\n",
    "            for k in range(j+1, len(li)):\n",
    "                print(li[i], li[j], li[k])\n",
    "combinations([1,2,3,4,5])"
   ]
  },
  {
   "cell_type": "code",
   "execution_count": 42,
   "metadata": {},
   "outputs": [
    {
     "name": "stdout",
     "output_type": "stream",
     "text": [
      "0 1 2 1 2 "
     ]
    }
   ],
   "source": [
    "def c(li):\n",
    "    for i in range(len(li)-1):\n",
    "        print(i, end = ' ')\n",
    "        for j in range(i+1, len(li)):\n",
    "            print(j, end = ' ')\n",
    "c([1,2,3])"
   ]
  },
  {
   "cell_type": "code",
   "execution_count": 58,
   "metadata": {},
   "outputs": [
    {
     "data": {
      "text/plain": [
       "[3, 8, 15, 5, 12, 2, 9, 1, 6, 7, 4, 10, 13, 14, 11]"
      ]
     },
     "execution_count": 58,
     "metadata": {},
     "output_type": "execute_result"
    }
   ],
   "source": [
    "# [1, 2, 3] -> [1,2,3]\n",
    "\n",
    "    \n",
    "def differencePairs(li):\n",
    "    for i in range(len(li)-1):\n",
    "        for j in range(i+1, len(li)):\n",
    "            d = abs(li[i]-li[j])\n",
    "            if d not in li:\n",
    "                li.append(d)\n",
    "                differencePairs(li)\n",
    "    \n",
    "    return li\n",
    "li = [3,8,15]\n",
    "differencePairs(li)\n",
    "                    \n",
    "                "
   ]
  },
  {
   "cell_type": "code",
   "execution_count": 66,
   "metadata": {},
   "outputs": [
    {
     "data": {
      "text/plain": [
       "[[2, 3, 6, 9, 12, 1, 4, 7, 10], [2, 3, 6, 9, 12, 1, 4, 7, 10, 5, 8, 11]]"
      ]
     },
     "execution_count": 66,
     "metadata": {},
     "output_type": "execute_result"
    }
   ],
   "source": [
    "# [1, 2, 3] -> [1,2,3]\n",
    "\n",
    "    \n",
    "def differencePairs2(li):\n",
    "    c = li.copy()\n",
    "    newelements = []\n",
    "    for i in range(len(li)-1):\n",
    "        for j in range(i+1, len(li)):\n",
    "            d = abs(li[i]-li[j])\n",
    "            if d not in li and d not in newelements:\n",
    "                newelements.append(d)\n",
    "                \n",
    "    li.extend(newelements)\n",
    "    return [c,li]\n",
    "li = [2, 3, 6, 9, 12, 1, 4, 7, 10]\n",
    "differencePairs2(li)\n",
    "                    \n",
    "                "
   ]
  },
  {
   "cell_type": "markdown",
   "metadata": {},
   "source": [
    "### Set - Data Structure in Python\n",
    "\n",
    "Represented by '{}'\n",
    "\n"
   ]
  },
  {
   "cell_type": "code",
   "execution_count": 94,
   "metadata": {},
   "outputs": [
    {
     "data": {
      "text/plain": [
       "{1, 2, 3, 4, 5, 6, 7, 8, 9, 11, 12, 13}"
      ]
     },
     "execution_count": 94,
     "metadata": {},
     "output_type": "execute_result"
    }
   ],
   "source": [
    "a = {1,2,4,3,5,6}\n",
    "a.add(7)\n",
    "#for i in a:\n",
    " #   print(i , end = ' ')\n",
    "\n",
    "b = {7,8,9,1,2,3}\n",
    "li = [11,12,13,1]\n",
    "a.update(b, li)\n",
    "a"
   ]
  },
  {
   "cell_type": "code",
   "execution_count": 97,
   "metadata": {},
   "outputs": [
    {
     "data": {
      "text/plain": [
       "{1, 2, 3, 4, 5, 6, 7, 8, 9, 11, 12, 13}"
      ]
     },
     "execution_count": 97,
     "metadata": {},
     "output_type": "execute_result"
    }
   ],
   "source": [
    "a.discard(b)\n",
    "a"
   ]
  },
  {
   "cell_type": "code",
   "execution_count": 98,
   "metadata": {},
   "outputs": [
    {
     "data": {
      "text/plain": [
       "{1, 2, 3, 4, 5, 6, 7, 8, 9, 10}"
      ]
     },
     "execution_count": 98,
     "metadata": {},
     "output_type": "execute_result"
    }
   ],
   "source": [
    "a = {10,1,2,3,4,5,6}\n",
    "b = {7,8,9,1,2,3}\n",
    "# A U B = B U A\n",
    "a.union(b)"
   ]
  },
  {
   "cell_type": "code",
   "execution_count": 102,
   "metadata": {},
   "outputs": [
    {
     "data": {
      "text/plain": [
       "{1, 2, 3}"
      ]
     },
     "execution_count": 102,
     "metadata": {},
     "output_type": "execute_result"
    }
   ],
   "source": [
    "a = {10,1,2,3,4,5,6}\n",
    "b = {7,8,9,1,2,3}\n",
    "c = {111,123}\n",
    "a.intersection(b)"
   ]
  },
  {
   "cell_type": "code",
   "execution_count": 105,
   "metadata": {},
   "outputs": [
    {
     "data": {
      "text/plain": [
       "True"
      ]
     },
     "execution_count": 105,
     "metadata": {},
     "output_type": "execute_result"
    }
   ],
   "source": [
    "a = {10,1,2,3,4,5,6}\n",
    "b = {7,8,9,1,2,3}\n",
    "c = {111,123}\n",
    "a.isdisjoint(c)"
   ]
  },
  {
   "cell_type": "code",
   "execution_count": 107,
   "metadata": {},
   "outputs": [
    {
     "data": {
      "text/plain": [
       "{7, 8, 9}"
      ]
     },
     "execution_count": 107,
     "metadata": {},
     "output_type": "execute_result"
    }
   ],
   "source": [
    "a = {10,1,2,3,4,5,6}\n",
    "b = {7,8,9,1,2,3}\n",
    "c = {111,123}\n",
    "a - b # all elements of a which are not in b\n",
    "b-a"
   ]
  },
  {
   "cell_type": "code",
   "execution_count": 108,
   "metadata": {},
   "outputs": [
    {
     "data": {
      "text/plain": [
       "[1, 2, 3, 4, 5, 6, 10]"
      ]
     },
     "execution_count": 108,
     "metadata": {},
     "output_type": "execute_result"
    }
   ],
   "source": [
    "a = {10,1,2,3,4,5,6}\n",
    "b = {7,8,9,1,2,3}\n",
    "c = {111,123}\n",
    "sorted(a)"
   ]
  },
  {
   "cell_type": "code",
   "execution_count": 110,
   "metadata": {},
   "outputs": [
    {
     "data": {
      "text/plain": [
       "{4, 5, 6, 7, 8, 9, 10}"
      ]
     },
     "execution_count": 110,
     "metadata": {},
     "output_type": "execute_result"
    }
   ],
   "source": [
    "a = {10,1,2,3,4,5,6}\n",
    "b = {7,8,9,1,2,3}\n",
    "c = {111,123}\n",
    "a^b # elements either in a or b not in both"
   ]
  },
  {
   "cell_type": "code",
   "execution_count": 112,
   "metadata": {},
   "outputs": [
    {
     "data": {
      "text/plain": [
       "set()"
      ]
     },
     "execution_count": 112,
     "metadata": {},
     "output_type": "execute_result"
    }
   ],
   "source": [
    "a = {10,1,2,3,4,5,6}\n",
    "b = {7,8,9,1,2,3}\n",
    "c = {111,123}\n",
    "d = set()\n",
    "d # empty set"
   ]
  },
  {
   "cell_type": "code",
   "execution_count": 116,
   "metadata": {},
   "outputs": [
    {
     "data": {
      "text/plain": [
       "{1, 2, 3, 4}"
      ]
     },
     "execution_count": 116,
     "metadata": {},
     "output_type": "execute_result"
    }
   ],
   "source": [
    "li = [1,2,3,4,2,1,2,3,4]\n",
    "u = set(li)\n",
    "u"
   ]
  },
  {
   "cell_type": "code",
   "execution_count": null,
   "metadata": {},
   "outputs": [],
   "source": []
  },
  {
   "cell_type": "markdown",
   "metadata": {},
   "source": [
    "Procedural : C\n",
    "Object Oriented : Java, Python\n",
    "Scripting : PHP, Python, JavaScript, Shel\n",
    "Functional : Python, Haskel, Scala\n",
    "Logic : Prolog, Lisp"
   ]
  },
  {
   "cell_type": "markdown",
   "metadata": {},
   "source": [
    "### List Comprehensions"
   ]
  },
  {
   "cell_type": "code",
   "execution_count": 119,
   "metadata": {},
   "outputs": [
    {
     "data": {
      "text/plain": [
       "[1, 2, 3, 4, 5, 6, 7, 8, 9, 10]"
      ]
     },
     "execution_count": 119,
     "metadata": {},
     "output_type": "execute_result"
    }
   ],
   "source": [
    "# N natural numbers\n",
    "n = 10\n",
    "li = []\n",
    "for i in range(1,n+1):\n",
    "    li.append(i)\n",
    "li"
   ]
  },
  {
   "cell_type": "code",
   "execution_count": 121,
   "metadata": {},
   "outputs": [
    {
     "data": {
      "text/plain": [
       "[1, 2, 3, 4, 5, 6, 7, 8, 9, 10]"
      ]
     },
     "execution_count": 121,
     "metadata": {},
     "output_type": "execute_result"
    }
   ],
   "source": [
    "li = [i for i in range(1,11)]\n",
    "li"
   ]
  },
  {
   "cell_type": "code",
   "execution_count": 124,
   "metadata": {},
   "outputs": [
    {
     "data": {
      "text/plain": [
       "[1, 8, 27, 64, 125, 216, 343, 512, 729, 1000]"
      ]
     },
     "execution_count": 124,
     "metadata": {},
     "output_type": "execute_result"
    }
   ],
   "source": [
    "# Apply list comprehension to store the \n",
    "# cubes on n natural numbers\n",
    "\n",
    "li = [i**3 for i in range(1,11)]\n",
    "li"
   ]
  },
  {
   "cell_type": "code",
   "execution_count": 134,
   "metadata": {},
   "outputs": [
    {
     "data": {
      "text/plain": [
       "[1, 2, 6, 24, 120, 720, 5040, 40320, 362880, 3628800]"
      ]
     },
     "execution_count": 134,
     "metadata": {},
     "output_type": "execute_result"
    }
   ],
   "source": [
    "# Function to calculate the factorial\n",
    "\n",
    "def factorial(n):\n",
    "    if n == 0 or n == 1:\n",
    "        return 1\n",
    "    return n * factorial(n-1)\n",
    "\n",
    "\n",
    "n = 10\n",
    "factorialList =  [factorial(i) for i in range(1,n+1)]\n",
    "factorialList"
   ]
  },
  {
   "cell_type": "code",
   "execution_count": 154,
   "metadata": {},
   "outputs": [
    {
     "data": {
      "text/plain": [
       "[1, 3, 6, 10, 15, 21]"
      ]
     },
     "execution_count": 154,
     "metadata": {},
     "output_type": "execute_result"
    }
   ],
   "source": [
    "# Calculate or store cumultive sum of numbers till n in a list\n",
    "# n = 3, [1,3,6]\n",
    "def sumofNumbers(n):\n",
    "    sum = []\n",
    "    j = 1\n",
    "    for i in range(0,n):\n",
    "        res = i + j\n",
    "        j = res + 1\n",
    "        sum.append(res)\n",
    "    return sum\n",
    "n = 6\n",
    "sumofNumbers(n)\n"
   ]
  },
  {
   "cell_type": "code",
   "execution_count": 159,
   "metadata": {},
   "outputs": [
    {
     "data": {
      "text/plain": [
       "[1, 3, 6, 10, 15]"
      ]
     },
     "execution_count": 159,
     "metadata": {},
     "output_type": "execute_result"
    }
   ],
   "source": [
    "n = 6\n",
    "list1 = [sum(range(1, i+1)) for i in range(1,n)]\n",
    "list1"
   ]
  },
  {
   "cell_type": "code",
   "execution_count": 164,
   "metadata": {},
   "outputs": [
    {
     "data": {
      "text/plain": [
       "[1972, 1976, 1980, 1984, 1988, 1992, 1996, 2000, 2004, 2008, 2012, 2016]"
      ]
     },
     "execution_count": 164,
     "metadata": {},
     "output_type": "execute_result"
    }
   ],
   "source": [
    "# List Comprehension to store only leap years in a given time period\n",
    "sy = 1970\n",
    "ey = 2019\n",
    "LeapYear = [i for i in range(sy, ey+1) if (i % 400 == 0 and i%100 !=0) or (i%4 == 0)]\n",
    "LeapYear"
   ]
  },
  {
   "cell_type": "code",
   "execution_count": 210,
   "metadata": {},
   "outputs": [
    {
     "data": {
      "text/plain": [
       "[1, 2, 3]"
      ]
     },
     "execution_count": 210,
     "metadata": {},
     "output_type": "execute_result"
    }
   ],
   "source": [
    "li = [1,2,3,1,2,3,4]\n",
    "li.sort()\n",
    "unique =[li[i] for i in range(0,len(li)-1) if li[i] !=li[i+1] and ]\n",
    "unique"
   ]
  },
  {
   "cell_type": "markdown",
   "metadata": {},
   "source": [
    "### Iterators\n",
    "Iterable - Strings, Lists, Tuples, Sets, Dictionaries\n",
    "\n",
    "convert Iterable to iterator - > iter()\n",
    "\n",
    "For Loop:\n",
    "\n",
    "\n",
    "Iterator:"
   ]
  },
  {
   "cell_type": "code",
   "execution_count": 222,
   "metadata": {},
   "outputs": [
    {
     "name": "stdout",
     "output_type": "stream",
     "text": [
      "y\n",
      "h\n",
      "n\n"
     ]
    }
   ],
   "source": [
    "\n",
    "it = iter(\"Python\")\n",
    "print(next(it))\n",
    "\n"
   ]
  },
  {
   "cell_type": "markdown",
   "metadata": {},
   "source": [
    "### Generators\n",
    "Generator is Function"
   ]
  },
  {
   "cell_type": "code",
   "execution_count": 234,
   "metadata": {},
   "outputs": [
    {
     "ename": "StopIteration",
     "evalue": "",
     "output_type": "error",
     "traceback": [
      "\u001b[1;31m---------------------------------------------------------------------------\u001b[0m",
      "\u001b[1;31mStopIteration\u001b[0m                             Traceback (most recent call last)",
      "\u001b[1;32m<ipython-input-234-c5a94afa9125>\u001b[0m in \u001b[0;36m<module>\u001b[1;34m\u001b[0m\n\u001b[0;32m     13\u001b[0m \u001b[0mnext\u001b[0m\u001b[1;33m(\u001b[0m\u001b[0ma\u001b[0m\u001b[1;33m)\u001b[0m\u001b[1;33m\u001b[0m\u001b[1;33m\u001b[0m\u001b[0m\n\u001b[0;32m     14\u001b[0m \u001b[0mnext\u001b[0m\u001b[1;33m(\u001b[0m\u001b[0ma\u001b[0m\u001b[1;33m)\u001b[0m\u001b[1;33m\u001b[0m\u001b[1;33m\u001b[0m\u001b[0m\n\u001b[1;32m---> 15\u001b[1;33m \u001b[0mnext\u001b[0m\u001b[1;33m(\u001b[0m\u001b[0ma\u001b[0m\u001b[1;33m)\u001b[0m\u001b[1;33m\u001b[0m\u001b[1;33m\u001b[0m\u001b[0m\n\u001b[0m",
      "\u001b[1;31mStopIteration\u001b[0m: "
     ]
    }
   ],
   "source": [
    "\n",
    "def generator():\n",
    "    n = 2\n",
    "    yield n \n",
    "    n = n ** 3\n",
    "    yield n\n",
    "    n = n ** 3\n",
    "    yield n\n",
    "    \n",
    "    \n",
    "a = generator() \n",
    "next(a)\n",
    "next(a)\n",
    "next(a)"
   ]
  },
  {
   "cell_type": "code",
   "execution_count": 243,
   "metadata": {},
   "outputs": [
    {
     "name": "stdout",
     "output_type": "stream",
     "text": [
      "8\n",
      "512\n",
      "134217728\n",
      "2417851639229258349412352\n",
      "14134776518227074636666380005943348126619871175004951664972849610340958208\n",
      "2824013958708217496949108842204627863351353911851577524683401930862693830361198499905873920995229996970897865498283996578123296865878390947626553088486946106430796091482716120572632072492703527723757359478834530365734912\n",
      "22521666186739810716017129863546474247925813985186306383480395759255528226899398031271474259176472311138130302909797370563984143657840869015723623128208458564711932390036470899999940399003451938771468124775412134017692556582989981820657376622292117781429636251681663364133246565240603802421309871873386179061056683850002592550658912005406539073633368208169912295100765107813056035892005304712416817301893705332191267615274619407764899319819287315641053762034009508858938727147166108668063720886082155921552955435591503022900749768195878181491707144967461286550140023171580051111358071521188926359524314904062599527129957121490685127011258936786658012354838528\n"
     ]
    }
   ],
   "source": [
    "def generator():\n",
    "    n = 2\n",
    "    while True:\n",
    "        n **=3\n",
    "        yield n\n",
    "    \n",
    "    \n",
    "a = generator() \n",
    "for i in range(7):\n",
    "    print(next(a))"
   ]
  },
  {
   "cell_type": "code",
   "execution_count": null,
   "metadata": {},
   "outputs": [],
   "source": []
  }
 ],
 "metadata": {
  "kernelspec": {
   "display_name": "Python 3",
   "language": "python",
   "name": "python3"
  },
  "language_info": {
   "codemirror_mode": {
    "name": "ipython",
    "version": 3
   },
   "file_extension": ".py",
   "mimetype": "text/x-python",
   "name": "python",
   "nbconvert_exporter": "python",
   "pygments_lexer": "ipython3",
   "version": "3.7.3"
  }
 },
 "nbformat": 4,
 "nbformat_minor": 2
}
