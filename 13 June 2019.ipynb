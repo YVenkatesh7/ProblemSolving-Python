{
 "cells": [
  {
   "cell_type": "code",
   "execution_count": 1,
   "metadata": {},
   "outputs": [
    {
     "name": "stdout",
     "output_type": "stream",
     "text": [
      "enter a lower value:100\n",
      "enter a upper value:110\n",
      "enter a multiple number:10\n",
      "10 * 100 = 1000\n",
      "10 * 101 = 1010\n",
      "10 * 102 = 1020\n",
      "10 * 103 = 1030\n",
      "10 * 104 = 1040\n",
      "10 * 105 = 1050\n",
      "10 * 106 = 1060\n",
      "10 * 107 = 1070\n",
      "10 * 108 = 1080\n",
      "10 * 109 = 1090\n",
      "10 * 110 = 1100\n"
     ]
    }
   ],
   "source": [
    "#Function to generate Multiplication table for a number in a given range\n",
    "#        10 in the range (100,110)iclusive\n",
    "#            10 * 100 =1000\n",
    "##            10 * 101=1010\n",
    "#            ......10 * 110 =1100\n",
    "lb=int(input(\"enter a lower value:\"))\n",
    "ub=int(input(\"enter a upper value:\"))\n",
    "mul=int(input(\"enter a multiple number:\"))\n",
    "def multiplicationNumber(mul,lb,ub):\n",
    "    for n in range(lb,ub+1):\n",
    "        print(mul,\"*\",n,\"=\",mul*n)\n",
    "    return\n",
    "multiplicationNumber(mul,lb,ub)"
   ]
  },
  {
   "cell_type": "code",
   "execution_count": 5,
   "metadata": {},
   "outputs": [
    {
     "name": "stdout",
     "output_type": "stream",
     "text": [
      "enter a number:5\n"
     ]
    },
    {
     "data": {
      "text/plain": [
       "30"
      ]
     },
     "execution_count": 5,
     "metadata": {},
     "output_type": "execute_result"
    }
   ],
   "source": [
    "# Function to calculate average of all factorials in given range\n",
    "n=int(input(\"enter a number:\"))\n",
    "def numberFactors(n):\n",
    "    fact=1\n",
    "    sum=0\n",
    "    count=0\n",
    "    for i in range(1,n+1):\n",
    "        fact=fact*i\n",
    "        sum=sum+fact\n",
    "        count=count+1\n",
    "        avg=sum//count\n",
    "    return avg\n",
    "numberFactors(n)"
   ]
  },
  {
   "cell_type": "code",
   "execution_count": 6,
   "metadata": {},
   "outputs": [
    {
     "name": "stdout",
     "output_type": "stream",
     "text": [
      "enter a number:1\n",
      "enter a number:500\n"
     ]
    },
    {
     "ename": "TypeError",
     "evalue": "can only concatenate str (not \"int\") to str",
     "output_type": "error",
     "traceback": [
      "\u001b[1;31m---------------------------------------------------------------------------\u001b[0m",
      "\u001b[1;31mTypeError\u001b[0m                                 Traceback (most recent call last)",
      "\u001b[1;32m<ipython-input-6-89329dd6f581>\u001b[0m in \u001b[0;36m<module>\u001b[1;34m\u001b[0m\n\u001b[0;32m     19\u001b[0m                 \u001b[1;32mreturn\u001b[0m \u001b[1;32mFalse\u001b[0m\u001b[1;33m\u001b[0m\u001b[1;33m\u001b[0m\u001b[0m\n\u001b[0;32m     20\u001b[0m         \u001b[0mprint\u001b[0m\u001b[1;33m(\u001b[0m\u001b[0marm\u001b[0m\u001b[1;33m)\u001b[0m\u001b[1;33m\u001b[0m\u001b[1;33m\u001b[0m\u001b[0m\n\u001b[1;32m---> 21\u001b[1;33m \u001b[0marmstrongNumber\u001b[0m\u001b[1;33m(\u001b[0m\u001b[0mlb\u001b[0m\u001b[1;33m,\u001b[0m\u001b[0mub\u001b[0m\u001b[1;33m)\u001b[0m\u001b[1;33m\u001b[0m\u001b[1;33m\u001b[0m\u001b[0m\n\u001b[0m",
      "\u001b[1;32m<ipython-input-6-89329dd6f581>\u001b[0m in \u001b[0;36marmstrongNumber\u001b[1;34m(lb, ub)\u001b[0m\n\u001b[0;32m     10\u001b[0m             \u001b[0mnum\u001b[0m\u001b[1;33m=\u001b[0m\u001b[0mint\u001b[0m\u001b[1;33m(\u001b[0m\u001b[0mnum\u001b[0m\u001b[1;33m)\u001b[0m\u001b[1;33m\u001b[0m\u001b[1;33m\u001b[0m\u001b[0m\n\u001b[0;32m     11\u001b[0m             \u001b[0msum\u001b[0m\u001b[1;33m=\u001b[0m\u001b[0msum\u001b[0m\u001b[1;33m+\u001b[0m\u001b[0mnum\u001b[0m\u001b[1;33m**\u001b[0m\u001b[1;36m3\u001b[0m\u001b[1;33m\u001b[0m\u001b[1;33m\u001b[0m\u001b[0m\n\u001b[1;32m---> 12\u001b[1;33m             \u001b[0mn\u001b[0m\u001b[1;33m=\u001b[0m\u001b[0mn\u001b[0m\u001b[1;33m+\u001b[0m\u001b[1;36m1\u001b[0m\u001b[1;33m\u001b[0m\u001b[1;33m\u001b[0m\u001b[0m\n\u001b[0m\u001b[0;32m     13\u001b[0m             \u001b[1;32mif\u001b[0m \u001b[1;33m(\u001b[0m\u001b[0msum\u001b[0m\u001b[1;33m==\u001b[0m\u001b[0mint\u001b[0m\u001b[1;33m(\u001b[0m\u001b[0mn\u001b[0m\u001b[1;33m)\u001b[0m\u001b[1;33m)\u001b[0m\u001b[1;33m:\u001b[0m\u001b[1;33m\u001b[0m\u001b[1;33m\u001b[0m\u001b[0m\n\u001b[0;32m     14\u001b[0m                 \u001b[1;32mif\u001b[0m \u001b[1;33m(\u001b[0m\u001b[0msum\u001b[0m\u001b[1;33m%\u001b[0m\u001b[1;36m2\u001b[0m\u001b[1;33m!=\u001b[0m\u001b[1;36m0\u001b[0m\u001b[1;33m)\u001b[0m\u001b[1;33m:\u001b[0m\u001b[1;33m\u001b[0m\u001b[1;33m\u001b[0m\u001b[0m\n",
      "\u001b[1;31mTypeError\u001b[0m: can only concatenate str (not \"int\") to str"
     ]
    }
   ],
   "source": [
    "# Function to generate the armstrong number\n",
    "lb=int(input(\"enter a number:\"))\n",
    "ub=int(input(\"enter a number:\"))\n",
    "def armstrongNumber(lb,ub):\n",
    "    for n in range(lb,ub+1) :\n",
    "        n=str(n)\n",
    "        sum=0\n",
    "        arm=0\n",
    "        for num in n:\n",
    "            num=int(num)\n",
    "            sum=sum+num**3\n",
    "            n=n+1\n",
    "            if (sum==int(n)):\n",
    "                if (sum%2!=0):\n",
    "                    arm+=1\n",
    "                else:\n",
    "                    return False\n",
    "            else:\n",
    "                return False\n",
    "        print(arm)\n",
    "armstrongNumber(lb,ub)"
   ]
  },
  {
   "cell_type": "code",
   "execution_count": null,
   "metadata": {},
   "outputs": [],
   "source": [
    "# Function to generate the armstrong number\n",
    "# Function to calculate average of all factorials in given range\n",
    "#Function to generate Multiplication table for a number in a given range"
   ]
  },
  {
   "cell_type": "code",
   "execution_count": null,
   "metadata": {},
   "outputs": [],
   "source": []
  }
 ],
 "metadata": {
  "kernelspec": {
   "display_name": "Python 3",
   "language": "python",
   "name": "python3"
  },
  "language_info": {
   "codemirror_mode": {
    "name": "ipython",
    "version": 3
   },
   "file_extension": ".py",
   "mimetype": "text/x-python",
   "name": "python",
   "nbconvert_exporter": "python",
   "pygments_lexer": "ipython3",
   "version": "3.7.3"
  }
 },
 "nbformat": 4,
 "nbformat_minor": 2
}
