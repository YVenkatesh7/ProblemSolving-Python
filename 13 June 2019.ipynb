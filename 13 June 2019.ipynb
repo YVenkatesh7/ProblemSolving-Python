{
 "cells": [
  {
   "cell_type": "code",
   "execution_count": 6,
   "metadata": {},
   "outputs": [
    {
     "name": "stdout",
     "output_type": "stream",
     "text": [
      "enter a lower value:10\n",
      "enter a upper value:100\n",
      "enter a multiple number:110\n",
      "110 * 10 = 1100\n",
      "110 * 11 = 1210\n",
      "110 * 12 = 1320\n",
      "110 * 13 = 1430\n",
      "110 * 14 = 1540\n",
      "110 * 15 = 1650\n",
      "110 * 16 = 1760\n",
      "110 * 17 = 1870\n",
      "110 * 18 = 1980\n",
      "110 * 19 = 2090\n",
      "110 * 20 = 2200\n",
      "110 * 21 = 2310\n",
      "110 * 22 = 2420\n",
      "110 * 23 = 2530\n",
      "110 * 24 = 2640\n",
      "110 * 25 = 2750\n",
      "110 * 26 = 2860\n",
      "110 * 27 = 2970\n",
      "110 * 28 = 3080\n",
      "110 * 29 = 3190\n",
      "110 * 30 = 3300\n",
      "110 * 31 = 3410\n",
      "110 * 32 = 3520\n",
      "110 * 33 = 3630\n",
      "110 * 34 = 3740\n",
      "110 * 35 = 3850\n",
      "110 * 36 = 3960\n",
      "110 * 37 = 4070\n",
      "110 * 38 = 4180\n",
      "110 * 39 = 4290\n",
      "110 * 40 = 4400\n",
      "110 * 41 = 4510\n",
      "110 * 42 = 4620\n",
      "110 * 43 = 4730\n",
      "110 * 44 = 4840\n",
      "110 * 45 = 4950\n",
      "110 * 46 = 5060\n",
      "110 * 47 = 5170\n",
      "110 * 48 = 5280\n",
      "110 * 49 = 5390\n",
      "110 * 50 = 5500\n",
      "110 * 51 = 5610\n",
      "110 * 52 = 5720\n",
      "110 * 53 = 5830\n",
      "110 * 54 = 5940\n",
      "110 * 55 = 6050\n",
      "110 * 56 = 6160\n",
      "110 * 57 = 6270\n",
      "110 * 58 = 6380\n",
      "110 * 59 = 6490\n",
      "110 * 60 = 6600\n",
      "110 * 61 = 6710\n",
      "110 * 62 = 6820\n",
      "110 * 63 = 6930\n",
      "110 * 64 = 7040\n",
      "110 * 65 = 7150\n",
      "110 * 66 = 7260\n",
      "110 * 67 = 7370\n",
      "110 * 68 = 7480\n",
      "110 * 69 = 7590\n",
      "110 * 70 = 7700\n",
      "110 * 71 = 7810\n",
      "110 * 72 = 7920\n",
      "110 * 73 = 8030\n",
      "110 * 74 = 8140\n",
      "110 * 75 = 8250\n",
      "110 * 76 = 8360\n",
      "110 * 77 = 8470\n",
      "110 * 78 = 8580\n",
      "110 * 79 = 8690\n",
      "110 * 80 = 8800\n",
      "110 * 81 = 8910\n",
      "110 * 82 = 9020\n",
      "110 * 83 = 9130\n",
      "110 * 84 = 9240\n",
      "110 * 85 = 9350\n",
      "110 * 86 = 9460\n",
      "110 * 87 = 9570\n",
      "110 * 88 = 9680\n",
      "110 * 89 = 9790\n",
      "110 * 90 = 9900\n",
      "110 * 91 = 10010\n",
      "110 * 92 = 10120\n",
      "110 * 93 = 10230\n",
      "110 * 94 = 10340\n",
      "110 * 95 = 10450\n",
      "110 * 96 = 10560\n",
      "110 * 97 = 10670\n",
      "110 * 98 = 10780\n",
      "110 * 99 = 10890\n",
      "110 * 100 = 11000\n"
     ]
    }
   ],
   "source": [
    "#Function to generate Multiplication table for a number in a given range\n",
    "#        10 in the range (100,110)iclusive\n",
    "#            10 * 100 =1000\n",
    "##            10 * 101=1010\n",
    "#            ......10 * 110 =1100\n",
    "lb=int(input(\"enter a lower value:\"))\n",
    "ub=int(input(\"enter a upper value:\"))\n",
    "mul=int(input(\"enter a multiple number:\"))\n",
    "def multiplicationNumber(mul,lb,ub):\n",
    "    for n in range(lb,ub+1):\n",
    "        print(mul,\"*\",n,\"=\",mul*n)\n",
    "    return\n",
    "multiplicationNumber(mul,lb,ub)"
   ]
  },
  {
   "cell_type": "code",
   "execution_count": 5,
   "metadata": {},
   "outputs": [
    {
     "name": "stdout",
     "output_type": "stream",
     "text": [
      "enter a number:5\n"
     ]
    },
    {
     "data": {
      "text/plain": [
       "30"
      ]
     },
     "execution_count": 5,
     "metadata": {},
     "output_type": "execute_result"
    }
   ],
   "source": [
    "# Function to calculate average of all factorials in given range\n",
    "n=int(input(\"enter a number:\"))\n",
    "def numberFactors(n):\n",
    "    fact=1\n",
    "    sum=0\n",
    "    count=0\n",
    "    for i in range(1,n+1):\n",
    "        fact=fact*i\n",
    "        sum=sum+fact\n",
    "        count=count+1\n",
    "        avg=sum//count\n",
    "    return avg\n",
    "numberFactors(n)"
   ]
  },
  {
   "cell_type": "code",
   "execution_count": 6,
   "metadata": {},
   "outputs": [
    {
     "name": "stdout",
     "output_type": "stream",
     "text": [
      "enter a number:1\n",
      "enter a number:500\n"
     ]
    },
    {
     "ename": "TypeError",
     "evalue": "can only concatenate str (not \"int\") to str",
     "output_type": "error",
     "traceback": [
      "\u001b[1;31m---------------------------------------------------------------------------\u001b[0m",
      "\u001b[1;31mTypeError\u001b[0m                                 Traceback (most recent call last)",
      "\u001b[1;32m<ipython-input-6-89329dd6f581>\u001b[0m in \u001b[0;36m<module>\u001b[1;34m\u001b[0m\n\u001b[0;32m     19\u001b[0m                 \u001b[1;32mreturn\u001b[0m \u001b[1;32mFalse\u001b[0m\u001b[1;33m\u001b[0m\u001b[1;33m\u001b[0m\u001b[0m\n\u001b[0;32m     20\u001b[0m         \u001b[0mprint\u001b[0m\u001b[1;33m(\u001b[0m\u001b[0marm\u001b[0m\u001b[1;33m)\u001b[0m\u001b[1;33m\u001b[0m\u001b[1;33m\u001b[0m\u001b[0m\n\u001b[1;32m---> 21\u001b[1;33m \u001b[0marmstrongNumber\u001b[0m\u001b[1;33m(\u001b[0m\u001b[0mlb\u001b[0m\u001b[1;33m,\u001b[0m\u001b[0mub\u001b[0m\u001b[1;33m)\u001b[0m\u001b[1;33m\u001b[0m\u001b[1;33m\u001b[0m\u001b[0m\n\u001b[0m",
      "\u001b[1;32m<ipython-input-6-89329dd6f581>\u001b[0m in \u001b[0;36marmstrongNumber\u001b[1;34m(lb, ub)\u001b[0m\n\u001b[0;32m     10\u001b[0m             \u001b[0mnum\u001b[0m\u001b[1;33m=\u001b[0m\u001b[0mint\u001b[0m\u001b[1;33m(\u001b[0m\u001b[0mnum\u001b[0m\u001b[1;33m)\u001b[0m\u001b[1;33m\u001b[0m\u001b[1;33m\u001b[0m\u001b[0m\n\u001b[0;32m     11\u001b[0m             \u001b[0msum\u001b[0m\u001b[1;33m=\u001b[0m\u001b[0msum\u001b[0m\u001b[1;33m+\u001b[0m\u001b[0mnum\u001b[0m\u001b[1;33m**\u001b[0m\u001b[1;36m3\u001b[0m\u001b[1;33m\u001b[0m\u001b[1;33m\u001b[0m\u001b[0m\n\u001b[1;32m---> 12\u001b[1;33m             \u001b[0mn\u001b[0m\u001b[1;33m=\u001b[0m\u001b[0mn\u001b[0m\u001b[1;33m+\u001b[0m\u001b[1;36m1\u001b[0m\u001b[1;33m\u001b[0m\u001b[1;33m\u001b[0m\u001b[0m\n\u001b[0m\u001b[0;32m     13\u001b[0m             \u001b[1;32mif\u001b[0m \u001b[1;33m(\u001b[0m\u001b[0msum\u001b[0m\u001b[1;33m==\u001b[0m\u001b[0mint\u001b[0m\u001b[1;33m(\u001b[0m\u001b[0mn\u001b[0m\u001b[1;33m)\u001b[0m\u001b[1;33m)\u001b[0m\u001b[1;33m:\u001b[0m\u001b[1;33m\u001b[0m\u001b[1;33m\u001b[0m\u001b[0m\n\u001b[0;32m     14\u001b[0m                 \u001b[1;32mif\u001b[0m \u001b[1;33m(\u001b[0m\u001b[0msum\u001b[0m\u001b[1;33m%\u001b[0m\u001b[1;36m2\u001b[0m\u001b[1;33m!=\u001b[0m\u001b[1;36m0\u001b[0m\u001b[1;33m)\u001b[0m\u001b[1;33m:\u001b[0m\u001b[1;33m\u001b[0m\u001b[1;33m\u001b[0m\u001b[0m\n",
      "\u001b[1;31mTypeError\u001b[0m: can only concatenate str (not \"int\") to str"
     ]
    }
   ],
   "source": [
    "# Function to generate the armstrong number\n",
    "lb=int(input(\"enter a number:\"))\n",
    "ub=int(input(\"enter a number:\"))\n",
    "def armstrongNumber(lb,ub):\n",
    "    for n in range(lb,ub+1) :\n",
    "        n=str(n)\n",
    "        sum=0\n",
    "        arm=0\n",
    "        for num in n:\n",
    "            num=int(num)\n",
    "            sum=sum+num**3\n",
    "            n=n+1\n",
    "            if (sum==int(n)):\n",
    "                if (sum%2!=0):\n",
    "                    arm+=1\n",
    "                else:\n",
    "                    return False\n",
    "            else:\n",
    "                return False\n",
    "        print(arm)\n",
    "armstrongNumber(lb,ub)"
   ]
  },
  {
   "cell_type": "code",
   "execution_count": null,
   "metadata": {},
   "outputs": [],
   "source": [
    "# Function to generate the armstrong number\n",
    "# Function to calculate average of all factorials in given range\n",
    "#Function to generate Multiplication table for a number in a given range"
   ]
  },
  {
   "cell_type": "code",
   "execution_count": null,
   "metadata": {},
   "outputs": [],
   "source": []
  }
 ],
 "metadata": {
  "kernelspec": {
   "display_name": "Python 3",
   "language": "python",
   "name": "python3"
  },
  "language_info": {
   "codemirror_mode": {
    "name": "ipython",
    "version": 3
   },
   "file_extension": ".py",
   "mimetype": "text/x-python",
   "name": "python",
   "nbconvert_exporter": "python",
   "pygments_lexer": "ipython3",
   "version": "3.7.3"
  }
 },
 "nbformat": 4,
 "nbformat_minor": 2
}
