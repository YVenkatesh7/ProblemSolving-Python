{
 "cells": [
  {
   "cell_type": "markdown",
   "metadata": {},
   "source": [
    "### Tuples\n",
    "t1 = ()\n",
    "li = []\n",
    "\n",
    "Difference Between Lists And Tuples\n",
    " \n",
    "lists are mutable - can be changed or / modified\n",
    "- Access, Modify, Add, Delete data\n",
    "- All Slicing Work\n",
    "\n",
    "tuples are immutable - cannot be changed once initialized\n",
    "- Used to access data only\n",
    "- All Slicing Work\n"
   ]
  },
  {
   "cell_type": "code",
   "execution_count": 5,
   "metadata": {},
   "outputs": [
    {
     "data": {
      "text/plain": [
       "(8, 6, 0)"
      ]
     },
     "execution_count": 5,
     "metadata": {},
     "output_type": "execute_result"
    }
   ],
   "source": [
    "t1 = (1, 2, 8, 6, 0)\n",
    "\n",
    "t1[3] # Accessing the fourth element\n",
    "\n",
    "#Accessing all elements from middle to last\n",
    "t1[len(t1)//2:]\n"
   ]
  },
  {
   "cell_type": "markdown",
   "metadata": {},
   "source": [
    "### Dictionaries \n",
    "\n",
    "It works on the concept of Set\n",
    "Keys, Values\n",
    "Unique Data\n",
    "\n",
    "Key is the unique identifier for a value\n",
    "value is data that can be accessed with a key\n"
   ]
  },
  {
   "cell_type": "code",
   "execution_count": 10,
   "metadata": {},
   "outputs": [
    {
     "data": {
      "text/plain": [
       "'value2'"
      ]
     },
     "execution_count": 10,
     "metadata": {},
     "output_type": "execute_result"
    }
   ],
   "source": [
    "d1 = {\"k1\":\"value1\", \"k2\":\"value2\"}\n",
    "\n",
    "d1[\"k2\"]"
   ]
  },
  {
   "cell_type": "code",
   "execution_count": 16,
   "metadata": {},
   "outputs": [
    {
     "data": {
      "text/plain": [
       "{'k1': 'value1', 'k2': 'value2'}"
      ]
     },
     "execution_count": 16,
     "metadata": {},
     "output_type": "execute_result"
    }
   ],
   "source": [
    "d1.keys()\n",
    "d1.values()\n",
    "d1.items()\n",
    "d1[\"k3\"] = 'value4'\n",
    "d1.pop(\"k3\")\n",
    "d1"
   ]
  },
  {
   "cell_type": "markdown",
   "metadata": {},
   "source": [
    "### Contacts Applications\n",
    "- Add Contact\n",
    "- Search for contacts\n",
    "- Lists all contacts\n",
    "    - name1 : phone1\n",
    "    - name2 : phone2\n",
    "- Modify Contacts\n",
    "- Remove Contacts\n",
    "- Import Contacts\n",
    "\n"
   ]
  },
  {
   "cell_type": "code",
   "execution_count": 43,
   "metadata": {},
   "outputs": [
    {
     "name": "stdout",
     "output_type": "stream",
     "text": [
      "contact venkatesh added\n",
      "contact venkatesh1 added\n"
     ]
    },
    {
     "data": {
      "text/plain": [
       "{'venkatesh': '987654320', 'venkatesh1': '98765432034'}"
      ]
     },
     "execution_count": 43,
     "metadata": {},
     "output_type": "execute_result"
    }
   ],
   "source": [
    "contacts = {}\n",
    "def addContacts(name, phone):\n",
    "    if name not in contacts:\n",
    "        contacts[name] = phone\n",
    "        print(\"contact %s added\" % name)\n",
    "    else:\n",
    "        print(\"Contacts %s already exists\" % name)\n",
    "    return\n",
    "\n",
    "\n",
    "addContacts(\"venkatesh\",\"987654320\")\n",
    "addContacts(\"venkatesh1\",\"98765432034\")\n",
    "contacts"
   ]
  },
  {
   "cell_type": "code",
   "execution_count": 21,
   "metadata": {},
   "outputs": [
    {
     "name": "stdout",
     "output_type": "stream",
     "text": [
      "venkatesh11 does not exists\n"
     ]
    }
   ],
   "source": [
    "def searchContacts(name):\n",
    "    if name in contacts:\n",
    "        print(name, \":\", contacts[name])\n",
    "    else:\n",
    "        print(\"%s does not exists\" % name)\n",
    "searchContacts(\"venkatesh11\")"
   ]
  },
  {
   "cell_type": "code",
   "execution_count": 47,
   "metadata": {},
   "outputs": [
    {
     "name": "stdout",
     "output_type": "stream",
     "text": [
      "venkatesh : 987654320\n",
      "venkatesh1 : 98765432034\n",
      "abcd : 987645\n",
      "abcde : 4567980\n",
      "abcdesf : 98765098\n"
     ]
    }
   ],
   "source": [
    "\n",
    "def allContacts():\n",
    "    for i in contacts.items():\n",
    "        print(i[0],\":\",i[1])   \n",
    "allContacts()"
   ]
  },
  {
   "cell_type": "code",
   "execution_count": 30,
   "metadata": {},
   "outputs": [
    {
     "name": "stdout",
     "output_type": "stream",
     "text": [
      "enter a number9494699851\n",
      "successfully modify 9494699851 number\n"
     ]
    },
    {
     "data": {
      "text/plain": [
       "{'venkatesh': 9494699851, 'venkatesh1': '98765432034'}"
      ]
     },
     "execution_count": 30,
     "metadata": {},
     "output_type": "execute_result"
    }
   ],
   "source": [
    "def modifyContacts(name):\n",
    "    if name in contacts:\n",
    "        phone=int(input(\"enter a number\"))\n",
    "        contacts[name]=phone\n",
    "        print(\"successfully modify %s number\" %phone)\n",
    "    else:\n",
    "        print(\"%s does not exit\" % name)\n",
    "modifyContacts(\"venkatesh\")\n",
    "contacts"
   ]
  },
  {
   "cell_type": "code",
   "execution_count": 35,
   "metadata": {},
   "outputs": [
    {
     "name": "stdout",
     "output_type": "stream",
     "text": [
      "venkatesh Does not exists\n"
     ]
    },
    {
     "data": {
      "text/plain": [
       "{'venkatesh1': '98765432034'}"
      ]
     },
     "execution_count": 35,
     "metadata": {},
     "output_type": "execute_result"
    }
   ],
   "source": [
    "def removeContact(name):\n",
    "    if name in contacts:\n",
    "        contacts.pop(name)\n",
    "        print(\"successfully remove %s \" %name)\n",
    "    else:\n",
    "        print(\"%s Does not exists\" %name)\n",
    "removeContact(\"venkatesh\")\n",
    "contacts"
   ]
  },
  {
   "cell_type": "code",
   "execution_count": 46,
   "metadata": {},
   "outputs": [
    {
     "data": {
      "text/plain": [
       "{'venkatesh': '987654320',\n",
       " 'venkatesh1': '98765432034',\n",
       " 'abcd': 987645,\n",
       " 'abcde': 4567980,\n",
       " 'abcdesf': 98765098}"
      ]
     },
     "execution_count": 46,
     "metadata": {},
     "output_type": "execute_result"
    }
   ],
   "source": [
    "def importContacts(contact):\n",
    "        contacts.update(contact)\n",
    "contact = {\"abcd\":987645, \"abcde\":4567980, \"abcdesf\":98765098}\n",
    "importContacts(contact)\n",
    "contacts\n",
    "    "
   ]
  },
  {
   "cell_type": "markdown",
   "metadata": {},
   "source": [
    "### Packages and Modules \n",
    "\n",
    "**Packages** -> collection of modules(Python File .py) and supackages\n",
    "**Sub Packages** -> \n",
    "\n",
    "**Module** -> single python file containing functions\n",
    "\n",
    "Package -> Subpackages ->Modules ->Functions"
   ]
  },
  {
   "cell_type": "code",
   "execution_count": 2,
   "metadata": {},
   "outputs": [
    {
     "data": {
      "text/plain": [
       "123"
      ]
     },
     "execution_count": 2,
     "metadata": {},
     "output_type": "execute_result"
    }
   ],
   "source": [
    "from math import floor as fl\n",
    "\n",
    "fl(123.456)"
   ]
  },
  {
   "cell_type": "code",
   "execution_count": null,
   "metadata": {},
   "outputs": [],
   "source": [
    "import from ipykernel"
   ]
  },
  {
   "cell_type": "code",
   "execution_count": 5,
   "metadata": {},
   "outputs": [
    {
     "data": {
      "text/plain": [
       "'Tue Jun 18 17:47:04 2019'"
      ]
     },
     "execution_count": 5,
     "metadata": {},
     "output_type": "execute_result"
    }
   ],
   "source": [
    "from time import ctime as ct\n",
    "ct()"
   ]
  },
  {
   "cell_type": "code",
   "execution_count": 17,
   "metadata": {},
   "outputs": [
    {
     "name": "stdout",
     "output_type": "stream",
     "text": [
      "21 1 80 69 73 90 20 30 15 10 "
     ]
    }
   ],
   "source": [
    "# Function to generate N random numbers in a given range\n",
    "'''\n",
    "import random\n",
    "def generateRandomNumbers(n, lb, ub):\n",
    "    for i in range(0,n):\n",
    "        print(random.randint(lb, ub), end = \" \")              \n",
    "generateRandomNumbers(10, 0, 100)     ''' "
   ]
  },
  {
   "cell_type": "code",
   "execution_count": 6,
   "metadata": {},
   "outputs": [
    {
     "data": {
      "text/plain": [
       "False"
      ]
     },
     "execution_count": 6,
     "metadata": {},
     "output_type": "execute_result"
    }
   ],
   "source": [
    "from Packages import numerical\n",
    "\n",
    "numerical.isPrime(28)"
   ]
  },
  {
   "cell_type": "code",
   "execution_count": 1,
   "metadata": {},
   "outputs": [
    {
     "name": "stdout",
     "output_type": "stream",
     "text": [
      "32 58 90 82 43 81 76 34 9 7 "
     ]
    }
   ],
   "source": [
    "from Packages import numerical\n",
    "\n",
    "numerical.generateRandomNumbers(10, 0, 100)"
   ]
  },
  {
   "cell_type": "code",
   "execution_count": 1,
   "metadata": {},
   "outputs": [
    {
     "name": "stdout",
     "output_type": "stream",
     "text": [
      "9177\n"
     ]
    }
   ],
   "source": [
    "from Packages import numerical\n",
    "\n",
    "numerical.addTwoNumbers(201, 8976)"
   ]
  },
  {
   "cell_type": "code",
   "execution_count": null,
   "metadata": {},
   "outputs": [],
   "source": []
  }
 ],
 "metadata": {
  "kernelspec": {
   "display_name": "Python 3",
   "language": "python",
   "name": "python3"
  },
  "language_info": {
   "codemirror_mode": {
    "name": "ipython",
    "version": 3
   },
   "file_extension": ".py",
   "mimetype": "text/x-python",
   "name": "python",
   "nbconvert_exporter": "python",
   "pygments_lexer": "ipython3",
   "version": "3.7.3"
  }
 },
 "nbformat": 4,
 "nbformat_minor": 2
}
