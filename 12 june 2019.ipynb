{
 "cells": [
  {
   "cell_type": "markdown",
   "metadata": {},
   "source": [
    "# Problem Solving and Programming\n",
    "#### Date 12 June 2019\n",
    "#### Day Objectives\n",
    "- String Slicing\n",
    "- Functions in python\n",
    "- Basics problems related using conditional statements using functions\n",
    "- Iterations in python \n",
    "- Python data Structures-List,Tuples and Dictionaries\n",
    "- Basic operation on data structures\n",
    "    - applying data structure to solve problems"
   ]
  },
  {
   "cell_type": "code",
   "execution_count": null,
   "metadata": {},
   "outputs": [],
   "source": []
  },
  {
   "cell_type": "markdown",
   "metadata": {},
   "source": [
    "### Strig Slicing"
   ]
  },
  {
   "cell_type": "code",
   "execution_count": 35,
   "metadata": {},
   "outputs": [
    {
     "data": {
      "text/plain": [
       "'nhy'"
      ]
     },
     "execution_count": 35,
     "metadata": {},
     "output_type": "execute_result"
    }
   ],
   "source": [
    "s1 = 'Python'\n",
    "\n",
    "\n",
    "s1[::-1]\n",
    "s1[0:2]\n",
    "s1[-2:]\n",
    "s1[1:-1]\n",
    "s1[len(s1)//2] #middle charecter accessing\n",
    "s1[-1::-1] # reverse order\n",
    "s1[-1:-3:-1] # last 2 charecters\n",
    "s1[::2]\n",
    "s1[::-2]"
   ]
  },
  {
   "cell_type": "raw",
   "metadata": {},
   "source": [
    "### Functions"
   ]
  },
  {
   "cell_type": "code",
   "execution_count": 42,
   "metadata": {},
   "outputs": [
    {
     "data": {
      "text/plain": [
       "'hsetaknev'"
      ]
     },
     "execution_count": 42,
     "metadata": {},
     "output_type": "execute_result"
    }
   ],
   "source": [
    "# funtion to reverse a string\n",
    "def reverseString(s):\n",
    "    return s[::-1]\n",
    "reverseString(\"venkatesh\")\n",
    "    "
   ]
  },
  {
   "cell_type": "code",
   "execution_count": 46,
   "metadata": {},
   "outputs": [
    {
     "data": {
      "text/plain": [
       "True"
      ]
     },
     "execution_count": 46,
     "metadata": {},
     "output_type": "execute_result"
    }
   ],
   "source": [
    "# function to check if a string is palindrome\n",
    "def palindrome(a):\n",
    "    if a==a[::-1]:\n",
    "        return True\n",
    "    else:\n",
    "        return False\n",
    "palindrome(\"abba\")"
   ]
  },
  {
   "cell_type": "code",
   "execution_count": 8,
   "metadata": {
    "scrolled": true
   },
   "outputs": [
    {
     "name": "stdout",
     "output_type": "stream",
     "text": [
      "enter a year:1\n",
      "enter a year:1000\n",
      "4 8 12 16 20 24 28 32 36 40 44 48 52 56 60 64 68 72 76 80 84 88 92 96 100 104 108 112 116 120 124 128 132 136 140 144 148 152 156 160 164 168 172 176 180 184 188 192 196 200 204 208 212 216 220 224 228 232 236 240 244 248 252 256 260 264 268 272 276 280 284 288 292 296 300 304 308 312 316 320 324 328 332 336 340 344 348 352 356 360 364 368 372 376 380 384 388 392 396 400 404 408 412 416 420 424 428 432 436 440 444 448 452 456 460 464 468 472 476 480 484 488 492 496 500 504 508 512 516 520 524 528 532 536 540 544 548 552 556 560 564 568 572 576 580 584 588 592 596 600 604 608 612 616 620 624 628 632 636 640 644 648 652 656 660 664 668 672 676 680 684 688 692 696 700 704 708 712 716 720 724 728 732 736 740 744 748 752 756 760 764 768 772 776 780 784 788 792 796 800 804 808 812 816 820 824 828 832 836 840 844 848 852 856 860 864 868 872 876 880 884 888 892 896 900 904 908 912 916 920 924 928 932 936 940 944 948 952 956 960 964 968 972 976 980 984 988 992 996 1000 "
     ]
    }
   ],
   "source": [
    "# given leap year\n",
    "lb=int(input(\"enter a year:\"))\n",
    "ub=int(input(\"enter a year:\"))\n",
    "def leapYear(lb,ub):\n",
    "    for i in range(lb,ub+1):\n",
    "        if (i%400 == 0 and i%100 !=0) or i%4 == 0:\n",
    "            print(i, end =' ')\n",
    "leapYear(lb,ub)"
   ]
  },
  {
   "cell_type": "code",
   "execution_count": 30,
   "metadata": {},
   "outputs": [
    {
     "name": "stdout",
     "output_type": "stream",
     "text": [
      "1920 1924 1928 1932 1936 1940 1944 1948 1952 1956 1960 1964 1968 1972 1976 1980 1984 1988 1992 1996 2000 2004 2008 2012 2016 "
     ]
    },
    {
     "data": {
      "text/plain": [
       "29"
      ]
     },
     "execution_count": 30,
     "metadata": {},
     "output_type": "execute_result"
    }
   ],
   "source": [
    "def leapYear(year):\n",
    "    if (year%400 == 0 and year%100 !=0) or year%4 == 0:\n",
    "        return True\n",
    "    return False\n",
    "leapYear(2000)\n",
    "\n",
    "def generateLeapYear(startyear, endyear):\n",
    "    for year in range(startyear, endyear+1):\n",
    "        if leapYear(year):\n",
    "            print(year, end = ' ')\n",
    "    return\n",
    "generateLeapYear(1919,2019)\n",
    "\n",
    "def numberOfDays(startyear,endyear):\n",
    "    sum=0\n",
    "    for year in range(startyear,endyear):\n",
    "        if leapYear(year):\n",
    "            sum = sum + 366\n",
    "            #print(days,end = \" \")\n",
    "        else:\n",
    "            sum = sum + 365\n",
    "    return sum   \n",
    "numberOfDays(2000,2019)\n",
    "# 2,2016,6,2019\n",
    "# \n",
    "# [all days from feb 2016 to dec 2016,all dasys for yeasrs between start and end,all days from jan to june]\n",
    "#1.start month year to end of year - calculate no of days\n",
    "#2.calculate days all years start year and end year exclusive\n",
    "        #2017,2018-365 * no of years\n",
    "#3.calculate days from jan to end month year\n",
    "# Excluding feb\n",
    "# first 6 months -1,3,4,5,6,7\n",
    "                #all odd months have 31 days\n",
    "                #all even months have 30 days\n",
    "# last 6 months -8,9,10,11,12\n",
    "                # all even months have 31 days\n",
    "                # all odd months have 30 days\n",
    "# 31 days - (month <=7 and month % 2!=0 and month!=2) || (month >=8 and month%2==0):\n",
    "            # return 31\n",
    "#            else:\n",
    "#            return 30\n",
    "def numberofDaysMonth(month, year):\n",
    "    if month == 2:\n",
    "        if leapYear(year):\n",
    "            return 29\n",
    "        return 28\n",
    "    elif (month <=7 and month % 2!=0) or (month >=8 and month%2==0):\n",
    "        return 31\n",
    "    else:\n",
    "        return 30\n",
    "\n",
    "numberofDaysMonth(2, 2020)"
   ]
  },
  {
   "cell_type": "code",
   "execution_count": 42,
   "metadata": {},
   "outputs": [
    {
     "data": {
      "text/plain": [
       "205248"
      ]
     },
     "execution_count": 42,
     "metadata": {},
     "output_type": "execute_result"
    }
   ],
   "source": [
    "def numberofDaysMonth(month, year):\n",
    "    if month == 2:\n",
    "        if leapYear(year):\n",
    "            return 29\n",
    "        return 28\n",
    "    elif (month <=7 and month % 2!=0) or (month >=8 and month%2==0):\n",
    "        return 31\n",
    "    else:\n",
    "        return 30\n",
    "\n",
    "numberofDaysMonth(2, 2020)\n",
    "def daysInStartYear(startmonth, startyear):\n",
    "    days = 0\n",
    "    for month in range(startmonth, 13):\n",
    "        days+=numberofDaysMonth(month, startyear)\n",
    "    return days\n",
    "daysInStartYear(2, 2019)\n",
    "def daysInEndYear(endmonth, endyear):\n",
    "    days = 0\n",
    "    for month in range(1, endmonth+1):\n",
    "        days+=numberofDaysMonth(month, endyear)\n",
    "    return days\n",
    "daysInEndYear(6,2019)\n",
    "def numberOfDays(startyear,endyear):\n",
    "    sum=0\n",
    "    for year in range(startyear,endyear+1):\n",
    "        if leapYear(year):\n",
    "            sum = sum + 366\n",
    "            #print(days,end = \" \")\n",
    "        else:\n",
    "            sum = sum + 365\n",
    "    return sum   \n",
    "numberOfDays(2017, 2018)\n",
    "def numberOfHours(startmonth, startyear, endmonth, endyear):\n",
    "    days = 0\n",
    "    days += daysInStartYear(startmonth, startyear)\n",
    "    days += daysInEndYear(endmonth, endyear)\n",
    "    #days +=numberOfDays(startyear, endyear)\n",
    "    if endyear - startyear == 2 :\n",
    "        days +=numberOfDays(startyear+1, endyear+1)\n",
    "    elif endyear - startyear >2:\n",
    "        days +=numberOfDays(startyear+1, endyear-1)\n",
    "    return 24 * days\n",
    "numberOfHours(11,1975,3,1999)"
   ]
  },
  {
   "cell_type": "code",
   "execution_count": 26,
   "metadata": {},
   "outputs": [
    {
     "name": "stdout",
     "output_type": "stream",
     "text": [
      "enter lower number1\n",
      "enter upper number1000\n",
      "1 2 3 4 5 6 7 8 9 153 370 371 407 "
     ]
    }
   ],
   "source": [
    "#armstrong\n",
    "lower = int(input(\"enter lower number\"))\n",
    "upper = int(input(\"enter upper number\"))\n",
    "for num in range(lower, upper + 1):\n",
    "    \n",
    "\n",
    "   # order of number\n",
    "   order = len(str(num))\n",
    "    \n",
    "   # initialize sum\n",
    "   sum = 0\n",
    "\n",
    "   # find the sum of the cube of each digit\n",
    "   temp = num\n",
    "   while temp > 0:\n",
    "       digit = temp % 10\n",
    "       sum += digit ** order\n",
    "       temp //= 10\n",
    "\n",
    "   if num == sum:\n",
    "       print(num, end = ' ') "
   ]
  },
  {
   "cell_type": "code",
   "execution_count": 3,
   "metadata": {},
   "outputs": [
    {
     "name": "stdout",
     "output_type": "stream",
     "text": [
      "enter a number:12345678\n",
      "8\n"
     ]
    }
   ],
   "source": [
    "# function to count the number of digits in a given number\n",
    "n=int(input(\"enter a number:\"))\n",
    "def isDigit(n):\n",
    "    a=len(str(n)) \n",
    "    print(a)\n",
    "isDigit(n)"
   ]
  },
  {
   "cell_type": "code",
   "execution_count": 4,
   "metadata": {},
   "outputs": [
    {
     "name": "stdout",
     "output_type": "stream",
     "text": [
      "enter 1 number:12234\n",
      "enter 2 number:4567\n",
      "enter 3 number:87654\n",
      "enter 4 number:987654\n",
      "987654 is big number\n"
     ]
    }
   ],
   "source": [
    "# find the greatest of four numbers\n",
    "n1=int(input(\"enter 1 number:\"))\n",
    "n2=int(input(\"enter 2 number:\"))\n",
    "n3=int(input(\"enter 3 number:\"))\n",
    "n4=int(input(\"enter 4 number:\"))\n",
    "def bigNumber(n1,n2,n3,n4):\n",
    "    if (n1 > n2 and n1 > n3) and  (n1 > n4):\n",
    "        print(n1,\"is big number\")\n",
    "    elif (n2>n3) and (n2>n4):\n",
    "        print(n2,\"is big number\")\n",
    "    elif (n3>n4):\n",
    "        print(n3,\"is big number\")\n",
    "    else:\n",
    "        print(n4,\"is big number\")\n",
    "bigNumber(n1,n2,n3,n4)"
   ]
  },
  {
   "cell_type": "code",
   "execution_count": null,
   "metadata": {},
   "outputs": [],
   "source": []
  },
  {
   "cell_type": "markdown",
   "metadata": {},
   "source": [
    "### Iterations\n",
    "- for\n",
    "- while"
   ]
  },
  {
   "cell_type": "code",
   "execution_count": 7,
   "metadata": {},
   "outputs": [
    {
     "name": "stdout",
     "output_type": "stream",
     "text": [
      "1 2 3 4 5 6 7 8 9 10 11 12 13 14 15 16 17 18 19 20 21 22 23 24 25 26 27 28 29 30 31 32 33 34 35 36 37 38 39 40 41 42 43 44 45 46 47 48 49 50 51 52 53 54 55 56 57 58 59 60 61 62 63 64 65 66 67 68 69 70 71 72 73 74 75 76 77 78 79 80 81 82 83 84 85 86 87 88 89 90 91 92 93 94 95 96 97 98 99 100 "
     ]
    }
   ],
   "source": [
    "# function to n natural number\n",
    "def natural(n):\n",
    "    for i in range(1,n+1):\n",
    "        print(i, end=\" \")\n",
    "natural(100)"
   ]
  },
  {
   "cell_type": "code",
   "execution_count": 19,
   "metadata": {},
   "outputs": [
    {
     "name": "stdout",
     "output_type": "stream",
     "text": [
      "0 2 4 6 8 10 12 14 16 18 20 22 24 26 28 30 32 34 36 38 40 42 44 46 48 50 52 54 56 58 60 62 64 66 68 70 72 74 76 78 80 82 84 86 88 90 92 94 96 98 "
     ]
    }
   ],
   "source": [
    "# function to n natural number revrse order\n",
    "def naturalReeverse(n):\n",
    "    for i in range(n,0,-1):\n",
    "        print(i, end=\" \")\n",
    "naturalReeverse(100)"
   ]
  },
  {
   "cell_type": "code",
   "execution_count": null,
   "metadata": {},
   "outputs": [],
   "source": [
    "# even numbers using loop without using condiotnals statements\n",
    "def evenNumbers(n):\n",
    "    for i in range(0,n,2):\n",
    "        print(i, end=\" \")\n",
    "evenNumbers(100)"
   ]
  },
  {
   "cell_type": "code",
   "execution_count": 20,
   "metadata": {},
   "outputs": [
    {
     "name": "stdout",
     "output_type": "stream",
     "text": [
      "1 2 3 4 5 6 7 8 9 10 11 12 13 14 15 16 17 18 19 20 21 22 23 24 25 26 27 28 29 30 31 32 33 34 35 36 37 38 39 40 41 42 43 44 45 46 47 48 49 50 51 52 53 54 55 56 57 58 59 60 61 62 63 64 65 66 67 68 69 70 71 72 73 74 75 76 77 78 79 80 81 82 83 84 85 86 87 88 89 90 91 92 93 94 95 96 97 98 99 100 "
     ]
    }
   ],
   "source": [
    "# function to print n natural numbers\n",
    "def naturalNumbers(n):\n",
    "    count=1\n",
    "    while(count <= n):\n",
    "        print(count, end = ' ')\n",
    "        count = count + 1\n",
    "    return\n",
    "naturalNumbers(100)\n",
    "    "
   ]
  },
  {
   "cell_type": "code",
   "execution_count": 25,
   "metadata": {},
   "outputs": [
    {
     "name": "stdout",
     "output_type": "stream",
     "text": [
      "enter lower value:1\n",
      "enter upper value:500\n",
      "6 12 18 24 30 36 42 48 54 60 66 72 78 84 90 96 102 108 114 120 126 132 138 144 150 156 162 168 174 180 186 192 198 204 210 216 222 228 234 240 246 252 258 264 270 276 282 288 294 300 306 312 318 324 330 336 342 348 354 360 366 372 378 384 390 396 402 408 414 420 426 432 438 444 450 456 462 468 474 480 486 492 498 "
     ]
    }
   ],
   "source": [
    "#function to print all numbers divisible by 6 and not a factor of 100 in a given range(lb, ub) inclusive\n",
    "lb=int(input(\"enter lower value:\"))\n",
    "ub=int(input(\"enter upper value:\"))\n",
    "def condition(lb, ub):\n",
    "    for i in range(lb,ub):\n",
    "        if i%6 == 0 and 100%i != 0:\n",
    "            print(i, end = \" \")\n",
    "condition(lb,ub)\n",
    "\n",
    "        "
   ]
  },
  {
   "cell_type": "code",
   "execution_count": 23,
   "metadata": {},
   "outputs": [
    {
     "name": "stdout",
     "output_type": "stream",
     "text": [
      "enter lower value:1\n",
      "enter upper value:10\n",
      "8 64 216 512 1000 "
     ]
    },
    {
     "data": {
      "text/plain": [
       "360.0"
      ]
     },
     "execution_count": 23,
     "metadata": {},
     "output_type": "execute_result"
    }
   ],
   "source": [
    "# Function to find the average of cubes of all even numbers in a given range(lb, ub) inclusive\n",
    "lb=int(input(\"enter lower value:\"))\n",
    "ub=int(input(\"enter upper value:\"))\n",
    "\n",
    "def condition(lb, ub):\n",
    "    count=0\n",
    "    sum=0\n",
    "    for i in range(lb,ub+1):\n",
    "        if i%2 == 0 :\n",
    "            i2=i**3\n",
    "            sum = sum+i2\n",
    "            count +=1\n",
    "            avg=sum/count\n",
    "            print(i2, end = \" \")\n",
    "    return avg\n",
    "condition(lb,ub)"
   ]
  },
  {
   "cell_type": "code",
   "execution_count": 18,
   "metadata": {},
   "outputs": [
    {
     "name": "stdout",
     "output_type": "stream",
     "text": [
      "1 2 4 5 10 20 "
     ]
    }
   ],
   "source": [
    "# factors of a numbers 12-1,2,4,6,12\n",
    "# n=int(input(\"enter a number:\"))\n",
    "def factors(n):\n",
    "    for i in range(1,n+1):\n",
    "        if (n%i == 0):\n",
    "            print(i, end = \" \")\n",
    "factors(20)"
   ]
  },
  {
   "cell_type": "code",
   "execution_count": 28,
   "metadata": {},
   "outputs": [
    {
     "name": "stdout",
     "output_type": "stream",
     "text": [
      "enter a number:3\n"
     ]
    },
    {
     "data": {
      "text/plain": [
       "6"
      ]
     },
     "execution_count": 28,
     "metadata": {},
     "output_type": "execute_result"
    }
   ],
   "source": [
    "# functions to calculate the factorial of agiven number\n",
    "n=int(input(\"enter a number:\"))\n",
    "def numberFactors(n):\n",
    "    fact=1\n",
    "    for i in range(1,n+1):\n",
    "        fact=fact*i\n",
    "    return fact\n",
    "numberFactors(n)"
   ]
  },
  {
   "cell_type": "code",
   "execution_count": 6,
   "metadata": {},
   "outputs": [
    {
     "name": "stdout",
     "output_type": "stream",
     "text": [
      "enter a number:9\n",
      "False\n"
     ]
    }
   ],
   "source": [
    "# function to check if a given number is prime\n",
    "n=int(input(\"enter a number:\"))\n",
    "def numberPrime(n):\n",
    "    c=0\n",
    "    for i in range(1,n+1):\n",
    "        if (n%i == 0):\n",
    "            c=c+1\n",
    "    if (c==2):\n",
    "        print(True)\n",
    "    else:\n",
    "        print(False)\n",
    "numberPrime(n)"
   ]
  },
  {
   "cell_type": "code",
   "execution_count": 21,
   "metadata": {},
   "outputs": [
    {
     "name": "stdout",
     "output_type": "stream",
     "text": [
      "enter a number:123\n",
      "False\n"
     ]
    }
   ],
   "source": [
    "# function to generate all perfect numbers in a given range\n",
    "n=int(input(\"enter a number:\"))\n",
    "def perfectNumber(n):\n",
    "    c=0\n",
    "    sum=0\n",
    "    for i in range(1,n):\n",
    "        if (n%i == 0):\n",
    "            #print(i)\n",
    "            sum=sum+i\n",
    "    if (sum == n):\n",
    "        print(True)\n",
    "    else:\n",
    "        print(False)\n",
    "perfectNumber(n)"
   ]
  },
  {
   "cell_type": "code",
   "execution_count": null,
   "metadata": {},
   "outputs": [],
   "source": []
  }
 ],
 "metadata": {
  "kernelspec": {
   "display_name": "Python 3",
   "language": "python",
   "name": "python3"
  },
  "language_info": {
   "codemirror_mode": {
    "name": "ipython",
    "version": 3
   },
   "file_extension": ".py",
   "mimetype": "text/x-python",
   "name": "python",
   "nbconvert_exporter": "python",
   "pygments_lexer": "ipython3",
   "version": "3.7.3"
  }
 },
 "nbformat": 4,
 "nbformat_minor": 2
}
