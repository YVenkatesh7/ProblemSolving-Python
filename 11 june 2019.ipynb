{
 "cells": [
  {
   "cell_type": "markdown",
   "metadata": {},
   "source": [
    "### Markdown Basics\n",
    "\n",
    "* **Bold**\n",
    "* *Italic*\n",
    "* ***IB***\n",
    "* Normal Text\n",
    "    * sublist1\n",
    "    * sublist2\n",
    "\n",
    "\n",
    "> 1. order list 1\n",
    "> 2. order lsit 2\n",
    "\n",
    "\n",
    "- [X] option 1\n",
    "- [ ] option 2\n",
    "- [ ] option 3\n",
    "- [ ] option 4\n",
    "\n",
    "i get 10 times [Google] [1].\n",
    "\n",
    "  [1]: https://www.google.com/  \"Google\"\n",
    "\n",
    "`printf(\"hello world\")`\n",
    "\n",
    "<https://www.google.com>\n",
    "  \n",
    "![Logo images](abc.jpg)"
   ]
  },
  {
   "cell_type": "code",
   "execution_count": null,
   "metadata": {},
   "outputs": [],
   "source": []
  },
  {
   "cell_type": "markdown",
   "metadata": {},
   "source": [
    "# Python Basic\n",
    "\n",
    "\n",
    "### Python Version 3.7\n",
    "\n",
    "- Scripting\n",
    "- Object Oriented Langauage\n",
    "- Functional"
   ]
  },
  {
   "cell_type": "code",
   "execution_count": 8,
   "metadata": {},
   "outputs": [
    {
     "name": "stdout",
     "output_type": "stream",
     "text": [
      "Good Afternoon Everyone! !||why python?\n"
     ]
    }
   ],
   "source": [
    "# python comments\n",
    "\n",
    "\"\"\"python \n",
    "comments\n",
    "\"\"\"\n",
    "print(\"Good Afternoon Everyone!\",\"!\",end=\"||\")\n",
    "\n",
    "print(\"why python?\")"
   ]
  },
  {
   "cell_type": "code",
   "execution_count": null,
   "metadata": {},
   "outputs": [],
   "source": []
  },
  {
   "cell_type": "markdown",
   "metadata": {},
   "source": [
    "### Assignment"
   ]
  },
  {
   "cell_type": "code",
   "execution_count": 16,
   "metadata": {},
   "outputs": [
    {
     "data": {
      "text/plain": [
       "(123, 234, 345)"
      ]
     },
     "execution_count": 16,
     "metadata": {},
     "output_type": "execute_result"
    }
   ],
   "source": [
    "n1 = 123456 # Single Variable Assignments\n",
    "\n",
    "n2 = n3 = n4 = n1 # multi varibles of the same values\n",
    "a,b,c=123,234,345 # Multi varables assignment with different values\n",
    "\n",
    "\n",
    "a,b,c\n"
   ]
  },
  {
   "cell_type": "markdown",
   "metadata": {},
   "source": [
    "### Arithematic Operations\n",
    "- +\n",
    "- -\n",
    "- *\n",
    "- /\n",
    "- %\n",
    "- **\n"
   ]
  },
  {
   "cell_type": "code",
   "execution_count": null,
   "metadata": {},
   "outputs": [],
   "source": [
    "a=23\n",
    "b=34\n",
    "c=a+b\n",
    "print(c)"
   ]
  },
  {
   "cell_type": "code",
   "execution_count": 2,
   "metadata": {},
   "outputs": [
    {
     "name": "stdout",
     "output_type": "stream",
     "text": [
      "-1\n"
     ]
    }
   ],
   "source": [
    "stuff = dict()\n",
    "print(stuff.get('candy',-1))"
   ]
  },
  {
   "cell_type": "code",
   "execution_count": null,
   "metadata": {},
   "outputs": [],
   "source": []
  }
 ],
 "metadata": {
  "kernelspec": {
   "display_name": "Python 3",
   "language": "python",
   "name": "python3"
  },
  "language_info": {
   "codemirror_mode": {
    "name": "ipython",
    "version": 3
   },
   "file_extension": ".py",
   "mimetype": "text/x-python",
   "name": "python",
   "nbconvert_exporter": "python",
   "pygments_lexer": "ipython3",
   "version": "3.7.3"
  }
 },
 "nbformat": 4,
 "nbformat_minor": 2
}
