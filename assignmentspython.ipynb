{
 "cells": [
  {
   "cell_type": "markdown",
   "metadata": {},
   "source": [
    "### Data Type\n",
    "\n",
    "- Int\n",
    "- Float\n",
    "- String\n",
    "- Double"
   ]
  },
  {
   "cell_type": "code",
   "execution_count": 9,
   "metadata": {},
   "outputs": [
    {
     "data": {
      "text/plain": [
       "12.0"
      ]
     },
     "execution_count": 9,
     "metadata": {},
     "output_type": "execute_result"
    }
   ],
   "source": [
    "a=\"venkatesh\"\n",
    "s1= \"python\"\n",
    "type(s1)\n",
    "f1=12.9\n",
    "type(f1)\n",
    "\n",
    "float(str(int(f1)))"
   ]
  },
  {
   "cell_type": "markdown",
   "metadata": {},
   "source": [
    "### Arithematic Operations"
   ]
  },
  {
   "cell_type": "code",
   "execution_count": 4,
   "metadata": {},
   "outputs": [
    {
     "name": "stdout",
     "output_type": "stream",
     "text": [
      "354\n"
     ]
    }
   ],
   "source": [
    "a=10\n",
    "b=344\n",
    "c=a+b\n",
    "print(c)"
   ]
  },
  {
   "cell_type": "markdown",
   "metadata": {},
   "source": [
    "### Conditions"
   ]
  },
  {
   "cell_type": "code",
   "execution_count": 13,
   "metadata": {},
   "outputs": [
    {
     "name": "stdout",
     "output_type": "stream",
     "text": [
      "False\n"
     ]
    }
   ],
   "source": [
    "atoms =199998\n",
    "if (atoms < 10**1):\n",
    "    print(\"True\")\n",
    "else:\n",
    "    print(\"False\")"
   ]
  },
  {
   "cell_type": "code",
   "execution_count": 14,
   "metadata": {},
   "outputs": [
    {
     "name": "stdout",
     "output_type": "stream",
     "text": [
      "odd\n"
     ]
    }
   ],
   "source": [
    "n=123\n",
    "if n%2==0:\n",
    "    print(\"even\")\n",
    "else:\n",
    "    print(\"odd\")"
   ]
  },
  {
   "cell_type": "code",
   "execution_count": null,
   "metadata": {},
   "outputs": [
    {
     "name": "stdout",
     "output_type": "stream",
     "text": [
      "enter a first number:-1\n",
      "enter a second number:-100\n"
     ]
    }
   ],
   "source": [
    "# find greatest of 3 numbers\n",
    "n1 = int(input(\"enter a first number:\"))\n",
    "n2 = int(input(\"enter a second number:\"))\n",
    "n3 = int(input(\"enter a third number:\"))\n",
    "if n1 > n2 and n1 > n3: \n",
    "    print(n1, \"is the greatest\")\n",
    "elif n2 > n3:\n",
    "    print(n2, \"is the greatest\")\n",
    "else:\n",
    "    print(n3, \"is the greatest\")"
   ]
  },
  {
   "cell_type": "code",
   "execution_count": 5,
   "metadata": {},
   "outputs": [
    {
     "name": "stdout",
     "output_type": "stream",
     "text": [
      "enter a year:1997\n",
      "1997 is not a leap year\n"
     ]
    }
   ],
   "source": [
    "# Check if a year is a leap year \n",
    "n=int(input(\"enter a year:\"))\n",
    "if (n%400 == 0 and n%100 != 0) or n%4 == 0:\n",
    "    print(n, \"is a leap year\")\n",
    "else:\n",
    "    print(n, \"is not a leap year\")"
   ]
  },
  {
   "cell_type": "code",
   "execution_count": 7,
   "metadata": {},
   "outputs": [
    {
     "name": "stdout",
     "output_type": "stream",
     "text": [
      "enter a number:100\n",
      "enter a lower bound value:12\n",
      "enter a upper bound value:134\n",
      "yes\n"
     ]
    }
   ],
   "source": [
    "# check if a number exists in a given range\n",
    "n1 = int(input(\"enter a number:\"))\n",
    "lb = int(input(\"enter a lower bound value:\"))\n",
    "ub = int(input(\"enter a upper bound value:\"))\n",
    "if n1 >= lb and n1 <= ub:\n",
    "    print(\"yes\")\n",
    "else:\n",
    "    print(\"no\")\n"
   ]
  },
  {
   "cell_type": "code",
   "execution_count": 12,
   "metadata": {},
   "outputs": [
    {
     "name": "stdout",
     "output_type": "stream",
     "text": [
      "enter a number12345678\n",
      "8\n"
     ]
    }
   ],
   "source": [
    "# Calculater the number of digit in a number\n",
    "n=int(input (\"enter a number\"))\n",
    "a=len(str(n))\n",
    "print(a)\n",
    "    "
   ]
  },
  {
   "cell_type": "code",
   "execution_count": null,
   "metadata": {},
   "outputs": [],
   "source": [
    "# check if a number is multiple of 10\n",
    "n = int(input(\"enter a number\"))\n",
    "if n % 10 ==0:\n",
    "    print(n,\"is a multiple of 10\")\n",
    "else:\n",
    "    print(n,\"is not multiple of 10\")"
   ]
  },
  {
   "cell_type": "code",
   "execution_count": null,
   "metadata": {},
   "outputs": [],
   "source": [
    "# check if a number is a factor of 1000\n",
    "n1=int(input(\"enter a number\"))\n",
    "t=[]\n",
    "if (1000 % n1 == 0) :\n",
    "    print(n1,\"is factor of 1000\")\n",
    "else:\n",
    "    print(n1,\"is not a factor of 1000\")"
   ]
  },
  {
   "cell_type": "code",
   "execution_count": 13,
   "metadata": {},
   "outputs": [
    {
     "name": "stdout",
     "output_type": "stream",
     "text": [
      "enter a number6\n",
      "enter a stringvenkat\n",
      "yes\n"
     ]
    }
   ],
   "source": [
    "# check if given string is equal to a number\n",
    "n1 = int(input(\"enter a number\"))\n",
    "n2= input(\"enter a string\")\n",
    "if n1==len(str(n2)):\n",
    "    print(\"yes\")\n",
    "else:\n",
    "    print(\"no\")"
   ]
  },
  {
   "cell_type": "code",
   "execution_count": null,
   "metadata": {},
   "outputs": [],
   "source": [
    "# Calculate the squre root of number without functions\n",
    "n1 = 123\n",
    "n1 ** 0.5\n"
   ]
  },
  {
   "cell_type": "code",
   "execution_count": null,
   "metadata": {},
   "outputs": [],
   "source": [
    "# Calculate the number of nanoseconds in a given year\n",
    "year = int(input(\"enter a year:\"))\n",
    "if (year % 400 == 0 and year % 100 != 0) or year % 4 == 0 :\n",
    "    print(365 * 24 * 60 * 60 *(10**9))\n",
    "else:\n",
    "    print(365 * 24 * 60 * 60 *(10**9))"
   ]
  }
 ],
 "metadata": {
  "kernelspec": {
   "display_name": "Python 3",
   "language": "python",
   "name": "python3"
  },
  "language_info": {
   "codemirror_mode": {
    "name": "ipython",
    "version": 3
   },
   "file_extension": ".py",
   "mimetype": "text/x-python",
   "name": "python",
   "nbconvert_exporter": "python",
   "pygments_lexer": "ipython3",
   "version": "3.7.3"
  }
 },
 "nbformat": 4,
 "nbformat_minor": 2
}
