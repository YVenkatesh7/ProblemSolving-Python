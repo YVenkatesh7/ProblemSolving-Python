{
 "cells": [
  {
   "cell_type": "markdown",
   "metadata": {},
   "source": [
    "Date : 22 June 2019\n",
    "Day Objectives\n",
    "File Handling\n",
    "Basic File Data Processing\n",
    "Accessing and Modifying File Data\n",
    "Character Count\n",
    "Line Count\n",
    "File Size\n",
    "Word Count\n",
    "Unique Word Count"
   ]
  },
  {
   "cell_type": "code",
   "execution_count": 16,
   "metadata": {},
   "outputs": [
    {
     "name": "stdout",
     "output_type": "stream",
     "text": [
      "hello yekkanti venkatesh \n",
      "i am from guntur\n"
     ]
    }
   ],
   "source": [
    "# Read a File - File should exist(Read Mode)\n",
    "# Write to a File - Existing(append mode) or New File(Write mode)\n",
    "\n",
    "# Function to read entire file data into a single string - Character Processing\n",
    "def readFile(filepath):\n",
    "    with open(filepath, 'r') as f:\n",
    "        filedata = f.read() # Reads the entire file data into a string\n",
    "    return filedata\n",
    "\n",
    "filepath = 'DataFiles/data.txt'\n",
    "print(readFile(filepath))"
   ]
  },
  {
   "cell_type": "code",
   "execution_count": 17,
   "metadata": {},
   "outputs": [
    {
     "data": {
      "text/plain": [
       "['hello yekkanti venkatesh ', 'i am from guntur']"
      ]
     },
     "execution_count": 17,
     "metadata": {},
     "output_type": "execute_result"
    }
   ],
   "source": [
    "# Function to read a file into a list of lines\n",
    "# Each element in the list is one line in the file - Line Processing\n",
    "def readFileIntoList(filepath):\n",
    "    with open(filepath, 'r') as f:\n",
    "        filedata = f.read()\n",
    "        lines = filedata.split('\\n')\n",
    "        #lines = []\n",
    "        #for line in f: \n",
    "            #lines.append(line)\n",
    "    return lines\n",
    "\n",
    "filepath = 'DataFiles/data.txt'\n",
    "readFileIntoList(filepath)"
   ]
  },
  {
   "cell_type": "code",
   "execution_count": 18,
   "metadata": {},
   "outputs": [
    {
     "data": {
      "text/plain": [
       "2"
      ]
     },
     "execution_count": 18,
     "metadata": {},
     "output_type": "execute_result"
    }
   ],
   "source": [
    "# Function to count number of lines in a file\n",
    "\n",
    "def countLinesFile(filepath):\n",
    "    count = len(readFileIntoList(filepath))\n",
    "    return count\n",
    "\n",
    "countLinesFile(filepath)"
   ]
  },
  {
   "cell_type": "code",
   "execution_count": 19,
   "metadata": {},
   "outputs": [
    {
     "data": {
      "text/plain": [
       "42"
      ]
     },
     "execution_count": 19,
     "metadata": {},
     "output_type": "execute_result"
    }
   ],
   "source": [
    "#Function to count the number of characters in a file\n",
    "\n",
    "def charCountFile(filepath):\n",
    "    count = len(readFile(filepath))\n",
    "    return count\n",
    "charCountFile(filepath)"
   ]
  },
  {
   "cell_type": "code",
   "execution_count": 1,
   "metadata": {},
   "outputs": [
    {
     "ename": "NameError",
     "evalue": "name 'filepath' is not defined",
     "output_type": "error",
     "traceback": [
      "\u001b[1;31m---------------------------------------------------------------------------\u001b[0m",
      "\u001b[1;31mNameError\u001b[0m                                 Traceback (most recent call last)",
      "\u001b[1;32m<ipython-input-1-eb33653ae4d1>\u001b[0m in \u001b[0;36m<module>\u001b[1;34m\u001b[0m\n\u001b[0;32m     13\u001b[0m     \u001b[1;32mreturn\u001b[0m \u001b[0mallWordsList\u001b[0m\u001b[1;33m\u001b[0m\u001b[1;33m\u001b[0m\u001b[0m\n\u001b[0;32m     14\u001b[0m \u001b[1;33m\u001b[0m\u001b[0m\n\u001b[1;32m---> 15\u001b[1;33m \u001b[0mwordsFromFile\u001b[0m\u001b[1;33m(\u001b[0m\u001b[0mfilepath\u001b[0m\u001b[1;33m)\u001b[0m\u001b[1;33m\u001b[0m\u001b[1;33m\u001b[0m\u001b[0m\n\u001b[0m\u001b[0;32m     16\u001b[0m \u001b[1;33m\u001b[0m\u001b[0m\n\u001b[0;32m     17\u001b[0m \u001b[1;33m\u001b[0m\u001b[0m\n",
      "\u001b[1;31mNameError\u001b[0m: name 'filepath' is not defined"
     ]
    }
   ],
   "source": [
    "# Function to count the number of words in a file\n",
    "import re\n",
    "\n",
    "def wordCountFile(filepath):\n",
    "    pattern = '[ \\n]'\n",
    "    filedata = readFile(filepath)\n",
    "    count = len(re.split(pattern, filedata))\n",
    "    return count\n",
    "def wordsFromFile(filepath):\n",
    "    pattern = '[ \\n]'\n",
    "    filedata = readFile(filepath)\n",
    "    allWordsList = re.split(pattern, filedata)\n",
    "    return allWordsList\n",
    "\n",
    "wordsFromFile(filepath)\n",
    "\n",
    "\n",
    "\n",
    "#wordCountFile(filepath)\n"
   ]
  },
  {
   "cell_type": "code",
   "execution_count": 2,
   "metadata": {
    "scrolled": false
   },
   "outputs": [
    {
     "ename": "NameError",
     "evalue": "name 'filepath' is not defined",
     "output_type": "error",
     "traceback": [
      "\u001b[1;31m---------------------------------------------------------------------------\u001b[0m",
      "\u001b[1;31mNameError\u001b[0m                                 Traceback (most recent call last)",
      "\u001b[1;32m<ipython-input-2-c0dbefe10563>\u001b[0m in \u001b[0;36m<module>\u001b[1;34m\u001b[0m\n\u001b[0;32m     20\u001b[0m \u001b[0mli\u001b[0m \u001b[1;33m=\u001b[0m \u001b[1;33m[\u001b[0m\u001b[1;36m1\u001b[0m\u001b[1;33m,\u001b[0m\u001b[1;36m2\u001b[0m\u001b[1;33m,\u001b[0m\u001b[1;36m3\u001b[0m\u001b[1;33m,\u001b[0m\u001b[1;36m3\u001b[0m\u001b[1;33m,\u001b[0m\u001b[1;36m2\u001b[0m\u001b[1;33m,\u001b[0m\u001b[1;36m1\u001b[0m\u001b[1;33m]\u001b[0m\u001b[1;33m\u001b[0m\u001b[1;33m\u001b[0m\u001b[0m\n\u001b[0;32m     21\u001b[0m \u001b[1;33m\u001b[0m\u001b[0m\n\u001b[1;32m---> 22\u001b[1;33m \u001b[0muniqueData\u001b[0m\u001b[1;33m(\u001b[0m\u001b[0mfilepath\u001b[0m\u001b[1;33m)\u001b[0m\u001b[1;33m\u001b[0m\u001b[1;33m\u001b[0m\u001b[0m\n\u001b[0m",
      "\u001b[1;31mNameError\u001b[0m: name 'filepath' is not defined"
     ]
    }
   ],
   "source": [
    "# Function to get unique elements in a list\n",
    "\n",
    "# [1,2,3,3,2,1] -> [1,2,3]\n",
    "# Create a empty unique list [1,2,3]\n",
    "\n",
    "def uniqueData(li):\n",
    "    # Create an empty unique list\n",
    "    #filedata = readFile(filepath)\n",
    "    allwords = wordsFromFile(filepath)\n",
    "    unique = []    \n",
    "    # For every element in the main list, \n",
    "        # check if it exists in the unique list.\n",
    "        # If it does not exist, add it to unique list\n",
    "        # else if it already exists, move on to the next element in the main list   \n",
    "    for element in allwords:\n",
    "        if element not in unique:\n",
    "            unique.append(element)\n",
    "    return unique\n",
    "\n",
    "li = [1,2,3,3,2,1]\n",
    "\n",
    "uniqueData(filepath)"
   ]
  },
  {
   "cell_type": "code",
   "execution_count": null,
   "metadata": {},
   "outputs": [],
   "source": [
    "# Function to count the number of unique words in a text file\n",
    "\n",
    "\n",
    "def countUniqueWords(filepath):"
   ]
  },
  {
   "cell_type": "code",
   "execution_count": 3,
   "metadata": {},
   "outputs": [
    {
     "ename": "NameError",
     "evalue": "name 'filepath' is not defined",
     "output_type": "error",
     "traceback": [
      "\u001b[1;31m---------------------------------------------------------------------------\u001b[0m",
      "\u001b[1;31mNameError\u001b[0m                                 Traceback (most recent call last)",
      "\u001b[1;32m<ipython-input-3-1411cf7040ab>\u001b[0m in \u001b[0;36m<module>\u001b[1;34m\u001b[0m\n\u001b[0;32m     40\u001b[0m     \u001b[1;32mreturn\u001b[0m \u001b[0mwordFrequency\u001b[0m\u001b[1;33m\u001b[0m\u001b[1;33m\u001b[0m\u001b[0m\n\u001b[0;32m     41\u001b[0m \u001b[1;33m\u001b[0m\u001b[0m\n\u001b[1;32m---> 42\u001b[1;33m \u001b[0mFreqDistributionOfWord2\u001b[0m\u001b[1;33m(\u001b[0m\u001b[0mfilepath\u001b[0m\u001b[1;33m)\u001b[0m\u001b[1;33m\u001b[0m\u001b[1;33m\u001b[0m\u001b[0m\n\u001b[0m\u001b[0;32m     43\u001b[0m \u001b[1;33m\u001b[0m\u001b[0m\n\u001b[0;32m     44\u001b[0m \u001b[1;31m#FreqDistributionOfWords1(filepath)\u001b[0m\u001b[1;33m\u001b[0m\u001b[1;33m\u001b[0m\u001b[1;33m\u001b[0m\u001b[0m\n",
      "\u001b[1;31mNameError\u001b[0m: name 'filepath' is not defined"
     ]
    }
   ],
   "source": [
    "\n",
    "# Function to print the frequency count of all words in a file\n",
    "# Frequency Distribution\n",
    "\n",
    "# Data in Line 1\n",
    "# Data in Line 2\n",
    "# Data in Line 3\n",
    "# O/P\n",
    "# Data : 3\n",
    "# in : 3\n",
    "# Line : 3\n",
    "# 1 : 1\n",
    "# 2 : 1\n",
    "# 3 : 1\n",
    "\n",
    "def FreqDistributionOfWords1(filepath):\n",
    "    # Dictionaries to be used\n",
    "        # Keys -> Unique words\n",
    "        # Values -> Count of unique words\n",
    "    # two lists\n",
    "        # AllWords list -\n",
    "        # UniqueWords list -\n",
    "    # Set \n",
    "    allwords = wordsFromFile(filepath)\n",
    "    uniquewords = uniqueData(filepath)\n",
    "    for word in uniquewords:\n",
    "        count = allwords.count(word)\n",
    "        print(word, ':', count)\n",
    "    return\n",
    "\n",
    "def FreqDistributionOfWord2(filepath):\n",
    "    allwords = wordsFromFile(filepath)\n",
    "    wordFrequency = {}\n",
    "    \n",
    "    for word in allwords:\n",
    "        if word not in wordFrequency.keys():\n",
    "            wordFrequency[word] = 1\n",
    "        else:\n",
    "            wordFrequency[word] += 1\n",
    "    return wordFrequency\n",
    "\n",
    "FreqDistributionOfWord2(filepath)\n",
    "\n",
    "#FreqDistributionOfWords1(filepath)    "
   ]
  },
  {
   "cell_type": "code",
   "execution_count": null,
   "metadata": {},
   "outputs": [],
   "source": [
    "\n",
    "# Contacts Application\n",
    "    # Add, Search, List, Modify Delete contacts\n",
    "\n",
    "\n",
    "    \n",
    "# Marsk Analysis\n",
    "    # Generate Marks files for n students\n",
    "    # Input : Marks text file - each line count\n",
    "    # Generate a report with folowing\n",
    "        # Class Average\n",
    "        # % of students Passed\n",
    "        # % of students failed\n",
    "        # % of students Distinction\n",
    "        # Highest Mark Frequency\n",
    "        # Lowest MArk Frequncy\n",
    "        "
   ]
  },
  {
   "cell_type": "code",
   "execution_count": 1,
   "metadata": {},
   "outputs": [
    {
     "name": "stdout",
     "output_type": "stream",
     "text": [
      "['40', '59', '78', '92', '49', '76', '18', '31', '74', '5'] "
     ]
    }
   ],
   "source": [
    "# functon to generate marks data for n studnts\n",
    "from random import randint\n",
    "\n",
    "def generateMarks(n, lb, ub):\n",
    "    with open(\"DataFiles/marks.txt\", 'w') as f:\n",
    "        for i in range(0, n):\n",
    "            r = randint(lb, ub)\n",
    "            data=f.write(str(r) + '\\n')\n",
    "    with open(\"DataFiles/marks.txt\", 'r') as f:\n",
    "        data = f.read()\n",
    "        info = data.split()\n",
    "        print(info, end = ' ')\n",
    "filepath = 'DataFiles/marks,txt'\n",
    "generateMarks(10, 0, 100)\n"
   ]
  },
  {
   "cell_type": "code",
   "execution_count": null,
   "metadata": {},
   "outputs": [],
   "source": []
  },
  {
   "cell_type": "code",
   "execution_count": 2,
   "metadata": {},
   "outputs": [
    {
     "name": "stdout",
     "output_type": "stream",
     "text": [
      "average of overall marks :  52\n"
     ]
    }
   ],
   "source": [
    "def avgMarks(filepath):\n",
    "    with open('DataFiles/marks.txt', 'r') as f:\n",
    "        filedata = f.read()\n",
    "        count = filedata.split()\n",
    "        avgMarks = 0 \n",
    "        j = 0\n",
    "        for i in count:\n",
    "            avgMarks= avgMarks+int(i)\n",
    "            j +=1 \n",
    "        print(\"average of overall marks : \",avgMarks//j)            \n",
    "filepath = 'DataFiles/marks,txt'\n",
    "avgMarks(filepath)"
   ]
  },
  {
   "cell_type": "code",
   "execution_count": 4,
   "metadata": {},
   "outputs": [
    {
     "name": "stdout",
     "output_type": "stream",
     "text": [
      "pass percentage is : 80.0\n",
      "failed percentage is : 20.0\n",
      "disctinction percentage is : 40.0\n"
     ]
    }
   ],
   "source": [
    "def perPassed(filepath):\n",
    "    with open('DataFiles/marks.txt', 'r') as f:\n",
    "        filedata = f.read()\n",
    "        count = filedata.split()\n",
    "        passed = 0\n",
    "        failed = 0\n",
    "        distinction = 0\n",
    "        t = 0\n",
    "        for i in count:\n",
    "            if (30 < int(i)):\n",
    "                passed += 1\n",
    "                if (70 < int(i)):\n",
    "                    distinction += 1\n",
    "            else:\n",
    "                failed += 1\n",
    "            t += 1\n",
    "        print(\"pass percentage is :\",(passed/t)*100)\n",
    "        print(\"failed percentage is :\",(failed/t)*100)\n",
    "        print(\"disctinction percentage is :\",(distinction/t)*100)\n",
    "\n",
    "filepath = 'DataFiles/marks,txt'\n",
    "perPassed(filepath)"
   ]
  },
  {
   "cell_type": "code",
   "execution_count": 5,
   "metadata": {},
   "outputs": [
    {
     "name": "stdout",
     "output_type": "stream",
     "text": [
      "frequency of maximum: 92 1\n",
      "frequncy of minimum: 5 1\n"
     ]
    }
   ],
   "source": [
    "def highandLowFrequency(filepath):\n",
    "    with open('DataFiles/marks.txt', 'r') as f:\n",
    "        filedata = f.read()\n",
    "        list1 = filedata.split()\n",
    "        #list1 = list(count)\n",
    "        list2 = []\n",
    "        for i in list1:\n",
    "            i = int(i)\n",
    "            list2.append(i)\n",
    "        ma = max(list2)\n",
    "        mi = min(list2)\n",
    "        print(\"frequency of maximum:\",max(list2),list2.count(ma))\n",
    "        print(\"frequncy of minimum:\",min(list2),list2.count(mi)) \n",
    "            \n",
    "filepath = 'DataFiles/marks.txt'\n",
    "highandLowFrequency(filepath)"
   ]
  },
  {
   "cell_type": "code",
   "execution_count": 6,
   "metadata": {},
   "outputs": [
    {
     "name": "stdout",
     "output_type": "stream",
     "text": [
      "['88', '88', '74', '17', '6', '75', '65', '46', '35', '22'] None\n",
      "average of overall marks :  51\n",
      "None\n",
      "pass percentage is : 70.0\n",
      "failed percentage is : 30.0\n",
      "disctinction percentage is : 40.0\n",
      "None\n",
      "frequency of maximum: 88 2\n",
      "frequncy of minimum: 6 1\n",
      "None\n"
     ]
    }
   ],
   "source": [
    "def allFunctions():\n",
    "    print(generateMarks(10, 0, 100))\n",
    "    print(avgMarks(filepath))\n",
    "    print(perPassed(filepath))\n",
    "    print(highandLowFrequency(filepath))\n",
    "allFunctions()"
   ]
  },
  {
   "cell_type": "code",
   "execution_count": null,
   "metadata": {},
   "outputs": [],
   "source": []
  }
 ],
 "metadata": {
  "kernelspec": {
   "display_name": "Python 3",
   "language": "python",
   "name": "python3"
  },
  "language_info": {
   "codemirror_mode": {
    "name": "ipython",
    "version": 3
   },
   "file_extension": ".py",
   "mimetype": "text/x-python",
   "name": "python",
   "nbconvert_exporter": "python",
   "pygments_lexer": "ipython3",
   "version": "3.7.3"
  }
 },
 "nbformat": 4,
 "nbformat_minor": 2
}
