{
 "cells": [
  {
   "cell_type": "markdown",
   "metadata": {},
   "source": [
    "### Day Objectives 20 June\n",
    "\n",
    "- Regular Expression\n",
    "    - Constructing Regular Expression for various use cases\n",
    "    - Regular Expression Module and related Python\n",
    "    - Improving the Contacts applications with name and phone number validations using regular expressions\n",
    "- File Handling\n",
    "    - Text Files\n",
    "    - Upgrading the Contacts Applications to store contact information in a text file"
   ]
  },
  {
   "cell_type": "code",
   "execution_count": null,
   "metadata": {},
   "outputs": [],
   "source": []
  },
  {
   "cell_type": "markdown",
   "metadata": {},
   "source": [
    "#### Regular Expressions\n",
    "\n",
    "- Pattern Matchng\n",
    "- Symbolic Notation of a pattern\n",
    "    - Pattern : Format which repeats\n",
    "    - Pattern(RE) - Represents the set of all values that match that pattern \n",
    "- [0-9] -> Any Digits\n",
    "- [a-z] -> Any lower case Alphabets\n",
    "- [A-Z] -> Any Upper case Alphabets\n",
    "- [2468] -> even numbers\n",
    "- ^[0-9]{9}$ -> nine digits number \n",
    "- ^[0-9]*0$ or ^[1-9][0-9]*[05] or ^([1-9][0-9]*[05])$|^([5])$-> All multiple of 10\n",
    "- ^[0-9]*[0|5]$ -> Multiples of 5\n",
    "- ^[1-9][0-9]{9}$ -> all 10 digits numbers\n",
    "- ^[9876][0-9]{9}$|^[0][6-9][0-9]{9}$|^[+][9][1][6-9][0-9]{9}$ -> Validating Phone number\n",
    "- (print) or [p][r][i][n][t] -> Searching of specific word\n",
    "-  ^[a-z0-9][0-9a-z_.]{3,14}[@][a-z0-9.]{3,18}[.][a-z]{2,4}$ ->Email Pattern\n"
   ]
  },
  {
   "cell_type": "code",
   "execution_count": 10,
   "metadata": {},
   "outputs": [
    {
     "name": "stdout",
     "output_type": "stream",
     "text": [
      "Valid email\n",
      "['venkatesh@gmail.com']\n"
     ]
    }
   ],
   "source": []
  },
  {
   "cell_type": "code",
   "execution_count": 16,
   "metadata": {},
   "outputs": [
    {
     "data": {
      "text/plain": [
       "True"
      ]
     },
     "execution_count": 16,
     "metadata": {},
     "output_type": "execute_result"
    }
   ],
   "source": [
    "# Function to validate a phone number\n",
    "\n",
    "import re\n",
    "def phoneNumberValidator(phone):\n",
    "    pattern = '^[9876][0-9]{9}$|^[0][6-9][0-9]{9}$|^[+][9][1][6-9][0-9]{9}$'\n",
    "    if re.match(pattern, str(phone)):\n",
    "        return True\n",
    "    return False\n",
    "#phoneNumberValidator(9494699851)  \n",
    "\n",
    "\n",
    "def emailValidator(email):\n",
    "    pattern = '^[a-z0-9][0-9a-z_.]{3,14}[@][a-z0-9.]{3,18}[.][a-z]{2,4}$'\n",
    "    if re.match(pattern, email):\n",
    "        return True\n",
    "    return False\n",
    "emailValidator('venkatesh@gmail.com') "
   ]
  },
  {
   "cell_type": "code",
   "execution_count": 19,
   "metadata": {},
   "outputs": [
    {
     "name": "stdout",
     "output_type": "stream",
     "text": [
      "contact venkatesh added\n"
     ]
    }
   ],
   "source": [
    "contacts={'name2':[]}\n",
    "def addContacts(name, phone, email):\n",
    "    if name not in contacts and phoneNumberValidator(phone):\n",
    "        contacts[name] = phone      \n",
    "        print(\"contact %s added\" % name)\n",
    "    else:\n",
    "        if not phoneNumberValidator(phone):\n",
    "            print(\"Phone number is invalid\")\n",
    "            return\n",
    "        if not emailValidator(email):\n",
    "            print(\"email number is invalid\")\n",
    "            return\n",
    "        newcontact= []\n",
    "        newcontact.append(phone)\n",
    "        newcontact.append(email)\n",
    "        contacts[name] = newcontact\n",
    "    return\n",
    "\n",
    "addContacts('venkatesh', 9494699851,'venkatesh@gmaicom')"
   ]
  },
  {
   "cell_type": "code",
   "execution_count": 21,
   "metadata": {},
   "outputs": [
    {
     "name": "stdout",
     "output_type": "stream",
     "text": [
      "venkatesh\n"
     ]
    },
    {
     "ename": "TypeError",
     "evalue": "'int' object is not subscriptable",
     "output_type": "error",
     "traceback": [
      "\u001b[1;31m---------------------------------------------------------------------------\u001b[0m",
      "\u001b[1;31mTypeError\u001b[0m                                 Traceback (most recent call last)",
      "\u001b[1;32m<ipython-input-21-67065ff7d0ea>\u001b[0m in \u001b[0;36m<module>\u001b[1;34m\u001b[0m\n\u001b[0;32m      6\u001b[0m     \u001b[1;32melse\u001b[0m\u001b[1;33m:\u001b[0m\u001b[1;33m\u001b[0m\u001b[1;33m\u001b[0m\u001b[0m\n\u001b[0;32m      7\u001b[0m         \u001b[0mprint\u001b[0m\u001b[1;33m(\u001b[0m\u001b[1;34m\"%s does not exists\"\u001b[0m \u001b[1;33m%\u001b[0m \u001b[0mname\u001b[0m\u001b[1;33m)\u001b[0m\u001b[1;33m\u001b[0m\u001b[1;33m\u001b[0m\u001b[0m\n\u001b[1;32m----> 8\u001b[1;33m \u001b[0msearchContacts\u001b[0m\u001b[1;33m(\u001b[0m\u001b[1;34m\"venkatesh\"\u001b[0m\u001b[1;33m)\u001b[0m\u001b[1;33m\u001b[0m\u001b[1;33m\u001b[0m\u001b[0m\n\u001b[0m",
      "\u001b[1;32m<ipython-input-21-67065ff7d0ea>\u001b[0m in \u001b[0;36msearchContacts\u001b[1;34m(name)\u001b[0m\n\u001b[0;32m      2\u001b[0m     \u001b[1;32mif\u001b[0m \u001b[0mname\u001b[0m \u001b[1;32min\u001b[0m \u001b[0mcontacts\u001b[0m\u001b[1;33m:\u001b[0m\u001b[1;33m\u001b[0m\u001b[1;33m\u001b[0m\u001b[0m\n\u001b[0;32m      3\u001b[0m         \u001b[0mprint\u001b[0m\u001b[1;33m(\u001b[0m\u001b[0mname\u001b[0m\u001b[1;33m)\u001b[0m\u001b[1;33m\u001b[0m\u001b[1;33m\u001b[0m\u001b[0m\n\u001b[1;32m----> 4\u001b[1;33m         \u001b[0mprint\u001b[0m\u001b[1;33m(\u001b[0m\u001b[1;34m\"phone :\"\u001b[0m\u001b[1;33m,\u001b[0m\u001b[0mcontacts\u001b[0m\u001b[1;33m[\u001b[0m\u001b[0mname\u001b[0m\u001b[1;33m]\u001b[0m\u001b[1;33m[\u001b[0m\u001b[1;36m0\u001b[0m\u001b[1;33m]\u001b[0m\u001b[1;33m)\u001b[0m\u001b[1;33m\u001b[0m\u001b[1;33m\u001b[0m\u001b[0m\n\u001b[0m\u001b[0;32m      5\u001b[0m         \u001b[0mprint\u001b[0m\u001b[1;33m(\u001b[0m\u001b[1;34m\"email :\"\u001b[0m\u001b[1;33m,\u001b[0m\u001b[0mcontacts\u001b[0m\u001b[1;33m[\u001b[0m\u001b[0mname\u001b[0m\u001b[1;33m]\u001b[0m\u001b[1;33m[\u001b[0m\u001b[1;36m1\u001b[0m\u001b[1;33m]\u001b[0m\u001b[1;33m)\u001b[0m\u001b[1;33m\u001b[0m\u001b[1;33m\u001b[0m\u001b[0m\n\u001b[0;32m      6\u001b[0m     \u001b[1;32melse\u001b[0m\u001b[1;33m:\u001b[0m\u001b[1;33m\u001b[0m\u001b[1;33m\u001b[0m\u001b[0m\n",
      "\u001b[1;31mTypeError\u001b[0m: 'int' object is not subscriptable"
     ]
    }
   ],
   "source": [
    "def searchContacts(name):\n",
    "    if name in contacts:\n",
    "        print(name)\n",
    "        print(\"phone :\",contacts[name][0])\n",
    "        print(\"email :\",contacts[name][1])\n",
    "    else:\n",
    "        print(\"%s does not exists\" % name)\n",
    "searchContacts(\"venkatesh\")"
   ]
  },
  {
   "cell_type": "code",
   "execution_count": null,
   "metadata": {},
   "outputs": [],
   "source": [
    "def searchContacts(name):\n",
    "    if name in contacts:\n",
    "        print(name, \":\", contacts[name])\n",
    "    else:\n",
    "        print(\"%s does not exists\" % name)\n",
    "\n",
    "def modifyContacts(name):\n",
    "    if name in contacts:\n",
    "        phone=int(input(\"enter a number\"))\n",
    "        contacts[name]=phone\n",
    "        print(\"successfully modify %s number\" %phone)\n",
    "    else:\n",
    "        print(\"%s does not exit\" % name)\n",
    "modifyContacts(\"venkatesh\")"
   ]
  },
  {
   "cell_type": "markdown",
   "metadata": {},
   "source": [
    "#### File Handling in Python\n",
    "\n",
    "Files - Document contaning information residing\n",
    "Types - Text, PDF, CSV etc\n",
    "\n",
    "File I/O - Channelling I/O data to files\n",
    "default I/O channells - Keyboard/Screen\n",
    "\n",
    "change I/O channel to files for Reading and Writing \n",
    "\n",
    "Read a file - Input from file\n",
    "write to file - Output to a file\n",
    "\n",
    "read / write file - open(filename, mode)"
   ]
  },
  {
   "cell_type": "code",
   "execution_count": 25,
   "metadata": {},
   "outputs": [
    {
     "name": "stdout",
     "output_type": "stream",
     "text": [
      "Line1\n",
      "Line2\n",
      "Line3\n"
     ]
    }
   ],
   "source": [
    "# Function to read a file\n",
    "def readFile(filename):\n",
    "    f = open(filename, \"r\")\n",
    "    filedata = f.read()\n",
    "    f.close()\n",
    "    return filedata\n",
    "filename = 'DataFiles/data.txt' \n",
    "for line in readFile(filename).split('\\n'):\n",
    "    print(line)\n",
    "\n",
    "    "
   ]
  },
  {
   "cell_type": "code",
   "execution_count": 33,
   "metadata": {},
   "outputs": [],
   "source": [
    "# Function to write data into a file\n",
    "\n",
    "def writeIntoFile(filename, filedata):\n",
    "    with open(filename, 'w') as f:\n",
    "        f.write(filedata)\n",
    "        f.close()\n",
    "    return\n",
    "filename='DataFiles/data.txt'\n",
    "filedata='hello yekkanti venkatesh \\n'\n",
    "writeIntoFile(filename, filedata)"
   ]
  },
  {
   "cell_type": "code",
   "execution_count": 34,
   "metadata": {},
   "outputs": [],
   "source": [
    "# Function to append data to a file\n",
    "\n",
    "def appendDataTOFile(filename, filedata):\n",
    "    with open(filename, 'a') as f:\n",
    "        f.write(filedata)\n",
    "        f.close()\n",
    "    return\n",
    "filedata='i am from guntur'\n",
    "appendDataTOFile(filename, filedata)"
   ]
  },
  {
   "cell_type": "code",
   "execution_count": 7,
   "metadata": {},
   "outputs": [
    {
     "ename": "TypeError",
     "evalue": "'builtin_function_or_method' object is not iterable",
     "output_type": "error",
     "traceback": [
      "\u001b[1;31m---------------------------------------------------------------------------\u001b[0m",
      "\u001b[1;31mTypeError\u001b[0m                                 Traceback (most recent call last)",
      "\u001b[1;32m<ipython-input-7-1d76fb87fdcb>\u001b[0m in \u001b[0;36m<module>\u001b[1;34m\u001b[0m\n\u001b[0;32m      1\u001b[0m \u001b[0mcontacts\u001b[0m \u001b[1;33m=\u001b[0m\u001b[1;33m{\u001b[0m\u001b[1;34m\"name1\"\u001b[0m\u001b[1;33m:\u001b[0m\u001b[1;33m[\u001b[0m\u001b[1;36m9876543212\u001b[0m\u001b[1;33m,\u001b[0m\u001b[1;34m\"asdff@gmail.com\"\u001b[0m\u001b[1;33m]\u001b[0m\u001b[1;33m,\u001b[0m\u001b[1;34m\"vamsi\"\u001b[0m\u001b[1;33m:\u001b[0m\u001b[1;33m[\u001b[0m\u001b[1;36m8099610076\u001b[0m\u001b[1;33m,\u001b[0m\u001b[1;34m\"vmskrishna@gmail.com\"\u001b[0m\u001b[1;33m]\u001b[0m\u001b[1;33m,\u001b[0m\u001b[1;34m\"name2\"\u001b[0m\u001b[1;33m:\u001b[0m\u001b[1;33m[\u001b[0m\u001b[1;36m7891234567\u001b[0m\u001b[1;33m,\u001b[0m\u001b[1;34m\"lkjhe@gmail.com\"\u001b[0m\u001b[1;33m]\u001b[0m\u001b[1;33m,\u001b[0m\u001b[1;34m\"name1\"\u001b[0m\u001b[1;33m:\u001b[0m\u001b[1;33m[\u001b[0m\u001b[1;36m9876543212\u001b[0m\u001b[1;33m,\u001b[0m\u001b[1;34m\"asdff@gmail.com\"\u001b[0m\u001b[1;33m]\u001b[0m\u001b[1;33m,\u001b[0m\u001b[1;34m\"name3\"\u001b[0m\u001b[1;33m:\u001b[0m\u001b[1;33m[\u001b[0m\u001b[1;36m7391235367\u001b[0m\u001b[1;33m,\u001b[0m\u001b[1;34m\"srgsfde@gmail.com\"\u001b[0m\u001b[1;33m]\u001b[0m\u001b[1;33m}\u001b[0m\u001b[1;33m\u001b[0m\u001b[1;33m\u001b[0m\u001b[0m\n\u001b[1;32m----> 2\u001b[1;33m \u001b[1;32mfor\u001b[0m \u001b[0mi\u001b[0m \u001b[1;32min\u001b[0m \u001b[0mcontacts\u001b[0m\u001b[1;33m.\u001b[0m\u001b[0mitems\u001b[0m\u001b[1;33m:\u001b[0m\u001b[1;33m\u001b[0m\u001b[1;33m\u001b[0m\u001b[0m\n\u001b[0m\u001b[0;32m      3\u001b[0m     \u001b[0mprint\u001b[0m\u001b[1;33m(\u001b[0m\u001b[0mi\u001b[0m\u001b[1;33m.\u001b[0m\u001b[0mkeys\u001b[0m\u001b[1;33m,\u001b[0m\u001b[1;34m\":\"\u001b[0m\u001b[1;33m,\u001b[0m\u001b[0mi\u001b[0m\u001b[1;33m.\u001b[0m\u001b[0mvalues\u001b[0m\u001b[1;33m)\u001b[0m\u001b[1;33m\u001b[0m\u001b[1;33m\u001b[0m\u001b[0m\n\u001b[0;32m      4\u001b[0m \u001b[1;33m\u001b[0m\u001b[0m\n\u001b[0;32m      5\u001b[0m \u001b[1;32mdef\u001b[0m \u001b[0mappendDataTOFile\u001b[0m\u001b[1;33m(\u001b[0m\u001b[0mfilename\u001b[0m\u001b[1;33m,\u001b[0m \u001b[0mfiledata\u001b[0m\u001b[1;33m)\u001b[0m\u001b[1;33m:\u001b[0m\u001b[1;33m\u001b[0m\u001b[1;33m\u001b[0m\u001b[0m\n",
      "\u001b[1;31mTypeError\u001b[0m: 'builtin_function_or_method' object is not iterable"
     ]
    }
   ],
   "source": [
    "contacts ={\"name1\":[9876543212,\"asdff@gmail.com\"],\"vamsi\":[8099610076,\"vmskrishna@gmail.com\"],\"name2\":[7891234567,\"lkjhe@gmail.com\"],\"name1\":[9876543212,\"asdff@gmail.com\"],\"name3\":[7391235367,\"srgsfde@gmail.com\"]}\n",
    "for i in contacts.items():\n",
    "    print(i.keys,\":\",i.values)\n",
    "\n",
    "def appendDataTOFile(filename, filedata):\n",
    "    with open(filename, 'a') as f:\n",
    "        f.write(contacts)\n",
    "        f.close()\n",
    "    return\n",
    "appendDataTOFile(\"DataFiles/data.txt\", contacts)"
   ]
  },
  {
   "cell_type": "code",
   "execution_count": null,
   "metadata": {},
   "outputs": [],
   "source": []
  },
  {
   "cell_type": "code",
   "execution_count": 1,
   "metadata": {},
   "outputs": [],
   "source": [
    "# Contacts list 1\n",
    "contacts = {\"name1\":[9876543212,\"asdff@gmail.com\"],\"vamsi\":[8099610076,\"vmskrishna@gmail.com\"],\"name2\":[7891234567,\"lkjhe@gmail.com\"],\"name1\":[9876543212,\"asdff@gmail.com\"],\"name3\":[7391235367,\"srgsfde@gmail.com\"]}\n",
    "\n",
    "def addContact(name,phone,email):   # contact will add only when contact doesnt exists\n",
    "    if name in contacts:# and phoneNumberValidator(phone):    # checking whether the input contact is already exists\n",
    "        print(\"contact %s already exists\" % name)\n",
    "        return\n",
    "    else:\n",
    "        if not phoneNumberValidator(phone):\n",
    "            print(\"invalid number\")\n",
    "            return\n",
    "        if not emailValidator(email):\n",
    "            print(\"invalid email\")\n",
    "            return\n",
    "        newcontact = []\n",
    "        newcontact.append(phone)\n",
    "        newcontact.append(email)\n",
    "        contacts[name] = newcontact\n",
    "    return \"contact added successfully\"\n",
    "# addContact(\"vamsi\",8099610076,\"vmskrishna@gmail.com\")\n",
    "# contacts\n",
    "\n",
    "# searching contacts\n",
    "def searchContact(name):\n",
    "    if name in contacts:\n",
    "        print(name)\n",
    "        print(\"phone :\",contacts[name][0])\n",
    "        print(\"Email :\",contacts[name][1])\n",
    "    else:\n",
    "        print(\"%s doesnt exists\" %name)\n",
    "    return\n",
    "\n",
    "def listAllContacts():\n",
    "    for contact,info in contacts.items():  # contact is key,info is name and email\n",
    "        print(contact,\"\\n\",\"Phone :\",info[0],\"\\n\",\"email :\",info[1])\n",
    "    return\n",
    "\n",
    "# New contacts is given as a dictionary\n",
    "# newContacts = {\"narayana\":[9618286014,\"parx@gmail.com\"],\"name2\":[7891234567,\"lkjhe@gmail.com\"],\"name1\":[9876543212,\"asdff@gmail.com\"],\"name3\":[7891235367,\"srgsfde@gmail.com\"]}\n",
    "# Merge new contacts with existing contacts\n",
    "newContacts= {}\n",
    "def importContacts(newContacts):\n",
    "    contacts.update(newContacts)\n",
    "    # print(len(newcontacts.keys()),\"Contacts added successfully\")\n",
    "    return\n",
    "\n",
    "def removeContact(name):\n",
    "    if name in contacts:\n",
    "        contacts.pop(name)\n",
    "        print(name,\":\",contacts[name],\"deleted\")\n",
    "    else:\n",
    "        print(\"contact doest exists to delete\")\n",
    "    return\n",
    "\n",
    "# Contacts list 2\n",
    "newContacts = {\"parx\":[9618286014,\"parx@gmail.com\"],\"peter\":[7891234567,\"peter@gmail.com\"],\"celio\":[9876543212,\"celio@gmail.com\"],\"name3\":[7891235367,\"srgsfde@gmail.com\"]}\n"
   ]
  },
  {
   "cell_type": "code",
   "execution_count": null,
   "metadata": {},
   "outputs": [],
   "source": []
  }
 ],
 "metadata": {
  "kernelspec": {
   "display_name": "Python 3",
   "language": "python",
   "name": "python3"
  },
  "language_info": {
   "codemirror_mode": {
    "name": "ipython",
    "version": 3
   },
   "file_extension": ".py",
   "mimetype": "text/x-python",
   "name": "python",
   "nbconvert_exporter": "python",
   "pygments_lexer": "ipython3",
   "version": "3.7.3"
  }
 },
 "nbformat": 4,
 "nbformat_minor": 2
}
