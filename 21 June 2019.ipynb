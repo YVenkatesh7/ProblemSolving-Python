{
 "cells": [
  {
   "cell_type": "code",
   "execution_count": 30,
   "metadata": {},
   "outputs": [
    {
     "name": "stdout",
     "output_type": "stream",
     "text": [
      "name2 already exists\n",
      "name3 added to contacts\n"
     ]
    }
   ],
   "source": [
    "from Packages.validators import phoneNumberValidator as pnv, emailValidator as ev\n",
    "#from Packages.validators import emailValidator as ev\n",
    "import re\n",
    "\n",
    "def addContact(name, phone, email):\n",
    "    # store data as name,email,phone in the contacts files\n",
    "    filename = 'DataFiles/contacts.txt'\n",
    "    if not checkContactExists(name):\n",
    "        if pnv(phone) and ev(email):\n",
    "            \n",
    "            with open(filename, 'a') as f:\n",
    "                line = name + ',' + str(phone) + ',' + email + '\\n'\n",
    "                f.write(line)\n",
    "            print(name, 'added to contacts')\n",
    "        else:\n",
    "            print(\"phone number and email invalid\")\n",
    "    else:\n",
    "        print(name, 'already exists')\n",
    "        return\n",
    "\n",
    "addContact('name2', 94946923, 'venkat')\n",
    "def checkContactExists(name):\n",
    "    filename = 'DataFiles/contacts.txt'\n",
    "    with open(filename, 'r') as f:\n",
    "        filedata = f.read()  \n",
    "        pattern = name+','\n",
    "    return re.search(pattern, filedata)\n",
    "addContact('name3', 9945678934, 'ahgshsdsdasd@gmail.com')\n"
   ]
  },
  {
   "cell_type": "code",
   "execution_count": 34,
   "metadata": {},
   "outputs": [
    {
     "data": {
      "text/plain": [
       "'name19494699851venkatesh.y@apssdc.in\\nname2name19494699851venkatesh.y@apssdc.in\\n9945678987name19494699851venkatesh.y@apssdc.in\\nahgshsdsd@gmail.comname3name19494699851venkatesh.y@apssdc.in\\n9945678934name19494699851venkatesh.y@apssdc.in\\nahgshsdsdasd@gmail.com\\n'"
      ]
     },
     "execution_count": 34,
     "metadata": {},
     "output_type": "execute_result"
    }
   ],
   "source": [
    "filename = 'DataFiles/contacts.txt'\n",
    "def csvToList(filename):\n",
    "    li = []\n",
    "    with open(filename, 'r') as f:\n",
    "        for line in f:\n",
    "            li.append(line.split(','))\n",
    "    return li\n",
    "def listToList(li):\n",
    "    s = ''\n",
    "    for i in li:\n",
    "        s += s.join(i)\n",
    "    return s\n",
    "li = csvToList(filename)\n",
    "listToList(li)"
   ]
  },
  {
   "cell_type": "code",
   "execution_count": null,
   "metadata": {},
   "outputs": [],
   "source": []
  }
 ],
 "metadata": {
  "kernelspec": {
   "display_name": "Python 3",
   "language": "python",
   "name": "python3"
  },
  "language_info": {
   "codemirror_mode": {
    "name": "ipython",
    "version": 3
   },
   "file_extension": ".py",
   "mimetype": "text/x-python",
   "name": "python",
   "nbconvert_exporter": "python",
   "pygments_lexer": "ipython3",
   "version": "3.7.3"
  }
 },
 "nbformat": 4,
 "nbformat_minor": 2
}
