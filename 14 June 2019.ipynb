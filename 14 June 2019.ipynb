{
 "cells": [
  {
   "cell_type": "markdown",
   "metadata": {},
   "source": [
    "### Problem Solving and Programming in Python -Day 4\n",
    "\n",
    "#### Date - 14 June 2019\n",
    "\n",
    "#### Day Objectives\n",
    "- Python Data Structures\n",
    "    - Lists\n",
    "    - Tuples\n",
    "    - Dictionaries\n",
    "- Basic Problem set on data structures\n",
    "- Advanced Problem Set\n",
    "- Packages and Modules in Python"
   ]
  },
  {
   "cell_type": "code",
   "execution_count": null,
   "metadata": {},
   "outputs": [],
   "source": []
  },
  {
   "cell_type": "markdown",
   "metadata": {},
   "source": [
    "### Python Data Structures\n",
    "\n",
    "#### Lists"
   ]
  },
  {
   "cell_type": "code",
   "execution_count": 3,
   "metadata": {},
   "outputs": [
    {
     "data": {
      "text/plain": [
       "[123, 234, 345, 456, 654, 789]"
      ]
     },
     "execution_count": 3,
     "metadata": {},
     "output_type": "execute_result"
    }
   ],
   "source": [
    "li = [123, 978, 654]\n",
    "\n",
    "li # Access the entire list\n",
    "\n",
    "li[1] # Accessing an element with index value in a list\n",
    "\n",
    "li[1:] # Access all elements from second to last element\n",
    "\n",
    "li = li[::-1] # reversing list elements and reassigning the list\n",
    "\n",
    "li\n",
    "\n",
    "li = li[::-1]\n",
    "\n",
    "li[::2] # Accessing even index elements\n",
    "\n",
    "li[0::2]# Accessing odd index elements\n",
    "\n",
    "# Lists can be accessed manipulated in two different ways\n",
    "    # Direct Referencing - [index]   disadv damage the data\n",
    "    # Indirect Referencing  - through functions\n",
    "    \n",
    "    \n",
    "\n",
    "# Adding elements to the end of the list\n",
    "li.append(345)\n",
    "\n",
    "# Adding an element at a particular\n",
    "li.insert(1,234)\n",
    "\n",
    "# Sort elements in ascending order\n",
    "li.sort() \n",
    "\n",
    "# Remove the last element\n",
    "li.pop()\n",
    "\n",
    "# Remove an Element at a perticular index\n",
    "li.pop(1)\n",
    "\n",
    "li2 = [234, 456, 789]\n",
    "\n",
    "# Merge list 2 into list 1\n",
    "li.extend(li2)\n",
    "\n",
    "sum(li) # sum of all elements in a list\n",
    "max(li) # maximum element in a list\n",
    "min(li) # minimum element in a list\n",
    "len(li) # number of elements in a list\n",
    "\n",
    "# Average of list\n",
    "sum(li)/len(li)\n",
    "\n",
    "# avareage of all alternative elements\n",
    "sum(li[1::2])/len(li[1::2])\n",
    "\n",
    "#\n",
    "li.sort()\n",
    "li"
   ]
  },
  {
   "cell_type": "code",
   "execution_count": 58,
   "metadata": {},
   "outputs": [
    {
     "name": "stdout",
     "output_type": "stream",
     "text": [
      "654\n",
      "enter a nth largest:8\n",
      "out of range\n"
     ]
    }
   ],
   "source": [
    "# Function to identify the second largest element in a list\n",
    "        # sort the data select the second largest element\n",
    "        # \n",
    "def secondLargest(li):\n",
    "    li.sort(reverse=True)\n",
    "    return li[1]\n",
    "secondLargest(li)\n",
    "\n",
    "# Function that returns the nth largest\n",
    "def genericLargest(li, n):\n",
    "    if (len(li)>=n):\n",
    "        li.sort(reverse=True)\n",
    "        return li[n-1]\n",
    "    else:\n",
    "        print(\"out of range\")\n",
    "n=int(input(\"enter a nth largest:\"))\n",
    "genericLargest(li,n)"
   ]
  },
  {
   "cell_type": "code",
   "execution_count": 19,
   "metadata": {},
   "outputs": [
    {
     "ename": "SyntaxError",
     "evalue": "invalid syntax (<ipython-input-19-8164c6202a1b>, line 21)",
     "output_type": "error",
     "traceback": [
      "\u001b[1;36m  File \u001b[1;32m\"<ipython-input-19-8164c6202a1b>\"\u001b[1;36m, line \u001b[1;32m21\u001b[0m\n\u001b[1;33m    return [index for index,i is enumerate(li) if i==li]\u001b[0m\n\u001b[1;37m                               ^\u001b[0m\n\u001b[1;31mSyntaxError\u001b[0m\u001b[1;31m:\u001b[0m invalid syntax\n"
     ]
    }
   ],
   "source": [
    "# function to search for data in a list\n",
    "# search for the key in the list and return the index of the key. return -1 if key not found\n",
    "li = [123, 234, 345, 456, 654, 789,789,789]\n",
    "def linearSearch(li, key):\n",
    "    for index in range(0, len(li)):\n",
    "        if(li[index]==key):\n",
    "            return index\n",
    "    return -1\n",
    "def linearSearch2(li, key):\n",
    "    for element in li:\n",
    "        if element==key:\n",
    "            return li.index(element)\n",
    "    return -1\n",
    "\n",
    "def linearSearch3(li, key):\n",
    "    if key in li:\n",
    "        return li.index(key)\n",
    "    else:\n",
    "        return -1\n",
    "linearSearch(li,789)\n",
    "#linearSearch(li, 234)\n",
    "            \n",
    "    "
   ]
  },
  {
   "cell_type": "code",
   "execution_count": 28,
   "metadata": {},
   "outputs": [
    {
     "data": {
      "text/plain": [
       "0"
      ]
     },
     "execution_count": 28,
     "metadata": {},
     "output_type": "execute_result"
    }
   ],
   "source": [
    "li = [123, 234, 345, 456, 654, 789,789,789]\n",
    "def mulIndex(li, key):\n",
    "    return [i for i,val in enumerate(li) if val==key]\n",
    "mulIndex(li, 789)\n",
    "\n",
    "\n",
    "# findout number of charecters in given string\n",
    "def countCharOccurance(s, c):\n",
    "    count = 0\n",
    "    for ch in s:\n",
    "        if ch == c:\n",
    "            count+=1\n",
    "    return count\n",
    "countCharOccurance(\"venkatvesh\", \"ve\")\n",
    "\n",
    "# function to find the number of occrance of substring\n",
    "\n",
    "def "
   ]
  },
  {
   "cell_type": "code",
   "execution_count": 9,
   "metadata": {},
   "outputs": [
    {
     "data": {
      "text/plain": [
       "[123, 234, 345, 456, 654, 789]"
      ]
     },
     "execution_count": 9,
     "metadata": {},
     "output_type": "execute_result"
    }
   ],
   "source": [
    "li"
   ]
  },
  {
   "cell_type": "code",
   "execution_count": 26,
   "metadata": {},
   "outputs": [
    {
     "data": {
      "text/plain": [
       "['__add__',\n",
       " '__class__',\n",
       " '__contains__',\n",
       " '__delattr__',\n",
       " '__dir__',\n",
       " '__doc__',\n",
       " '__eq__',\n",
       " '__format__',\n",
       " '__ge__',\n",
       " '__getattribute__',\n",
       " '__getitem__',\n",
       " '__getnewargs__',\n",
       " '__gt__',\n",
       " '__hash__',\n",
       " '__init__',\n",
       " '__init_subclass__',\n",
       " '__iter__',\n",
       " '__le__',\n",
       " '__len__',\n",
       " '__lt__',\n",
       " '__mod__',\n",
       " '__mul__',\n",
       " '__ne__',\n",
       " '__new__',\n",
       " '__reduce__',\n",
       " '__reduce_ex__',\n",
       " '__repr__',\n",
       " '__rmod__',\n",
       " '__rmul__',\n",
       " '__setattr__',\n",
       " '__sizeof__',\n",
       " '__str__',\n",
       " '__subclasshook__',\n",
       " 'capitalize',\n",
       " 'casefold',\n",
       " 'center',\n",
       " 'count',\n",
       " 'encode',\n",
       " 'endswith',\n",
       " 'expandtabs',\n",
       " 'find',\n",
       " 'format',\n",
       " 'format_map',\n",
       " 'index',\n",
       " 'isalnum',\n",
       " 'isalpha',\n",
       " 'isascii',\n",
       " 'isdecimal',\n",
       " 'isdigit',\n",
       " 'isidentifier',\n",
       " 'islower',\n",
       " 'isnumeric',\n",
       " 'isprintable',\n",
       " 'isspace',\n",
       " 'istitle',\n",
       " 'isupper',\n",
       " 'join',\n",
       " 'ljust',\n",
       " 'lower',\n",
       " 'lstrip',\n",
       " 'maketrans',\n",
       " 'partition',\n",
       " 'replace',\n",
       " 'rfind',\n",
       " 'rindex',\n",
       " 'rjust',\n",
       " 'rpartition',\n",
       " 'rsplit',\n",
       " 'rstrip',\n",
       " 'split',\n",
       " 'splitlines',\n",
       " 'startswith',\n",
       " 'strip',\n",
       " 'swapcase',\n",
       " 'title',\n",
       " 'translate',\n",
       " 'upper',\n",
       " 'zfill']"
      ]
     },
     "execution_count": 26,
     "metadata": {},
     "output_type": "execute_result"
    }
   ],
   "source": [
    "dir(str)"
   ]
  },
  {
   "cell_type": "code",
   "execution_count": null,
   "metadata": {},
   "outputs": [],
   "source": []
  }
 ],
 "metadata": {
  "kernelspec": {
   "display_name": "Python 3",
   "language": "python",
   "name": "python3"
  },
  "language_info": {
   "codemirror_mode": {
    "name": "ipython",
    "version": 3
   },
   "file_extension": ".py",
   "mimetype": "text/x-python",
   "name": "python",
   "nbconvert_exporter": "python",
   "pygments_lexer": "ipython3",
   "version": "3.7.3"
  }
 },
 "nbformat": 4,
 "nbformat_minor": 2
}
